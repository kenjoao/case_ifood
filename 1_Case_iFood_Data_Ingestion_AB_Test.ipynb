{
 "cells": [
  {
   "cell_type": "markdown",
   "metadata": {
    "application/vnd.databricks.v1+cell": {
     "cellMetadata": {},
     "inputWidgets": {},
     "nuid": "48c49f90-b07e-4923-84c2-a85260ddabd3",
     "showTitle": false,
     "tableResultSettingsMap": {},
     "title": ""
    }
   },
   "source": [
    "## 1. Importando Bibliotecas"
   ]
  },
  {
   "cell_type": "code",
   "execution_count": 0,
   "metadata": {
    "application/vnd.databricks.v1+cell": {
     "cellMetadata": {
      "byteLimit": 2048000,
      "rowLimit": 10000
     },
     "inputWidgets": {},
     "nuid": "6519feaa-549d-408f-9d25-7c62d0ff5588",
     "showTitle": false,
     "tableResultSettingsMap": {},
     "title": ""
    }
   },
   "outputs": [],
   "source": [
    "# Bibliotecas PySpark\n",
    "\n",
    "# Sessão Spark - ponto de entrada para usar o PySpark\n",
    "from pyspark.sql import SparkSession\n",
    "\n",
    "# Funções do PySpark para transformar e manipular colunas\n",
    "from pyspark.sql.functions import (\n",
    "    col,           # Seleção e transformação de colunas\n",
    "    when,          # Condicionais (if-else)\n",
    "    to_timestamp,  # Conversão de string para timestamp\n",
    "    avg,           # Média\n",
    "    sum,           # Soma\n",
    "    count,         # Contagem\n",
    "    countDistinct, # Contagem de valores distintos\n",
    "    month          # Extração de mês de data\n",
    ")\n",
    "\n",
    "# Tipos de dados usados na definição de schema\n",
    "from pyspark.sql.types import (\n",
    "    StringType, \n",
    "    BooleanType, \n",
    "    IntegerType, \n",
    "    FloatType, \n",
    "    DoubleType,\n",
    "    ArrayType, \n",
    "    StructType, \n",
    "    StructField\n",
    ")\n"
   ]
  },
  {
   "cell_type": "code",
   "execution_count": 0,
   "metadata": {
    "application/vnd.databricks.v1+cell": {
     "cellMetadata": {
      "byteLimit": 2048000,
      "rowLimit": 10000
     },
     "inputWidgets": {},
     "nuid": "3677b4f0-ee64-4e8b-8cd8-daf22a5a42c4",
     "showTitle": false,
     "tableResultSettingsMap": {},
     "title": ""
    }
   },
   "outputs": [],
   "source": [
    "# Bibliotecas de download e manipulação de arquivos\n",
    "\n",
    "# Biblioteca padrão para requisições HTTP\n",
    "import requests\n",
    "\n",
    "# Biblioteca padrão para lidar com arquivos .tar.gz\n",
    "import tarfile\n",
    "\n",
    "# Biblioteca padrão para operações com caminhos e arquivos no sistema\n",
    "import os\n",
    "import urllib.request"
   ]
  },
  {
   "cell_type": "markdown",
   "metadata": {
    "application/vnd.databricks.v1+cell": {
     "cellMetadata": {},
     "inputWidgets": {},
     "nuid": "cfdbac75-e817-414e-8294-e63b69d5f21c",
     "showTitle": false,
     "tableResultSettingsMap": {},
     "title": ""
    }
   },
   "source": [
    "## 2. Leitura dos arquivos"
   ]
  },
  {
   "cell_type": "code",
   "execution_count": 0,
   "metadata": {
    "application/vnd.databricks.v1+cell": {
     "cellMetadata": {
      "byteLimit": 2048000,
      "rowLimit": 10000
     },
     "inputWidgets": {},
     "nuid": "bdc0fb9e-4716-41f3-bbff-6e10ee6f60d7",
     "showTitle": false,
     "tableResultSettingsMap": {},
     "title": ""
    }
   },
   "outputs": [],
   "source": [
    "\n",
    "# Leitura dos Arquivos JSON e CSV no S3\n",
    "\n",
    "# Caminhos dos arquivos no S3\n",
    "order_path = \"s3a://data-architect-test-source/order.json.gz\"\n",
    "consumer_path = \"s3a://data-architect-test-source/consumer.csv.gz\"\n",
    "restaurant_path = \"s3a://data-architect-test-source/restaurant.csv.gz\"\n",
    "\n",
    "# Leitura do JSON (Pedidos)\n",
    "df_order = spark.read.json(order_path)\n",
    "\n",
    "# Leitura dos CSVs (Usuários e Restaurantes)\n",
    "df_consumer = spark.read.option(\"header\", \"true\").csv(consumer_path)\n",
    "df_restaurant = spark.read.option(\"header\", \"true\").csv(restaurant_path)\n",
    "\n"
   ]
  },
  {
   "cell_type": "code",
   "execution_count": 0,
   "metadata": {
    "application/vnd.databricks.v1+cell": {
     "cellMetadata": {
      "byteLimit": 2048000,
      "rowLimit": 10000
     },
     "inputWidgets": {},
     "nuid": "b4971c3b-b56f-471e-afa1-c76679922987",
     "showTitle": false,
     "tableResultSettingsMap": {},
     "title": ""
    }
   },
   "outputs": [],
   "source": [
    "df_orders_raw = spark.read.option(\"multiline\", \"true\").json(order_path)\n",
    "df_consumers_raw = spark.read.option(\"header\", \"true\").csv(consumer_path)\n",
    "df_restaurant_raw = spark.read.option(\"header\", \"true\").csv(restaurant_path)"
   ]
  },
  {
   "cell_type": "markdown",
   "metadata": {
    "application/vnd.databricks.v1+cell": {
     "cellMetadata": {},
     "inputWidgets": {},
     "nuid": "90cf0135-3103-4d82-a1a4-a2828104e784",
     "showTitle": false,
     "tableResultSettingsMap": {},
     "title": ""
    }
   },
   "source": [
    "## 3. Ajuste dos tipos de dados"
   ]
  },
  {
   "cell_type": "code",
   "execution_count": 0,
   "metadata": {
    "application/vnd.databricks.v1+cell": {
     "cellMetadata": {
      "byteLimit": 2048000,
      "rowLimit": 10000
     },
     "inputWidgets": {},
     "nuid": "620b6d5b-a68f-4fd4-99e7-1f0853c8420b",
     "showTitle": false,
     "tableResultSettingsMap": {},
     "title": ""
    }
   },
   "outputs": [],
   "source": [
    "df_orders = df_orders_raw \\\n",
    "    .withColumn(\"cpf\", col(\"cpf\").cast(StringType())) \\\n",
    "    .withColumn(\"customer_id\", col(\"customer_id\").cast(StringType())) \\\n",
    "    .withColumn(\"customer_name\", col(\"customer_name\").cast(StringType())) \\\n",
    "    .withColumn(\"delivery_address_city\", col(\"delivery_address_city\").cast(StringType())) \\\n",
    "    .withColumn(\"delivery_address_country\", col(\"delivery_address_country\").cast(StringType())) \\\n",
    "    .withColumn(\"delivery_address_district\", col(\"delivery_address_district\").cast(StringType())) \\\n",
    "    .withColumn(\"delivery_address_external_id\", col(\"delivery_address_external_id\").cast(StringType())) \\\n",
    "    .withColumn(\"delivery_address_latitude\", col(\"delivery_address_latitude\").cast(FloatType())) \\\n",
    "    .withColumn(\"delivery_address_longitude\", col(\"delivery_address_longitude\").cast(FloatType())) \\\n",
    "    .withColumn(\"delivery_address_state\", col(\"delivery_address_state\").cast(StringType())) \\\n",
    "    .withColumn(\"delivery_address_zip_code\", col(\"delivery_address_zip_code\").cast(StringType())) \\\n",
    "    .withColumn(\"merchant_id\", col(\"merchant_id\").cast(StringType())) \\\n",
    "    .withColumn(\"merchant_latitude\", col(\"merchant_latitude\").cast(FloatType())) \\\n",
    "    .withColumn(\"merchant_longitude\", col(\"merchant_longitude\").cast(FloatType())) \\\n",
    "    .withColumn(\"merchant_timezone\", col(\"merchant_timezone\").cast(StringType())) \\\n",
    "    .withColumn(\"order_created_at\", to_timestamp(\"order_created_at\")) \\\n",
    "    .withColumn(\"order_id\", col(\"order_id\").cast(StringType())) \\\n",
    "    .withColumn(\"order_scheduled\", col(\"order_scheduled\").cast(BooleanType())) \\\n",
    "    .withColumn(\"order_total_amount\", col(\"order_total_amount\").cast(FloatType())) \\\n",
    "    .withColumn(\"origin_platform\", col(\"origin_platform\").cast(StringType()))"
   ]
  },
  {
   "cell_type": "code",
   "execution_count": 0,
   "metadata": {
    "application/vnd.databricks.v1+cell": {
     "cellMetadata": {
      "byteLimit": 2048000,
      "rowLimit": 10000
     },
     "inputWidgets": {},
     "nuid": "528736a0-71d8-40a7-a937-467b245d3b52",
     "showTitle": false,
     "tableResultSettingsMap": {},
     "title": ""
    }
   },
   "outputs": [],
   "source": [
    "# df_consumers\n",
    "df_consumers = df_consumers_raw \\\n",
    "    .withColumn(\"customer_id\", col(\"customer_id\").cast(StringType())) \\\n",
    "    .withColumn(\"language\", col(\"language\").cast(StringType())) \\\n",
    "    .withColumn(\"created_at\", to_timestamp(\"created_at\")) \\\n",
    "    .withColumn(\"active\", col(\"active\").cast(BooleanType())) \\\n",
    "    .withColumn(\"customer_name\", col(\"customer_name\").cast(StringType())) \\\n",
    "    .withColumn(\"customer_phone_area\", col(\"customer_phone_area\").cast(StringType())) \\\n",
    "    .withColumn(\"customer_phone_number\", col(\"customer_phone_number\").cast(StringType()))\n"
   ]
  },
  {
   "cell_type": "code",
   "execution_count": 0,
   "metadata": {
    "application/vnd.databricks.v1+cell": {
     "cellMetadata": {
      "byteLimit": 2048000,
      "rowLimit": 10000
     },
     "inputWidgets": {},
     "nuid": "b362a7b0-e9c8-4fb2-9021-afce37784ef9",
     "showTitle": false,
     "tableResultSettingsMap": {},
     "title": ""
    }
   },
   "outputs": [],
   "source": [
    "df_restaurant = df_restaurant_raw \\\n",
    "    .withColumn(\"id\", col(\"id\").cast(StringType())) \\\n",
    "    .withColumn(\"created_at\", to_timestamp(\"created_at\")) \\\n",
    "    .withColumn(\"enabled\", col(\"enabled\").cast(BooleanType())) \\\n",
    "    .withColumn(\"price_range\", col(\"price_range\").cast(IntegerType())) \\\n",
    "    .withColumn(\"average_ticket\", col(\"average_ticket\").cast(FloatType())) \\\n",
    "    .withColumn(\"delivery_time\", col(\"delivery_time\").cast(FloatType())) \\\n",
    "    .withColumn(\"minimum_order_value\", col(\"minimum_order_value\").cast(FloatType())) \\\n",
    "    .withColumn(\"merchant_zip_code\", col(\"merchant_zip_code\").cast(StringType())) \\\n",
    "    .withColumn(\"merchant_city\", col(\"merchant_city\").cast(StringType())) \\\n",
    "    .withColumn(\"merchant_state\", col(\"merchant_state\").cast(StringType())) \\\n",
    "    .withColumn(\"merchant_country\", col(\"merchant_country\").cast(StringType()))\n"
   ]
  },
  {
   "cell_type": "markdown",
   "metadata": {
    "application/vnd.databricks.v1+cell": {
     "cellMetadata": {},
     "inputWidgets": {},
     "nuid": "0d350e9a-20ee-49bc-a33e-1166ea77442e",
     "showTitle": false,
     "tableResultSettingsMap": {},
     "title": ""
    }
   },
   "source": [
    "## 4. Arquivo ab_test_ref"
   ]
  },
  {
   "cell_type": "code",
   "execution_count": 0,
   "metadata": {
    "application/vnd.databricks.v1+cell": {
     "cellMetadata": {
      "byteLimit": 2048000,
      "rowLimit": 10000
     },
     "inputWidgets": {},
     "nuid": "64febb22-02f5-4811-b091-8837302e774e",
     "showTitle": false,
     "tableResultSettingsMap": {},
     "title": ""
    },
    "jupyter": {
     "outputs_hidden": true
    }
   },
   "outputs": [
    {
     "output_type": "display_data",
     "data": {
     },
     "metadata": {
     }
   ],
   "source": [
    "# Baixar o arquivo\n",
    "local_tar_path = \"/Workspace/Users/kleyton.kenji@gmail.com/ifood/ab_test_ref.tar.gz\"\n",
    "urllib.request.urlretrieve(ab_test_url, local_tar_path)\n",
    "\n",
    "# Extrair\n",
    "extract_path = \"/Workspace/Users/kleyton.kenji@gmail.com/ifood/ab_test_ref_extracted\"\n",
    "with tarfile.open(local_tar_path, \"r:gz\") as tar:\n",
    "    tar.extractall(path=extract_path)\n",
    "\n",
    "# Leitura do CSV extraído\n",
    "ab_test_csv_path = f\"{extract_path}/ab_test_ref.csv\"\n",
    "df_ab_test = spark.read.option(\"header\", \"true\").csv(ab_test_csv_path)\n",
    "\n",
    "# Cast de colunas (ajuste conforme necessário)\n",
    "df_ab_test = df_ab_test \\\n",
    "    .withColumn(\"customer_id\", col(\"customer_id\").cast(StringType())) \\\n",
    "    .withColumn(\"group\", col(\"group\").cast(StringType()))\n",
    "\n",
    "display(df_ab_test)"
   ]
  },
  {
   "cell_type": "markdown",
   "metadata": {
    "application/vnd.databricks.v1+cell": {
     "cellMetadata": {},
     "inputWidgets": {},
     "nuid": "10e1947a-d3b7-45ad-ae03-e2f2e66d2bdc",
     "showTitle": false,
     "tableResultSettingsMap": {},
     "title": ""
    }
   },
   "source": [
    "## 5. Ingestão dos dados"
   ]
  },
  {
   "cell_type": "code",
   "execution_count": 0,
   "metadata": {
    "application/vnd.databricks.v1+cell": {
     "cellMetadata": {
      "byteLimit": 2048000,
      "rowLimit": 10000
     },
     "inputWidgets": {},
     "nuid": "d046e57a-34ca-4843-871d-9b56cdaa4179",
     "showTitle": false,
     "tableResultSettingsMap": {},
     "title": ""
    }
   },
   "outputs": [
    {
     "output_type": "display_data",
     "data": {
      "text/plain": [
       ""
      ]
     },
     "metadata": {
      "application/vnd.databricks.v1+output": {
       "addedWidgets": {},
       "arguments": {},
       "datasetInfos": [],
       "jupyterProps": null,
       "metadata": {
        "errorSummary": "Command skipped"
       },
       "removedWidgets": [],
       "sqlProps": null,
       "stackFrames": [],
       "type": "baseError"
      }
     },
     "output_type": "display_data"
    }
   ],
   "source": [
    "# Criar o banco lógico se não existir\n",
    "spark.sql(\"CREATE DATABASE IF NOT EXISTS ifood_bronze\")\n",
    "\n",
    "# Salvar as tabelas\n",
    "df_orders.write.format(\"delta\").mode(\"overwrite\").saveAsTable(\"ifood_bronze.orders\")\n",
    "df_consumers.write.format(\"delta\").mode(\"overwrite\").saveAsTable(\"ifood_bronze.consumers\")\n",
    "df_restaurant.write.format(\"delta\").mode(\"overwrite\").saveAsTable(\"ifood_bronze.restaurants\")\n",
    "df_ab_test.write.format(\"delta\").mode(\"overwrite\").saveAsTable(\"ifood_bronze.ab_test_ref\")\n",
    "\n",
    "print(\"Tabelas salvas com sucesso.\")\n",
    "spark.sql(\"SHOW TABLES IN ifood_bronze\").show()"
   ]
  }
 ],
 "metadata": {
  "application/vnd.databricks.v1+notebook": {
   "computePreferences": null,
   "dashboards": [],
   "environmentMetadata": {
    "base_environment": "",
    "environment_version": "2"
   },
   "inputWidgetPreferences": null,
   "language": "python",
   "notebookMetadata": {
    "pythonIndentUnit": 4
   },
   "notebookName": "1_Case_iFood_Data_Ingestion_AB_Test",
   "widgets": {}
  },
  "language_info": {
   "name": "python"
  }
 },
 "nbformat": 4,
 "nbformat_minor": 0
}
