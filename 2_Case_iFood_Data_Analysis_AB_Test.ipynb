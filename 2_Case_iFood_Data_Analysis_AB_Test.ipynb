{
 "cells": [
  {
   "cell_type": "markdown",
   "metadata": {
    "application/vnd.databricks.v1+cell": {
     "cellMetadata": {},
     "inputWidgets": {},
     "nuid": "d6b28281-3f30-48b9-ab1a-734c909089cb",
     "showTitle": false,
     "tableResultSettingsMap": {},
     "title": ""
    }
   },
   "source": [
    "## 1. Introdução\n",
    "\n",
    "O presente projeto tem como objetivo analisar os resultados de um experimento A/B conduzido pelo iFood para avaliar o impacto de uma campanha de cupons sobre a retenção de usuários. O iFood, uma das maiores empresas de tecnologia da América Latina, utiliza constantemente testes A/B para validar hipóteses de crescimento e viabilidade de novas funcionalidades.\n",
    "\n",
    "Neste contexto, fui contratado como Analista de Dados para investigar os resultados da campanha, mensurar seu impacto, analisar sua viabilidade financeira e propor melhorias com base nos dados disponibilizados. Ao longo deste estudo, também será explorada a possibilidade de segmentar usuários de forma estratégica para otimizar futuras ações de marketing e retenção.\n"
   ]
  },
  {
   "cell_type": "markdown",
   "metadata": {
    "application/vnd.databricks.v1+cell": {
     "cellMetadata": {},
     "inputWidgets": {},
     "nuid": "4bf7ea09-1765-4182-a293-1fdc9599c128",
     "showTitle": false,
     "tableResultSettingsMap": {},
     "title": ""
    }
   },
   "source": [
    "## 2. Entendimento dos Dados\n",
    "\n",
    "A análise foi conduzida com base em quatro datasets fornecidos:\n",
    "\n",
    "- **Pedidos** (order.json.gz): Contém cerca de 3,6 milhões de pedidos realizados entre dez/2018 e jan/2019, com informações detalhadas de transações, usuários e restaurantes envolvidos.\n",
    "- **Usuários** (consumer.csv.gz): Base com aproximadamente 806 mil usuários, contendo dados cadastrais e indicadores de atividade.\n",
    "- **Restaurantes** (restaurant.csv.gz): Informações de cerca de 7 mil estabelecimentos, com dados como localização, faixa de preço e ticket médio.\n",
    "- **Marcação do Teste A/B** (ab_test_ref.tar.gz): Lista de usuários com a identificação do grupo ao qual pertencem no experimento (controle ou exposto à campanha).\n",
    "\n",
    "Esses dados foram integrados e processados de forma a permitir uma análise cruzada entre comportamento de consumo, grupo experimental e atributos dos usuários e restaurantes. Antes da análise exploratória, foi realizado um processo de limpeza e preparação dos dados, seguindo boas práticas de ETL e de construção de pipelines."
   ]
  },
  {
   "cell_type": "markdown",
   "metadata": {
    "application/vnd.databricks.v1+cell": {
     "cellMetadata": {},
     "inputWidgets": {},
     "nuid": "09bd5649-a09e-4439-88c0-2d3d2afd3298",
     "showTitle": false,
     "tableResultSettingsMap": {},
     "title": ""
    }
   },
   "source": [
    "## 3. Metodologia\n",
    "\n",
    "A abordagem analítica adotada seguiu as seguintes etapas:\n",
    "\n",
    "- **Definição de Métricas-Chave**: Foram selecionados indicadores relevantes para avaliar o sucesso da campanha de cupons, como:\n",
    "- **Taxa de conversão**: proporção de usuários que realizaram pedidos.\n",
    "- **Ticket Médio por Usuário**: total gasto dividido pelo número de usuários.\n",
    "- **Ticket Médio por Pedido**: valor médio por pedido.\n",
    "- **Frequência de pedidos**: número médio de pedidos por usuário.\n",
    "- **Comparação entre Grupos**: As métricas foram calculadas separadamente para o grupo de controle e para o grupo impactado pela campanha. Foram aplicados testes estatísticos para verificar se as diferenças observadas são estatisticamente significativas.\n",
    "- **Análise de Viabilidade Financeira**: Com base nos resultados, foi estimado o impacto financeiro da campanha, considerando premissas realistas para custo do cupom e receita adicional gerada.\n",
    "- **Criação de Segmentações**: Usuários foram agrupados com base em comportamentos e características comuns, com o objetivo de analisar a efetividade da campanha dentro de cada segmento e propor estratégias personalizadas.\n",
    "- **Recomendações Estratégicas**: Com base nos insights obtidos, foram sugeridas ações futuras para o iFood, com estimativas de impacto e viabilidade."
   ]
  },
  {
   "cell_type": "markdown",
   "metadata": {
    "application/vnd.databricks.v1+cell": {
     "cellMetadata": {},
     "inputWidgets": {},
     "nuid": "ee7f7988-d213-412a-8127-1b9daa525be7",
     "showTitle": false,
     "tableResultSettingsMap": {},
     "title": ""
    }
   },
   "source": [
    "Para assegurar que as diferenças observadas entre o grupo de controle (GC) e o grupo exposto à campanha (PA) não ocorreram por acaso, é fundamental considerar o tamanho amostral e a margem de erro da análise.\n",
    "\n",
    "- População total: 806.467 usuários\n",
    "- Participação do grupo de controle (GC): 44,7%\n",
    "- Tamanho do grupo de controle: 360.542 usuários\n",
    "- Participação do grupo abordado (PA): 55,3%\n",
    "- Margem de erro estimada (com população conhecida): ±0,16 ponto percentual\n",
    "\n",
    "Essa margem de erro é extremamente baixa, o que indica que o tamanho amostral é robusto o suficiente para identificar diferenças estatisticamente significativas entre os grupos com alto nível de confiança.\n",
    "\n",
    "Ao longo da análise, foram utilizados testes estatísticos para validar as hipóteses levantadas (como diferença nas taxas de conversão ou diferença de ticket médio entre GC e PA). Como o erro máximo é de apenas 0,16 p.p., diferenças maiores que esse valor podem ser interpretadas com segurança como estatisticamente relevantes."
   ]
  },
  {
   "cell_type": "markdown",
   "metadata": {
    "application/vnd.databricks.v1+cell": {
     "cellMetadata": {},
     "inputWidgets": {},
     "nuid": "093dcdca-7a30-432f-9608-b6f7de9caccf",
     "showTitle": false,
     "tableResultSettingsMap": {},
     "title": ""
    }
   },
   "source": [
    "## 4. Questão 1\n",
    "\n",
    "No iFood, várias áreas utilizam testes A/B para avaliar o impacto de\n",
    "ações em diferentes métricas. Esses testes permitem validar hipóteses\n",
    "de crescimento e a viabilidade de novas funcionalidades em um grupo\n",
    "restrito de usuários. Nos dados fornecidos nesse case você encontrará\n",
    "uma marcação de usuários, separando-os entre grupo teste e controle\n",
    "de uma campanha de cupons, que disponibilizou para os usuários do\n",
    "grupo teste um cupom especial.\n",
    "\n",
    "**a)** Defina os indicadores relevantes para mensurar o sucesso da\n",
    "campanha e analise se ela teve impacto significativo dentro do\n",
    "período avaliado. "
   ]
  },
  {
   "cell_type": "markdown",
   "metadata": {
    "application/vnd.databricks.v1+cell": {
     "cellMetadata": {},
     "inputWidgets": {},
     "nuid": "0af7aa18-dec3-4973-95eb-ccef705a6445",
     "showTitle": false,
     "tableResultSettingsMap": {},
     "title": ""
    }
   },
   "source": [
    "- **Taxa de conversão** (usuários que fizeram pedido / usuários expostos)\n",
    "- **Receita média por usuário** (receita total / número de usuários)\n",
    "- **Ticket médio por pedido** (receita total / número de pedidos)\n",
    "- **Frequência de pedidos** (número de pedidos / número de usuários)"
   ]
  },
  {
   "cell_type": "markdown",
   "metadata": {
    "application/vnd.databricks.v1+cell": {
     "cellMetadata": {},
     "inputWidgets": {},
     "nuid": "2c504260-4c84-41b8-b5e8-9e996c8896b5",
     "showTitle": false,
     "tableResultSettingsMap": {},
     "title": ""
    }
   },
   "source": [
    "### 4.1 Taxa de Conversão"
   ]
  },
  {
   "cell_type": "markdown",
   "metadata": {
    "application/vnd.databricks.v1+cell": {
     "cellMetadata": {},
     "inputWidgets": {},
     "nuid": "79986c6f-d5db-494c-8483-1b23c624bd57",
     "showTitle": false,
     "tableResultSettingsMap": {},
     "title": ""
    }
   },
   "source": [
    "Verificar dos usuários que são PA / GC, quantos estão presentes na tabela orders. Comparar as taxas de conversão para entender se existe lift."
   ]
  },
  {
   "cell_type": "code",
   "execution_count": 0,
   "metadata": {
    "application/vnd.databricks.v1+cell": {
     "cellMetadata": {
      "byteLimit": 2048000,
      "implicitDf": true,
      "rowLimit": 10000
     },
     "inputWidgets": {},
     "nuid": "1f32e776-cf1d-47be-8930-6a92a3a20943",
     "showTitle": false,
     "tableResultSettingsMap": {},
     "title": ""
    }
   },
   "outputs": [
    {
     "output_type": "display_data",
     "data": {
      "text/html": [
       "<style scoped>\n",
       "  .table-result-container {\n",
       "    max-height: 300px;\n",
       "    overflow: auto;\n",
       "  }\n",
       "  table, th, td {\n",
       "    border: 1px solid black;\n",
       "    border-collapse: collapse;\n",
       "  }\n",
       "  th, td {\n",
       "    padding: 5px;\n",
       "  }\n",
       "  th {\n",
       "    text-align: left;\n",
       "  }\n",
       "</style><div class='table-result-container'><table class='table-result'><thead style='background-color: white'><tr><th>is_target</th><th>distinct_customer_count</th></tr></thead><tbody><tr><td>control</td><td>360542</td></tr><tr><td>target</td><td>445925</td></tr></tbody></table></div>"
      ]
     },
     "metadata": {
      "application/vnd.databricks.v1+output": {
       "addedWidgets": {},
       "aggData": [],
       "aggError": "",
       "aggOverflow": false,
       "aggSchema": [],
       "aggSeriesLimitReached": false,
       "aggType": "",
       "arguments": {},
       "columnCustomDisplayInfos": {},
       "data": [
        [
         "control",
         360542
        ],
        [
         "target",
         445925
        ]
       ],
       "datasetInfos": [
        {
         "name": "_sqldf",
         "schema": {
          "fields": [
           {
            "metadata": {},
            "name": "is_target",
            "nullable": true,
            "type": "string"
           },
           {
            "metadata": {},
            "name": "distinct_customer_count",
            "nullable": false,
            "type": "long"
           }
          ],
          "type": "struct"
         },
         "tableIdentifier": null,
         "typeStr": "pyspark.sql.connect.dataframe.DataFrame"
        }
       ],
       "dbfsResultPath": null,
       "isJsonSchema": true,
       "metadata": {
        "createTempViewForImplicitDf": true,
        "dataframeName": "_sqldf",
        "executionCount": 36
       },
       "overflow": false,
       "plotOptions": {
        "customPlotOptions": {},
        "displayType": "table",
        "pivotAggregation": null,
        "pivotColumns": null,
        "xColumns": null,
        "yColumns": null
       },
       "removedWidgets": [],
       "schema": [
        {
         "metadata": "{}",
         "name": "is_target",
         "type": "\"string\""
        },
        {
         "metadata": "{}",
         "name": "distinct_customer_count",
         "type": "\"long\""
        }
       ],
       "type": "table"
      }
     },
     "output_type": "display_data"
    }
   ],
   "source": [
    "%sql\n",
    "SELECT \n",
    "    is_target,\n",
    "    COUNT(DISTINCT customer_id) AS distinct_customer_count\n",
    "FROM ifood_bronze.ab_test_ref\n",
    "-- Agrupa os dados para cálculo de métricas agregadas\n",
    "GROUP BY is_target"
   ]
  },
  {
   "cell_type": "code",
   "execution_count": 0,
   "metadata": {
    "application/vnd.databricks.v1+cell": {
     "cellMetadata": {
      "byteLimit": 2048000,
      "implicitDf": true,
      "rowLimit": 10000
     },
     "inputWidgets": {},
     "nuid": "7853e765-2604-4460-a9c2-f1b1635f0ce3",
     "showTitle": false,
     "tableResultSettingsMap": {},
     "title": ""
    }
   },
   "outputs": [
    {
     "output_type": "display_data",
     "data": {
      "text/html": [
       "<style scoped>\n",
       "  .table-result-container {\n",
       "    max-height: 300px;\n",
       "    overflow: auto;\n",
       "  }\n",
       "  table, th, td {\n",
       "    border: 1px solid black;\n",
       "    border-collapse: collapse;\n",
       "  }\n",
       "  th, td {\n",
       "    padding: 5px;\n",
       "  }\n",
       "  th {\n",
       "    text-align: left;\n",
       "  }\n",
       "</style><div class='table-result-container'><table class='table-result'><thead style='background-color: white'><tr><th>is_target</th><th>pedido</th><th>distinct_customer_count</th></tr></thead><tbody><tr><td>control</td><td>true</td><td>360542</td></tr><tr><td>target</td><td>true</td><td>445924</td></tr><tr><td>target</td><td>false</td><td>1</td></tr></tbody></table></div>"
      ]
     },
     "metadata": {
      "application/vnd.databricks.v1+output": {
       "addedWidgets": {},
       "aggData": [],
       "aggError": "",
       "aggOverflow": false,
       "aggSchema": [],
       "aggSeriesLimitReached": false,
       "aggType": "",
       "arguments": {},
       "columnCustomDisplayInfos": {},
       "data": [
        [
         "control",
         "true",
         360542
        ],
        [
         "target",
         "true",
         445924
        ],
        [
         "target",
         "false",
         1
        ]
       ],
       "datasetInfos": [
        {
         "name": "_sqldf",
         "schema": {
          "fields": [
           {
            "metadata": {},
            "name": "is_target",
            "nullable": true,
            "type": "string"
           },
           {
            "metadata": {},
            "name": "pedido",
            "nullable": false,
            "type": "string"
           },
           {
            "metadata": {},
            "name": "distinct_customer_count",
            "nullable": false,
            "type": "long"
           }
          ],
          "type": "struct"
         },
         "tableIdentifier": null,
         "typeStr": "pyspark.sql.connect.dataframe.DataFrame"
        }
       ],
       "dbfsResultPath": null,
       "isJsonSchema": true,
       "metadata": {
        "createTempViewForImplicitDf": true,
        "dataframeName": "_sqldf",
        "executionCount": 34
       },
       "overflow": false,
       "plotOptions": {
        "customPlotOptions": {},
        "displayType": "table",
        "pivotAggregation": null,
        "pivotColumns": null,
        "xColumns": null,
        "yColumns": null
       },
       "removedWidgets": [],
       "schema": [
        {
         "metadata": "{}",
         "name": "is_target",
         "type": "\"string\""
        },
        {
         "metadata": "{}",
         "name": "pedido",
         "type": "\"string\""
        },
        {
         "metadata": "{}",
         "name": "distinct_customer_count",
         "type": "\"long\""
        }
       ],
       "type": "table"
      }
     },
     "output_type": "display_data"
    },
    {
     "output_type": "display_data",
     "data": {
      "text/plain": [
       "Databricks visualization. Run in Databricks to view."
      ]
     },
     "metadata": {
      "application/vnd.databricks.v1.subcommand+json": {
       "baseErrorDetails": null,
       "bindings": {},
       "collapsed": false,
       "command": "%sql WITH q AS (SELECT \n    is_target,\n    pedido,\n    COUNT(DISTINCT customer_id) AS distinct_customer_count\nFROM (\n    SELECT \n        ab_test_ref.*,\n        CASE \n            WHEN orders.customer_id IS NOT NULL THEN 'true'\n            ELSE 'false'\n        END AS pedido\n    FROM ifood_bronze.ab_test_ref AS ab_test_ref\n    LEFT JOIN ifood_bronze.orders AS orders\n    ON ab_test_ref.customer_id = orders.customer_id\n) AS subquery\nGROUP BY 1,2) SELECT `is_target`,`pedido`,COUNT(`distinct_customer_count`) `column_d60f32a3604` FROM q GROUP BY `is_target`,`pedido`",
       "commandTitle": "Visualization 1",
       "commandType": "auto",
       "commandVersion": 0,
       "commentThread": [],
       "commentsVisible": false,
       "contentSha256Hex": null,
       "customPlotOptions": {
        "redashChart": [
         {
          "key": "type",
          "value": "CHART"
         },
         {
          "key": "options",
          "value": {
           "alignYAxesAtZero": true,
           "coefficient": 1,
           "columnConfigurationMap": {
            "series": {
             "column": "pedido",
             "id": "column_d60f32a3612"
            },
            "x": {
             "column": "is_target",
             "id": "column_d60f32a3611"
            },
            "y": [
             {
              "column": "distinct_customer_count",
              "id": "column_d60f32a3604",
              "transform": "SUM"
             }
            ]
           },
           "dateTimeFormat": "DD/MM/YYYY HH:mm",
           "direction": {
            "type": "counterclockwise"
           },
           "error_y": {
            "type": "data",
            "visible": true
           },
           "globalSeriesType": "column",
           "hideXAxis": false,
           "hideYAxes": true,
           "isAggregationOn": true,
           "legend": {
            "traceorder": "normal"
           },
           "missingValuesAsZero": true,
           "numberFormat": "0,0.[00000]",
           "percentFormat": "0[.]00%",
           "series": {
            "error_y": {
             "type": "data",
             "visible": true
            },
            "stacking": "stack"
           },
           "seriesOptions": {
            "column_d60f32a3604": {
             "name": "distinct_customer_count",
             "type": "column",
             "yAxis": 0
            }
           },
           "showDataLabels": true,
           "sizemode": "diameter",
           "sortX": true,
           "sortY": true,
           "swappedAxes": true,
           "textFormat": "",
           "useAggregationsUi": true,
           "valuesOptions": {},
           "version": 2,
           "xAxis": {
            "labels": {
             "enabled": true
            },
            "title": {
             "text": " "
            },
            "type": "-"
           },
           "yAxis": [
            {
             "title": {
              "text": "Clientes"
             },
             "type": "-"
            },
            {
             "opposite": true,
             "type": "-"
            }
           ]
          }
         }
        ]
       },
       "datasetPreviewNameToCmdIdMap": {},
       "diffDeletes": [],
       "diffInserts": [],
       "displayType": "redashChart",
       "error": null,
       "errorDetails": null,
       "errorSummary": null,
       "errorTraceType": null,
       "finishTime": 0,
       "globalVars": {},
       "guid": "",
       "height": "auto",
       "hideCommandCode": false,
       "hideCommandResult": false,
       "iPythonMetadata": null,
       "inputWidgets": {},
       "isLockedInExamMode": false,
       "latestUser": "a user",
       "latestUserId": null,
       "listResultMetadata": null,
       "metadata": {},
       "nuid": "7cb0b2ac-c2b1-4760-aceb-a11a89835d73",
       "origId": 0,
       "parentHierarchy": [],
       "pivotAggregation": null,
       "pivotColumns": null,
       "position": 8.931640625,
       "resultDbfsErrorMessage": null,
       "resultDbfsStatus": "INLINED_IN_TREE",
       "results": null,
       "showCommandTitle": false,
       "startTime": 0,
       "state": "input",
       "streamStates": {},
       "subcommandOptions": {
        "queryPlan": {
         "groups": [
          {
           "column": "is_target",
           "type": "column"
          },
          {
           "column": "pedido",
           "type": "column"
          }
         ],
         "selects": [
          {
           "column": "is_target",
           "type": "column"
          },
          {
           "column": "pedido",
           "type": "column"
          },
          {
           "alias": "column_d60f32a3604",
           "args": [
            {
             "column": "distinct_customer_count",
             "type": "column"
            }
           ],
           "function": "SUM",
           "type": "function"
          }
         ]
        }
       },
       "submitTime": 0,
       "subtype": "tableResultSubCmd.visualization",
       "tableResultIndex": 0,
       "tableResultSettingsMap": {},
       "useConsistentColors": false,
       "version": "CommandV1",
       "width": "auto",
       "workflows": [],
       "xColumns": null,
       "yColumns": null
      }
     },
     "output_type": "display_data"
    }
   ],
   "source": [
    "%sql\n",
    "SELECT \n",
    "    is_target,\n",
    "    pedido,\n",
    "    COUNT(DISTINCT customer_id) AS distinct_customer_count\n",
    "FROM (\n",
    "    SELECT \n",
    "        ab_test_ref.*,\n",
    "        CASE \n",
    "            WHEN orders.customer_id IS NOT NULL THEN 'true'\n",
    "            ELSE 'false'\n",
    "        END AS pedido\n",
    "    FROM ifood_bronze.ab_test_ref AS ab_test_ref\n",
    "-- Realiza junção entre tabelas para agregar atributos adicionais\n",
    "    LEFT JOIN ifood_bronze.orders AS orders\n",
    "    ON ab_test_ref.customer_id = orders.customer_id\n",
    ") AS subquery\n",
    "-- Agrupa os dados para cálculo de métricas agregadas\n",
    "GROUP BY 1,2"
   ]
  },
  {
   "cell_type": "markdown",
   "metadata": {
    "application/vnd.databricks.v1+cell": {
     "cellMetadata": {},
     "inputWidgets": {},
     "nuid": "f211c44b-2d8c-4e25-a880-5561b45e2700",
     "showTitle": false,
     "tableResultSettingsMap": {},
     "title": ""
    }
   },
   "source": [
    "Praticamente todos os usuários do teste A/B, tanto no grupo controle quanto no público abordado, fizeram pedido no período analisado. Portanto, a taxa de conversão não foi um indicador impactante nesse experimento."
   ]
  },
  {
   "cell_type": "markdown",
   "metadata": {
    "application/vnd.databricks.v1+cell": {
     "cellMetadata": {},
     "inputWidgets": {},
     "nuid": "eac76fd6-f162-460c-a700-c5b5fe582668",
     "showTitle": false,
     "tableResultSettingsMap": {},
     "title": ""
    }
   },
   "source": [
    "### 4.2 Receita por usuário"
   ]
  },
  {
   "cell_type": "code",
   "execution_count": 0,
   "metadata": {
    "application/vnd.databricks.v1+cell": {
     "cellMetadata": {
      "byteLimit": 2048000,
      "implicitDf": true,
      "rowLimit": 10000
     },
     "inputWidgets": {},
     "nuid": "cbc5d5c7-199d-42c8-9984-a6ed8eed214e",
     "showTitle": false,
     "tableResultSettingsMap": {},
     "title": ""
    }
   },
   "outputs": [
    {
     "output_type": "display_data",
     "data": {
      "text/html": [
       "<style scoped>\n",
       "  .table-result-container {\n",
       "    max-height: 300px;\n",
       "    overflow: auto;\n",
       "  }\n",
       "  table, th, td {\n",
       "    border: 1px solid black;\n",
       "    border-collapse: collapse;\n",
       "  }\n",
       "  th, td {\n",
       "    padding: 5px;\n",
       "  }\n",
       "  th {\n",
       "    text-align: left;\n",
       "  }\n",
       "</style><div class='table-result-container'><table class='table-result'><thead style='background-color: white'><tr><th>is_target</th><th>receita_total</th><th>clientes</th><th>ticket_medio</th></tr></thead><tbody><tr><td>control</td><td>7.307187305451661E7</td><td>360542</td><td>202.67229075812696</td></tr><tr><td>target</td><td>1.0200757006332143E8</td><td>445924</td><td>228.75550556444915</td></tr></tbody></table></div>"
      ]
     },
     "metadata": {
      "application/vnd.databricks.v1+output": {
       "addedWidgets": {},
       "aggData": [],
       "aggError": "",
       "aggOverflow": false,
       "aggSchema": [],
       "aggSeriesLimitReached": false,
       "aggType": "",
       "arguments": {},
       "columnCustomDisplayInfos": {},
       "data": [
        [
         "control",
         7.307187305451661E7,
         360542,
         202.67229075812696
        ],
        [
         "target",
         1.0200757006332143E8,
         445924,
         228.75550556444915
        ]
       ],
       "datasetInfos": [
        {
         "name": "_sqldf",
         "schema": {
          "fields": [
           {
            "metadata": {},
            "name": "is_target",
            "nullable": true,
            "type": "string"
           },
           {
            "metadata": {},
            "name": "receita_total",
            "nullable": true,
            "type": "double"
           },
           {
            "metadata": {},
            "name": "clientes",
            "nullable": false,
            "type": "long"
           },
           {
            "metadata": {},
            "name": "ticket_medio",
            "nullable": true,
            "type": "double"
           }
          ],
          "type": "struct"
         },
         "tableIdentifier": null,
         "typeStr": "pyspark.sql.connect.dataframe.DataFrame"
        }
       ],
       "dbfsResultPath": null,
       "isJsonSchema": true,
       "metadata": {
        "createTempViewForImplicitDf": true,
        "dataframeName": "_sqldf",
        "executionCount": 24
       },
       "overflow": false,
       "plotOptions": {
        "customPlotOptions": {},
        "displayType": "table",
        "pivotAggregation": null,
        "pivotColumns": null,
        "xColumns": null,
        "yColumns": null
       },
       "removedWidgets": [],
       "schema": [
        {
         "metadata": "{}",
         "name": "is_target",
         "type": "\"string\""
        },
        {
         "metadata": "{}",
         "name": "receita_total",
         "type": "\"double\""
        },
        {
         "metadata": "{}",
         "name": "clientes",
         "type": "\"long\""
        },
        {
         "metadata": "{}",
         "name": "ticket_medio",
         "type": "\"double\""
        }
       ],
       "type": "table"
      }
     },
     "output_type": "display_data"
    },
    {
     "output_type": "display_data",
     "data": {
      "text/plain": [
       "Databricks visualization. Run in Databricks to view."
      ]
     },
     "metadata": {
      "application/vnd.databricks.v1.subcommand+json": {
       "baseErrorDetails": null,
       "bindings": {},
       "collapsed": false,
       "command": "%sql WITH q AS (select \n  a.is_target, \n  sum(b.order_total_amount) as receita_total, \n  count(distinct b.customer_id) as clientes, \n  sum(b.order_total_amount) / count(distinct b.customer_id) as ticket_medio\nfrom \n  workspace.ifood_bronze.orders b\ninner join \n  workspace.default.ab_test_ref a\non \n  a.customer_id = b.customer_id\ngroup by \n  a.is_target) SELECT `is_target`,SUM(`ticket_medio`) `column_d60f32a3623` FROM q GROUP BY `is_target`",
       "commandTitle": "Visualization 1",
       "commandType": "auto",
       "commandVersion": 0,
       "commentThread": [],
       "commentsVisible": false,
       "contentSha256Hex": null,
       "customPlotOptions": {
        "redashChart": [
         {
          "key": "type",
          "value": "CHART"
         },
         {
          "key": "options",
          "value": {
           "alignYAxesAtZero": true,
           "coefficient": 1,
           "columnConfigurationMap": {
            "x": {
             "column": "is_target",
             "id": "column_d60f32a3621"
            },
            "y": [
             {
              "column": "ticket_medio",
              "id": "column_d60f32a3623",
              "transform": "SUM"
             }
            ]
           },
           "dateTimeFormat": "DD/MM/YYYY HH:mm",
           "direction": {
            "type": "counterclockwise"
           },
           "error_y": {
            "type": "data",
            "visible": true
           },
           "globalSeriesType": "column",
           "hideYAxes": true,
           "isAggregationOn": true,
           "legend": {
            "traceorder": "normal"
           },
           "missingValuesAsZero": true,
           "numberFormat": "0,0.[00]",
           "percentFormat": "0[.]00%",
           "series": {
            "error_y": {
             "type": "data",
             "visible": true
            },
            "stacking": null
           },
           "seriesOptions": {
            "column_d60f32a3623": {
             "color": "#FFAB00",
             "type": "column",
             "yAxis": 0
            }
           },
           "showDataLabels": true,
           "sizemode": "diameter",
           "sortX": true,
           "sortY": true,
           "swappedAxes": true,
           "textFormat": "",
           "useAggregationsUi": true,
           "valuesOptions": {},
           "version": 2,
           "xAxis": {
            "labels": {
             "enabled": true
            },
            "title": {
             "text": " "
            },
            "type": "-"
           },
           "yAxis": [
            {
             "type": "-"
            },
            {
             "opposite": true,
             "type": "-"
            }
           ]
          }
         }
        ]
       },
       "datasetPreviewNameToCmdIdMap": {},
       "diffDeletes": [],
       "diffInserts": [],
       "displayType": "redashChart",
       "error": null,
       "errorDetails": null,
       "errorSummary": null,
       "errorTraceType": null,
       "finishTime": 0,
       "globalVars": {},
       "guid": "",
       "height": "auto",
       "hideCommandCode": false,
       "hideCommandResult": false,
       "iPythonMetadata": null,
       "inputWidgets": {},
       "isLockedInExamMode": false,
       "latestUser": "a user",
       "latestUserId": null,
       "listResultMetadata": null,
       "metadata": {},
       "nuid": "09fa886d-fd05-4e47-a840-7c4866603d7f",
       "origId": 0,
       "parentHierarchy": [],
       "pivotAggregation": null,
       "pivotColumns": null,
       "position": 8.9921875,
       "resultDbfsErrorMessage": null,
       "resultDbfsStatus": "INLINED_IN_TREE",
       "results": null,
       "showCommandTitle": false,
       "startTime": 0,
       "state": "input",
       "streamStates": {},
       "subcommandOptions": {
        "queryPlan": {
         "groups": [
          {
           "column": "is_target",
           "type": "column"
          }
         ],
         "selects": [
          {
           "column": "is_target",
           "type": "column"
          },
          {
           "alias": "column_d60f32a3623",
           "args": [
            {
             "column": "ticket_medio",
             "type": "column"
            }
           ],
           "function": "SUM",
           "type": "function"
          }
         ]
        }
       },
       "submitTime": 0,
       "subtype": "tableResultSubCmd.visualization",
       "tableResultIndex": 0,
       "tableResultSettingsMap": {},
       "useConsistentColors": false,
       "version": "CommandV1",
       "width": "auto",
       "workflows": [],
       "xColumns": null,
       "yColumns": null
      }
     },
     "output_type": "display_data"
    }
   ],
   "source": [
    "%sql\n",
    "select \n",
    "  a.is_target, \n",
    "  sum(b.order_total_amount) as receita_total, \n",
    "  count(distinct b.customer_id) as clientes, \n",
    "  sum(b.order_total_amount) / count(distinct b.customer_id) as ticket_medio\n",
    "from \n",
    "  workspace.ifood_bronze.orders b\n",
    "-- Realiza junção entre tabelas para agregar atributos adicionais \n",
    "inner join \n",
    "  workspace.default.ab_test_ref a\n",
    "on \n",
    "  a.customer_id = b.customer_id\n",
    "-- Agrupa os dados para cálculo de métricas agregadas\n",
    "group by \n",
    "  a.is_target"
   ]
  },
  {
   "cell_type": "markdown",
   "metadata": {
    "application/vnd.databricks.v1+cell": {
     "cellMetadata": {},
     "inputWidgets": {},
     "nuid": "395d3e4f-f196-49b4-b16c-6577b9becd73",
     "showTitle": false,
     "tableResultSettingsMap": {},
     "title": ""
    }
   },
   "source": [
    "O público abordado teve 12,8% a mais de ticket médio do que o grupo controle."
   ]
  },
  {
   "cell_type": "markdown",
   "metadata": {
    "application/vnd.databricks.v1+cell": {
     "cellMetadata": {},
     "inputWidgets": {},
     "nuid": "5b1a027a-df59-4793-838f-059b7b6f1dee",
     "showTitle": false,
     "tableResultSettingsMap": {},
     "title": ""
    }
   },
   "source": [
    "### 4.3 Ticket por pedido"
   ]
  },
  {
   "cell_type": "code",
   "execution_count": 0,
   "metadata": {
    "application/vnd.databricks.v1+cell": {
     "cellMetadata": {
      "byteLimit": 2048000,
      "implicitDf": true,
      "rowLimit": 10000
     },
     "inputWidgets": {},
     "nuid": "a647378b-5fda-454b-875d-b304b0ecd543",
     "showTitle": false,
     "tableResultSettingsMap": {},
     "title": ""
    }
   },
   "outputs": [
    {
     "output_type": "display_data",
     "data": {
      "text/html": [
       "<style scoped>\n",
       "  .table-result-container {\n",
       "    max-height: 300px;\n",
       "    overflow: auto;\n",
       "  }\n",
       "  table, th, td {\n",
       "    border: 1px solid black;\n",
       "    border-collapse: collapse;\n",
       "  }\n",
       "  th, td {\n",
       "    padding: 5px;\n",
       "  }\n",
       "  th {\n",
       "    text-align: left;\n",
       "  }\n",
       "</style><div class='table-result-container'><table class='table-result'><thead style='background-color: white'><tr><th>is_target</th><th>receita_total</th><th>pedidos</th><th>ticket_pedido</th></tr></thead><tbody><tr><td>control</td><td>7.307187305451661E7</td><td>1010738</td><td>72.29556329584582</td></tr><tr><td>target</td><td>1.0200757006332143E8</td><td>1416677</td><td>72.00481836249295</td></tr></tbody></table></div>"
      ]
     },
     "metadata": {
      "application/vnd.databricks.v1+output": {
       "addedWidgets": {},
       "aggData": [],
       "aggError": "",
       "aggOverflow": false,
       "aggSchema": [],
       "aggSeriesLimitReached": false,
       "aggType": "",
       "arguments": {},
       "columnCustomDisplayInfos": {},
       "data": [
        [
         "control",
         7.307187305451661E7,
         1010738,
         72.29556329584582
        ],
        [
         "target",
         1.0200757006332143E8,
         1416677,
         72.00481836249295
        ]
       ],
       "datasetInfos": [
        {
         "name": "_sqldf",
         "schema": {
          "fields": [
           {
            "metadata": {},
            "name": "is_target",
            "nullable": true,
            "type": "string"
           },
           {
            "metadata": {},
            "name": "receita_total",
            "nullable": true,
            "type": "double"
           },
           {
            "metadata": {},
            "name": "pedidos",
            "nullable": false,
            "type": "long"
           },
           {
            "metadata": {},
            "name": "ticket_pedido",
            "nullable": true,
            "type": "double"
           }
          ],
          "type": "struct"
         },
         "tableIdentifier": null,
         "typeStr": "pyspark.sql.connect.dataframe.DataFrame"
        }
       ],
       "dbfsResultPath": null,
       "isJsonSchema": true,
       "metadata": {
        "createTempViewForImplicitDf": true,
        "dataframeName": "_sqldf",
        "executionCount": 27
       },
       "overflow": false,
       "plotOptions": {
        "customPlotOptions": {},
        "displayType": "table",
        "pivotAggregation": null,
        "pivotColumns": null,
        "xColumns": null,
        "yColumns": null
       },
       "removedWidgets": [],
       "schema": [
        {
         "metadata": "{}",
         "name": "is_target",
         "type": "\"string\""
        },
        {
         "metadata": "{}",
         "name": "receita_total",
         "type": "\"double\""
        },
        {
         "metadata": "{}",
         "name": "pedidos",
         "type": "\"long\""
        },
        {
         "metadata": "{}",
         "name": "ticket_pedido",
         "type": "\"double\""
        }
       ],
       "type": "table"
      }
     },
     "output_type": "display_data"
    },
    {
     "output_type": "display_data",
     "data": {
      "text/plain": [
       "Databricks visualization. Run in Databricks to view."
      ]
     },
     "metadata": {
      "application/vnd.databricks.v1.subcommand+json": {
       "baseErrorDetails": null,
       "bindings": {},
       "collapsed": false,
       "command": "%sql WITH q AS (select \n  a.is_target, \n  sum(b.order_total_amount) as receita_total, \n  count(distinct b.order_id) as pedidos, \n  sum(b.order_total_amount) / count(distinct b.order_id) as ticket_pedido\nfrom \n  workspace.ifood_bronze.orders b\ninner join \n  workspace.default.ab_test_ref a\non \n  a.customer_id = b.customer_id\ngroup by \n  a.is_target) SELECT `is_target`,SUM(`ticket_pedido`) `column_d60f32a3629` FROM q GROUP BY `is_target`",
       "commandTitle": "Visualization 1",
       "commandType": "auto",
       "commandVersion": 0,
       "commentThread": [],
       "commentsVisible": false,
       "contentSha256Hex": null,
       "customPlotOptions": {
        "redashChart": [
         {
          "key": "type",
          "value": "CHART"
         },
         {
          "key": "options",
          "value": {
           "alignYAxesAtZero": true,
           "coefficient": 1,
           "columnConfigurationMap": {
            "x": {
             "column": "is_target",
             "id": "column_d60f32a3627"
            },
            "y": [
             {
              "column": "ticket_pedido",
              "id": "column_d60f32a3629",
              "transform": "SUM"
             }
            ]
           },
           "dateTimeFormat": "DD/MM/YYYY HH:mm",
           "direction": {
            "type": "counterclockwise"
           },
           "error_y": {
            "type": "data",
            "visible": true
           },
           "globalSeriesType": "column",
           "hideYAxes": true,
           "isAggregationOn": true,
           "legend": {
            "traceorder": "normal"
           },
           "missingValuesAsZero": true,
           "numberFormat": "0,0.[000]",
           "percentFormat": "0[.]00%",
           "series": {
            "error_y": {
             "type": "data",
             "visible": true
            },
            "stacking": null
           },
           "seriesOptions": {
            "column_d60f32a3629": {
             "color": "#FFAB00",
             "type": "column",
             "yAxis": 0
            }
           },
           "showDataLabels": true,
           "sizemode": "diameter",
           "sortX": true,
           "sortY": true,
           "swappedAxes": true,
           "textFormat": "",
           "useAggregationsUi": true,
           "valuesOptions": {},
           "version": 2,
           "xAxis": {
            "labels": {
             "enabled": true
            },
            "title": {
             "text": " "
            },
            "type": "-"
           },
           "yAxis": [
            {
             "type": "-"
            },
            {
             "opposite": true,
             "type": "-"
            }
           ]
          }
         }
        ]
       },
       "datasetPreviewNameToCmdIdMap": {},
       "diffDeletes": [],
       "diffInserts": [],
       "displayType": "redashChart",
       "error": null,
       "errorDetails": null,
       "errorSummary": null,
       "errorTraceType": null,
       "finishTime": 0,
       "globalVars": {},
       "guid": "",
       "height": "auto",
       "hideCommandCode": false,
       "hideCommandResult": false,
       "iPythonMetadata": null,
       "inputWidgets": {},
       "isLockedInExamMode": false,
       "latestUser": "a user",
       "latestUserId": null,
       "listResultMetadata": null,
       "metadata": {},
       "nuid": "c0ac262c-9d6a-437a-8aa4-d61d240ccf53",
       "origId": 0,
       "parentHierarchy": [],
       "pivotAggregation": null,
       "pivotColumns": null,
       "position": 8.9990234375,
       "resultDbfsErrorMessage": null,
       "resultDbfsStatus": "INLINED_IN_TREE",
       "results": null,
       "showCommandTitle": false,
       "startTime": 0,
       "state": "input",
       "streamStates": {},
       "subcommandOptions": {
        "queryPlan": {
         "groups": [
          {
           "column": "is_target",
           "type": "column"
          }
         ],
         "selects": [
          {
           "column": "is_target",
           "type": "column"
          },
          {
           "alias": "column_d60f32a3629",
           "args": [
            {
             "column": "ticket_pedido",
             "type": "column"
            }
           ],
           "function": "SUM",
           "type": "function"
          }
         ]
        }
       },
       "submitTime": 0,
       "subtype": "tableResultSubCmd.visualization",
       "tableResultIndex": 0,
       "tableResultSettingsMap": {},
       "useConsistentColors": false,
       "version": "CommandV1",
       "width": "auto",
       "workflows": [],
       "xColumns": null,
       "yColumns": null
      }
     },
     "output_type": "display_data"
    }
   ],
   "source": [
    "%sql\n",
    "select \n",
    "  a.is_target, \n",
    "  sum(b.order_total_amount) as receita_total, \n",
    "  count(distinct b.order_id) as pedidos, \n",
    "  sum(b.order_total_amount) / count(distinct b.order_id) as ticket_pedido\n",
    "from \n",
    "  workspace.ifood_bronze.orders b\n",
    "-- Realiza junção entre tabelas para agregar atributos adicionais \n",
    "inner join \n",
    "  workspace.default.ab_test_ref a\n",
    "on \n",
    "  a.customer_id = b.customer_id\n",
    "-- Agrupa os dados para cálculo de métricas agregadas\n",
    "group by \n",
    "  a.is_target"
   ]
  },
  {
   "cell_type": "markdown",
   "metadata": {
    "application/vnd.databricks.v1+cell": {
     "cellMetadata": {},
     "inputWidgets": {},
     "nuid": "d00e0b78-4cdb-4fa4-a038-bc3e37effb8a",
     "showTitle": false,
     "tableResultSettingsMap": {},
     "title": ""
    }
   },
   "source": [
    "O ticket por pedido do grupo controle foi 0,4% maior do que o público abordado. Não foi um fator impactante do teste."
   ]
  },
  {
   "cell_type": "markdown",
   "metadata": {
    "application/vnd.databricks.v1+cell": {
     "cellMetadata": {},
     "inputWidgets": {},
     "nuid": "d8f27a67-f3c0-4887-8c35-b4c5f0d7c60c",
     "showTitle": false,
     "tableResultSettingsMap": {},
     "title": ""
    }
   },
   "source": [
    "### 4.4 Pedidos por cliente"
   ]
  },
  {
   "cell_type": "code",
   "execution_count": 0,
   "metadata": {
    "application/vnd.databricks.v1+cell": {
     "cellMetadata": {
      "byteLimit": 2048000,
      "implicitDf": true,
      "rowLimit": 10000
     },
     "inputWidgets": {},
     "nuid": "7dc742f7-f97b-4b2d-8799-a7ad1996d5ed",
     "showTitle": false,
     "tableResultSettingsMap": {},
     "title": ""
    }
   },
   "outputs": [
    {
     "output_type": "display_data",
     "data": {
      "text/html": [
       "<style scoped>\n",
       "  .table-result-container {\n",
       "    max-height: 300px;\n",
       "    overflow: auto;\n",
       "  }\n",
       "  table, th, td {\n",
       "    border: 1px solid black;\n",
       "    border-collapse: collapse;\n",
       "  }\n",
       "  th, td {\n",
       "    padding: 5px;\n",
       "  }\n",
       "  th {\n",
       "    text-align: left;\n",
       "  }\n",
       "</style><div class='table-result-container'><table class='table-result'><thead style='background-color: white'><tr><th>is_target</th><th>pedidos</th><th>clientes</th><th>pedidos_cliente</th></tr></thead><tbody><tr><td>control</td><td>1010738</td><td>360542</td><td>2.80338490383922</td></tr><tr><td>target</td><td>1416677</td><td>445924</td><td>3.176947192795185</td></tr></tbody></table></div>"
      ]
     },
     "metadata": {
      "application/vnd.databricks.v1+output": {
       "addedWidgets": {},
       "aggData": [],
       "aggError": "",
       "aggOverflow": false,
       "aggSchema": [],
       "aggSeriesLimitReached": false,
       "aggType": "",
       "arguments": {},
       "columnCustomDisplayInfos": {},
       "data": [
        [
         "control",
         1010738,
         360542,
         2.80338490383922
        ],
        [
         "target",
         1416677,
         445924,
         3.176947192795185
        ]
       ],
       "datasetInfos": [
        {
         "name": "_sqldf",
         "schema": {
          "fields": [
           {
            "metadata": {},
            "name": "is_target",
            "nullable": true,
            "type": "string"
           },
           {
            "metadata": {},
            "name": "pedidos",
            "nullable": false,
            "type": "long"
           },
           {
            "metadata": {},
            "name": "clientes",
            "nullable": false,
            "type": "long"
           },
           {
            "metadata": {},
            "name": "pedidos_cliente",
            "nullable": true,
            "type": "double"
           }
          ],
          "type": "struct"
         },
         "tableIdentifier": null,
         "typeStr": "pyspark.sql.connect.dataframe.DataFrame"
        }
       ],
       "dbfsResultPath": null,
       "isJsonSchema": true,
       "metadata": {
        "createTempViewForImplicitDf": true,
        "dataframeName": "_sqldf",
        "executionCount": 47
       },
       "overflow": false,
       "plotOptions": {
        "customPlotOptions": {},
        "displayType": "table",
        "pivotAggregation": null,
        "pivotColumns": null,
        "xColumns": null,
        "yColumns": null
       },
       "removedWidgets": [],
       "schema": [
        {
         "metadata": "{}",
         "name": "is_target",
         "type": "\"string\""
        },
        {
         "metadata": "{}",
         "name": "pedidos",
         "type": "\"long\""
        },
        {
         "metadata": "{}",
         "name": "clientes",
         "type": "\"long\""
        },
        {
         "metadata": "{}",
         "name": "pedidos_cliente",
         "type": "\"double\""
        }
       ],
       "type": "table"
      }
     },
     "output_type": "display_data"
    },
    {
     "output_type": "display_data",
     "data": {
      "text/plain": [
       "Databricks visualization. Run in Databricks to view."
      ]
     },
     "metadata": {
      "application/vnd.databricks.v1.subcommand+json": {
       "baseErrorDetails": null,
       "bindings": {},
       "collapsed": false,
       "command": "%sql WITH q AS (select \n  a.is_target, \n  count(distinct b.order_id) as pedidos, \n  count(distinct b.customer_id) as clientes, \n  count(distinct b.order_id) / count(distinct b.customer_id) as pedidos_cliente\nfrom \n  workspace.ifood_bronze.orders b\ninner join \n  workspace.default.ab_test_ref a\non \n  a.customer_id = b.customer_id\ngroup by \n  a.is_target) SELECT `is_target`,SUM(`pedidos_cliente`) `column_d60f32a3633` FROM q GROUP BY `is_target`",
       "commandTitle": "Visualization 1",
       "commandType": "auto",
       "commandVersion": 0,
       "commentThread": [],
       "commentsVisible": false,
       "contentSha256Hex": null,
       "customPlotOptions": {
        "redashChart": [
         {
          "key": "type",
          "value": "CHART"
         },
         {
          "key": "options",
          "value": {
           "alignYAxesAtZero": true,
           "coefficient": 1,
           "columnConfigurationMap": {
            "x": {
             "column": "is_target",
             "id": "column_d60f32a3631"
            },
            "y": [
             {
              "column": "pedidos_cliente",
              "id": "column_d60f32a3633",
              "transform": "SUM"
             }
            ]
           },
           "dateTimeFormat": "DD/MM/YYYY HH:mm",
           "direction": {
            "type": "counterclockwise"
           },
           "error_y": {
            "type": "data",
            "visible": true
           },
           "globalSeriesType": "column",
           "hideYAxes": true,
           "isAggregationOn": true,
           "legend": {
            "traceorder": "normal"
           },
           "missingValuesAsZero": true,
           "numberFormat": "0,0.[00]",
           "percentFormat": "0[.]00%",
           "series": {
            "error_y": {
             "type": "data",
             "visible": true
            },
            "stacking": null
           },
           "seriesOptions": {
            "column_d60f32a3633": {
             "color": "#FFAB00",
             "type": "column",
             "yAxis": 0
            }
           },
           "showDataLabels": true,
           "sizemode": "diameter",
           "sortX": true,
           "sortY": true,
           "swappedAxes": true,
           "textFormat": "",
           "useAggregationsUi": true,
           "valuesOptions": {},
           "version": 2,
           "xAxis": {
            "labels": {
             "enabled": true
            },
            "title": {
             "text": " "
            },
            "type": "-"
           },
           "yAxis": [
            {
             "type": "-"
            },
            {
             "opposite": true,
             "type": "-"
            }
           ]
          }
         }
        ]
       },
       "datasetPreviewNameToCmdIdMap": {},
       "diffDeletes": [],
       "diffInserts": [],
       "displayType": "redashChart",
       "error": null,
       "errorDetails": null,
       "errorSummary": null,
       "errorTraceType": null,
       "finishTime": 0,
       "globalVars": {},
       "guid": "",
       "height": "auto",
       "hideCommandCode": false,
       "hideCommandResult": false,
       "iPythonMetadata": null,
       "inputWidgets": {},
       "isLockedInExamMode": false,
       "latestUser": "a user",
       "latestUserId": null,
       "listResultMetadata": null,
       "metadata": {},
       "nuid": "0683c97d-75eb-4424-9382-dde818762898",
       "origId": 0,
       "parentHierarchy": [],
       "pivotAggregation": null,
       "pivotColumns": null,
       "position": 8.999755859375,
       "resultDbfsErrorMessage": null,
       "resultDbfsStatus": "INLINED_IN_TREE",
       "results": null,
       "showCommandTitle": false,
       "startTime": 0,
       "state": "input",
       "streamStates": {},
       "subcommandOptions": {
        "queryPlan": {
         "groups": [
          {
           "column": "is_target",
           "type": "column"
          }
         ],
         "selects": [
          {
           "column": "is_target",
           "type": "column"
          },
          {
           "alias": "column_d60f32a3633",
           "args": [
            {
             "column": "pedidos_cliente",
             "type": "column"
            }
           ],
           "function": "SUM",
           "type": "function"
          }
         ]
        }
       },
       "submitTime": 0,
       "subtype": "tableResultSubCmd.visualization",
       "tableResultIndex": 0,
       "tableResultSettingsMap": {},
       "useConsistentColors": false,
       "version": "CommandV1",
       "width": "auto",
       "workflows": [],
       "xColumns": null,
       "yColumns": null
      }
     },
     "output_type": "display_data"
    }
   ],
   "source": [
    "%sql\n",
    "select \n",
    "  a.is_target, \n",
    "  count(distinct b.order_id) as pedidos, \n",
    "  count(distinct b.customer_id) as clientes, \n",
    "  count(distinct b.order_id) / count(distinct b.customer_id) as pedidos_cliente\n",
    "from \n",
    "  workspace.ifood_bronze.orders b\n",
    "-- Realiza junção entre tabelas para agregar atributos adicionais \n",
    "inner join \n",
    "  workspace.default.ab_test_ref a\n",
    "on \n",
    "  a.customer_id = b.customer_id\n",
    "-- Agrupa os dados para cálculo de métricas agregadas\n",
    "group by \n",
    "  a.is_target"
   ]
  },
  {
   "cell_type": "markdown",
   "metadata": {
    "application/vnd.databricks.v1+cell": {
     "cellMetadata": {},
     "inputWidgets": {},
     "nuid": "642c7697-2118-4db8-ac35-8a6e7c67d50b",
     "showTitle": false,
     "tableResultSettingsMap": {},
     "title": ""
    }
   },
   "source": [
    "O público abordado da ação fez 13,2% a mais de pedidos por cliente do que o grupo controle."
   ]
  },
  {
   "cell_type": "markdown",
   "metadata": {
    "application/vnd.databricks.v1+cell": {
     "cellMetadata": {},
     "inputWidgets": {},
     "nuid": "ecc4f7a3-0c59-4b8d-91b4-da011f69a56b",
     "showTitle": false,
     "tableResultSettingsMap": {},
     "title": ""
    }
   },
   "source": [
    "### 4.5 Resumo dos resultados"
   ]
  },
  {
   "cell_type": "markdown",
   "metadata": {
    "application/vnd.databricks.v1+cell": {
     "cellMetadata": {},
     "inputWidgets": {},
     "nuid": "35d0b547-9e96-4f83-9611-481e2c98c70a",
     "showTitle": false,
     "tableResultSettingsMap": {},
     "title": ""
    }
   },
   "source": [
    "A taxa de conversão foi praticamente igual entre os grupos controle e testado, o que indica que esse indicador não foi relevante para avaliar o impacto da campanha.\n",
    "\n",
    "Entre os usuários abordados pela ação, observou-se:\n",
    "\n",
    "- +12,8% de ticket médio por cliente em relação ao grupo controle;\n",
    "- +13,2% de pedidos por cliente, indicando maior engajamento;\n",
    "- -0,4% no ticket por pedido, variação pequena e sem impacto relevante.\n",
    "\n",
    "Esses resultados sugerem que a campanha contribuiu para um aumento no valor total movimentado por cliente, impulsionado principalmente pela frequência de pedidos."
   ]
  },
  {
   "cell_type": "markdown",
   "metadata": {
    "application/vnd.databricks.v1+cell": {
     "cellMetadata": {},
     "inputWidgets": {},
     "nuid": "36dd5b97-94fa-4716-a516-3957f6e25383",
     "showTitle": false,
     "tableResultSettingsMap": {},
     "title": ""
    }
   },
   "source": [
    "### 4.6 Viabilidade Financeira"
   ]
  },
  {
   "cell_type": "markdown",
   "metadata": {
    "application/vnd.databricks.v1+cell": {
     "cellMetadata": {},
     "inputWidgets": {},
     "nuid": "035b3086-1c76-4e24-9630-f5a33a0ef4d9",
     "showTitle": false,
     "tableResultSettingsMap": {},
     "title": ""
    }
   },
   "source": [
    "b) Faça uma análise de viabilidade financeira dessa iniciativa \n",
    "como alavanca de crescimento, adotando as premissas que julgar necessárias (explicite as premissas adotadas). "
   ]
  },
  {
   "cell_type": "markdown",
   "metadata": {
    "application/vnd.databricks.v1+cell": {
     "cellMetadata": {},
     "inputWidgets": {},
     "nuid": "54c9aa09-4a76-4cc0-a4e0-43bb82720fdc",
     "showTitle": false,
     "tableResultSettingsMap": {},
     "title": ""
    }
   },
   "source": [
    "Premissas adotadas\n",
    "- Valor do cupom por cliente: R$ 10\n",
    "- Ticket médio do grupo controle: R$ 202,67\n",
    "- Ticket médio do grupo testado: R$ 228,75\n",
    "- Incremento no ticket médio: +R$ 26,08 (+12,8%)\n",
    "- Margem de contribuição estimada: 30% sobre a receita incremental"
   ]
  },
  {
   "cell_type": "markdown",
   "metadata": {
    "application/vnd.databricks.v1+cell": {
     "cellMetadata": {},
     "inputWidgets": {},
     "nuid": "1c457385-90d3-4472-b930-c3145dd4fb3b",
     "showTitle": false,
     "tableResultSettingsMap": {},
     "title": ""
    }
   },
   "source": [
    "Receita incremental por cliente = R$ 26,08  \n",
    "Lucro incremental (30% de margem) = R$ 7,82  \n",
    "Custo do cupom = R$ 10,00\n",
    "\n",
    "ROI = (7,82 - 10,00) / 10,00 = -21,8%"
   ]
  },
  {
   "cell_type": "markdown",
   "metadata": {
    "application/vnd.databricks.v1+cell": {
     "cellMetadata": {},
     "inputWidgets": {},
     "nuid": "fb6b722b-8cd2-49d5-bd1c-d28bed638c87",
     "showTitle": false,
     "tableResultSettingsMap": {},
     "title": ""
    }
   },
   "source": [
    "### 4.7 Conclusão"
   ]
  },
  {
   "cell_type": "markdown",
   "metadata": {
    "application/vnd.databricks.v1+cell": {
     "cellMetadata": {},
     "inputWidgets": {},
     "nuid": "43b29b2e-fa46-4eb9-8e0d-4de64e5e736c",
     "showTitle": false,
     "tableResultSettingsMap": {},
     "title": ""
    }
   },
   "source": [
    "A campanha de cupons com valor de R$ 10 gerou aumento relevante no ticket médio (+12,8%) e na frequência de pedidos (+13,2%) entre os usuários impactados. Apesar de o ROI ainda ser negativo (-21,8%), o aumento no número médio de pedidos indica potencial de retorno no médio prazo, especialmente se o comportamento se mantiver após o incentivo. Com ajustes na segmentação e monitoramento da recorrência, a iniciativa se mostra promissora como alavanca de crescimento."
   ]
  },
  {
   "cell_type": "markdown",
   "metadata": {
    "application/vnd.databricks.v1+cell": {
     "cellMetadata": {},
     "inputWidgets": {},
     "nuid": "9a0d687b-1aad-431f-be0c-496525152c6d",
     "showTitle": false,
     "tableResultSettingsMap": {},
     "title": ""
    }
   },
   "source": [
    "### 4.8 Propostas\n",
    "c) Recomende oportunidades de melhoria nessa ação e desenhe uma nova proposta de teste A/B para validar essas hipóteses. "
   ]
  },
  {
   "cell_type": "markdown",
   "metadata": {
    "application/vnd.databricks.v1+cell": {
     "cellMetadata": {},
     "inputWidgets": {},
     "nuid": "3f6339a2-e32c-4837-a301-6b7ad5136f10",
     "showTitle": false,
     "tableResultSettingsMap": {},
     "title": ""
    }
   },
   "source": [
    "\n",
    "- Direcionar o cupom para outras segmentações, que tendem a ter maior potencial de ativação, gerando maior retorno financeiro.\n",
    "- Testar cupons menores (ex: R$ 5 ou R$ 7), avaliando se ainda geram aumento no ticket ou frequência de pedidos com menor custo da campanha.\n",
    "- Oferecer o cupom apenas para pedidos acima de um valor mínimo (ex: R$ 60), aumentando o ticket médio e diluindo o custo do cupom.\n",
    "- Avaliar se os clientes impactados mantêm o comportamento mais engajado nas semanas seguintes à campanha, mesmo sem novos incentivos."
   ]
  },
  {
   "cell_type": "markdown",
   "metadata": {
    "application/vnd.databricks.v1+cell": {
     "cellMetadata": {},
     "inputWidgets": {},
     "nuid": "e26201c8-122d-481f-b264-f220560999da",
     "showTitle": false,
     "tableResultSettingsMap": {},
     "title": ""
    }
   },
   "source": [
    "| Hipótese                                                                                | Justificativa                                                  |\n",
    "| --------------------------------------------------------------------------------------- | -------------------------------------------------------------- |\n",
    "| H1: Segmentações específicas podem gerar maior retorno financeiro                       | A segmentação tende a gerar maior retorno marginal             |\n",
    "| H2: Cupons de menor valor (R\\$ 5 ou R\\$ 7) ainda geram aumento significativo de receita | Permite reduzir o custo da ação sem perder efeito              |\n",
    "| H3: Condicionar o cupom a um valor mínimo de pedido aumenta o ticket médio              | Garante diluição do custo do cupom por pedido                  |\n",
    "| H4: Novos clientes com cupom se engajam mais no primeiro uso e podem ser retidos        | Estratégia de aquisição com potencial de retorno a longo prazo |\n"
   ]
  },
  {
   "cell_type": "markdown",
   "metadata": {
    "application/vnd.databricks.v1+cell": {
     "cellMetadata": {},
     "inputWidgets": {},
     "nuid": "ea0cfab9-ec88-406e-b932-f40420250883",
     "showTitle": false,
     "tableResultSettingsMap": {},
     "title": ""
    }
   },
   "source": [
    "Grupos experimentais\n",
    "\n",
    "| Grupo   | Descrição da variação                     | Valor do cupom | Condição mínima |\n",
    "| ------- | ----------------------------------------- | -------------- | --------------- |\n",
    "| **GC**  | Grupo controle (sem cupom)                | –              | –               |\n",
    "| **PA1** | Cupom padrão                              | R\\$ 10         | Sem mínimo      |\n",
    "| **PA2** | Cupom reduzido                            | R\\$ 5          | Sem mínimo      |\n",
    "| **PA3** | Cupom com valor mínimo de pedido          | R\\$ 10         | Pedido ≥ R\\$ 60 |\n",
    "| **PA4** | Cupom reduzido com valor mínimo de pedido | R\\$ 5          | Pedido ≥ R\\$ 60 |\n",
    "\n",
    "**Indicadores a serem avaliados**\n",
    "- Ticket médio por pedido\n",
    "- Frequência de pedidos por cliente\n",
    "- Receita incremental\n",
    "- Custo por cliente ativado\n",
    "- Retenção e comportamento nas 2–4 semanas após o fim da campanha\n",
    "\n",
    "**Hipóteses a validar**\n",
    "- Cupons com valor mínimo elevam o ticket e reduzem o custo relativo da campanha\n",
    "- Incentivos menores ainda geram ativação relevante com ROI mais alto\n",
    "- O comportamento engajado pode persistir mesmo sem novos cupons (efeito prolongado)"
   ]
  },
  {
   "cell_type": "markdown",
   "metadata": {
    "application/vnd.databricks.v1+cell": {
     "cellMetadata": {},
     "inputWidgets": {},
     "nuid": "0c17ee3a-b670-464d-9a29-e026af4e021b",
     "showTitle": false,
     "tableResultSettingsMap": {},
     "title": ""
    }
   },
   "source": [
    "## 5. Questão 2\n",
    "\n",
    "A criação de segmentações permite agrupar usuários de acordo com características e comportamentos similares, possibilitando criar estratégias direcionadas de acordo com o perfil de cada público, facilitando a personalização e incentivando o engajamento, retenção, além de otimização de recursos. Segmentações de usuários são muito utilizadas pelos times de Data, mas a área em que você atua ainda não tem segmentos bem definidos e cada área de Negócio utiliza conceitos diferentes. Por isso, você precisa: \n",
    "\n",
    "**a)** Definir as segmentações que fazem sentido especificamente \n",
    "para o teste A/B que está analisando. "
   ]
  },
  {
   "cell_type": "markdown",
   "metadata": {
    "application/vnd.databricks.v1+cell": {
     "cellMetadata": {},
     "inputWidgets": {},
     "nuid": "8294c8d5-515c-4039-89ca-d0f690593b21",
     "showTitle": false,
     "tableResultSettingsMap": {},
     "title": ""
    }
   },
   "source": [
    "Serão exploradas segmentações a partir dessas três variáveis:\n",
    "- delivery_address_state (estado de entrega do pedido)\n",
    "- average_ticket (ticket médio dos pedidos do restaurante)\n",
    "- created_at (data de registro do usuário)"
   ]
  },
  {
   "cell_type": "markdown",
   "metadata": {
    "application/vnd.databricks.v1+cell": {
     "cellMetadata": {},
     "inputWidgets": {},
     "nuid": "1856c782-7da2-4a36-b313-a9f3277642d9",
     "showTitle": false,
     "tableResultSettingsMap": {},
     "title": ""
    }
   },
   "source": [
    "### 5.1 Exploração das variáveis"
   ]
  },
  {
   "cell_type": "code",
   "execution_count": 0,
   "metadata": {
    "application/vnd.databricks.v1+cell": {
     "cellMetadata": {
      "byteLimit": 2048000,
      "implicitDf": true,
      "rowLimit": 10000
     },
     "inputWidgets": {},
     "nuid": "32ea302e-1763-4965-9495-39f0a59c2b25",
     "showTitle": false,
     "tableResultSettingsMap": {},
     "title": ""
    }
   },
   "outputs": [
    {
     "output_type": "display_data",
     "data": {
      "text/html": [
       "<style scoped>\n",
       "  .table-result-container {\n",
       "    max-height: 300px;\n",
       "    overflow: auto;\n",
       "  }\n",
       "  table, th, td {\n",
       "    border: 1px solid black;\n",
       "    border-collapse: collapse;\n",
       "  }\n",
       "  th, td {\n",
       "    padding: 5px;\n",
       "  }\n",
       "  th {\n",
       "    text-align: left;\n",
       "  }\n",
       "</style><div class='table-result-container'><table class='table-result'><thead style='background-color: white'><tr><th>delivery_region</th><th>avg_order_total_amount</th><th>pedidos</th><th>clientes</th><th>pedidos_cliente</th></tr></thead><tbody><tr><td>Nordeste</td><td>42.94758552722553</td><td>352964</td><td>114379</td><td>3.085916120966261</td></tr><tr><td>Centro-Oeste</td><td>43.79082809166243</td><td>114304</td><td>41687</td><td>2.741957924532828</td></tr><tr><td>Norte</td><td>44.98190579353483</td><td>45166</td><td>15556</td><td>2.9034456158395474</td></tr><tr><td>Sudeste</td><td>49.928765608513224</td><td>1694302</td><td>560582</td><td>3.022398150493594</td></tr><tr><td>Sul</td><td>43.18082848205539</td><td>226238</td><td>81959</td><td>2.7603801900950473</td></tr></tbody></table></div>"
      ]
     },
     "metadata": {
      "application/vnd.databricks.v1+output": {
       "addedWidgets": {},
       "aggData": [],
       "aggError": "",
       "aggOverflow": false,
       "aggSchema": [],
       "aggSeriesLimitReached": false,
       "aggType": "",
       "arguments": {},
       "columnCustomDisplayInfos": {},
       "data": [
        [
         "Nordeste",
         42.94758552722553,
         352964,
         114379,
         3.085916120966261
        ],
        [
         "Centro-Oeste",
         43.79082809166243,
         114304,
         41687,
         2.741957924532828
        ],
        [
         "Norte",
         44.98190579353483,
         45166,
         15556,
         2.9034456158395474
        ],
        [
         "Sudeste",
         49.928765608513224,
         1694302,
         560582,
         3.022398150493594
        ],
        [
         "Sul",
         43.18082848205539,
         226238,
         81959,
         2.7603801900950473
        ]
       ],
       "datasetInfos": [
        {
         "name": "_sqldf",
         "schema": {
          "fields": [
           {
            "metadata": {},
            "name": "delivery_region",
            "nullable": false,
            "type": "string"
           },
           {
            "metadata": {},
            "name": "avg_order_total_amount",
            "nullable": true,
            "type": "double"
           },
           {
            "metadata": {},
            "name": "pedidos",
            "nullable": false,
            "type": "long"
           },
           {
            "metadata": {},
            "name": "clientes",
            "nullable": false,
            "type": "long"
           },
           {
            "metadata": {},
            "name": "pedidos_cliente",
            "nullable": true,
            "type": "double"
           }
          ],
          "type": "struct"
         },
         "tableIdentifier": null,
         "typeStr": "pyspark.sql.connect.dataframe.DataFrame"
        }
       ],
       "dbfsResultPath": null,
       "isJsonSchema": true,
       "metadata": {
        "createTempViewForImplicitDf": true,
        "dataframeName": "_sqldf",
        "executionCount": 10
       },
       "overflow": false,
       "plotOptions": {
        "customPlotOptions": {},
        "displayType": "table",
        "pivotAggregation": null,
        "pivotColumns": null,
        "xColumns": null,
        "yColumns": null
       },
       "removedWidgets": [],
       "schema": [
        {
         "metadata": "{}",
         "name": "delivery_region",
         "type": "\"string\""
        },
        {
         "metadata": "{}",
         "name": "avg_order_total_amount",
         "type": "\"double\""
        },
        {
         "metadata": "{}",
         "name": "pedidos",
         "type": "\"long\""
        },
        {
         "metadata": "{}",
         "name": "clientes",
         "type": "\"long\""
        },
        {
         "metadata": "{}",
         "name": "pedidos_cliente",
         "type": "\"double\""
        }
       ],
       "type": "table"
      }
     },
     "output_type": "display_data"
    },
    {
     "output_type": "display_data",
     "data": {
      "text/plain": [
       "Databricks visualization. Run in Databricks to view."
      ]
     },
     "metadata": {
      "application/vnd.databricks.v1.subcommand+json": {
       "baseErrorDetails": null,
       "bindings": {},
       "collapsed": false,
       "command": "%sql WITH q AS (SELECT CASE\n    WHEN delivery_address_state IN ('SP', 'RJ', 'MG', 'ES') THEN 'Sudeste'\n    WHEN delivery_address_state IN ('RS', 'SC', 'PR') THEN 'Sul'\n    WHEN delivery_address_state IN ('DF', 'GO', 'MT', 'MS') THEN 'Centro-Oeste'\n    WHEN delivery_address_state IN ('BA', 'PE', 'CE', 'AL', 'RN', 'PB', 'SE', 'PI', 'MA') THEN 'Nordeste'\n    WHEN delivery_address_state IN ('AM', 'PA', 'AC') THEN 'Norte'\n    ELSE 'Região desconhecida'\nEND AS delivery_region,\nAVG(order_total_amount) AS ticket_medio_pedido,\nCOUNT(DISTINCT order_id) as pedidos,\nCOUNT(DISTINCT customer_id) as clientes,\nCOUNT(DISTINCT order_id)/COUNT(DISTINCT customer_id) as pedidos_cliente\nFROM ifood_bronze.orders\nGROUP BY 1) SELECT `delivery_region`,SUM(`avg_order_total_amount`) `column_a85c9946252`,`delivery_region` FROM q GROUP BY `delivery_region`",
       "commandTitle": "Visualization 1",
       "commandType": "auto",
       "commandVersion": 0,
       "commentThread": [],
       "commentsVisible": false,
       "contentSha256Hex": null,
       "customPlotOptions": {
        "redashChart": [
         {
          "key": "type",
          "value": "CHART"
         },
         {
          "key": "options",
          "value": {
           "alignYAxesAtZero": true,
           "coefficient": 1,
           "columnConfigurationMap": {
            "series": {
             "column": "delivery_region",
             "id": "column_a85c9946255"
            },
            "x": {
             "column": "delivery_region",
             "id": "column_a85c9946250"
            },
            "y": [
             {
              "column": "avg_order_total_amount",
              "id": "column_a85c9946252",
              "transform": "SUM"
             }
            ]
           },
           "dateTimeFormat": "DD/MM/YYYY HH:mm",
           "direction": {
            "type": "counterclockwise"
           },
           "error_y": {
            "type": "data",
            "visible": true
           },
           "globalSeriesType": "column",
           "hideYAxes": true,
           "isAggregationOn": true,
           "legend": {
            "traceorder": "normal"
           },
           "missingValuesAsZero": true,
           "numberFormat": "0,0.[00]",
           "percentFormat": "0[.]00%",
           "series": {
            "error_y": {
             "type": "data",
             "visible": true
            },
            "stacking": null
           },
           "seriesOptions": {
            "Centro-Oeste": {
             "yAxis": 0,
             "zIndex": 0
            },
            "Nordeste": {
             "yAxis": 0,
             "zIndex": 1
            },
            "Norte": {
             "yAxis": 0,
             "zIndex": 2
            },
            "Sudeste": {
             "yAxis": 0,
             "zIndex": 3
            },
            "Sul": {
             "yAxis": 0,
             "zIndex": 4
            },
            "column_a85c9946252": {
             "type": "column",
             "yAxis": 0
            }
           },
           "showDataLabels": true,
           "sizemode": "diameter",
           "sortX": true,
           "sortY": true,
           "swappedAxes": false,
           "textFormat": "",
           "useAggregationsUi": true,
           "valuesOptions": {},
           "version": 2,
           "xAxis": {
            "labels": {
             "enabled": true
            },
            "title": {
             "text": " "
            },
            "type": "-"
           },
           "yAxis": [
            {
             "type": "-"
            },
            {
             "opposite": true,
             "type": "-"
            }
           ]
          }
         }
        ]
       },
       "datasetPreviewNameToCmdIdMap": {},
       "diffDeletes": [],
       "diffInserts": [],
       "displayType": "redashChart",
       "error": null,
       "errorDetails": null,
       "errorSummary": null,
       "errorTraceType": null,
       "finishTime": 0,
       "globalVars": {},
       "guid": "",
       "height": "auto",
       "hideCommandCode": false,
       "hideCommandResult": false,
       "iPythonMetadata": null,
       "inputWidgets": {},
       "isLockedInExamMode": false,
       "latestUser": "a user",
       "latestUserId": null,
       "listResultMetadata": null,
       "metadata": {},
       "nuid": "308300ed-8780-4c19-b57f-2be5b2016b41",
       "origId": 0,
       "parentHierarchy": [],
       "pivotAggregation": null,
       "pivotColumns": null,
       "position": 12.9921875,
       "resultDbfsErrorMessage": null,
       "resultDbfsStatus": "INLINED_IN_TREE",
       "results": null,
       "showCommandTitle": false,
       "startTime": 0,
       "state": "input",
       "streamStates": {},
       "subcommandOptions": {
        "queryPlan": {
         "groups": [
          {
           "column": "delivery_region",
           "type": "column"
          },
          {
           "column": "delivery_region",
           "type": "column"
          }
         ],
         "selects": [
          {
           "column": "delivery_region",
           "type": "column"
          },
          {
           "alias": "column_a85c9946252",
           "args": [
            {
             "column": "avg_order_total_amount",
             "type": "column"
            }
           ],
           "function": "SUM",
           "type": "function"
          },
          {
           "column": "delivery_region",
           "type": "column"
          }
         ]
        }
       },
       "submitTime": 0,
       "subtype": "tableResultSubCmd.visualization",
       "tableResultIndex": 0,
       "tableResultSettingsMap": {},
       "useConsistentColors": false,
       "version": "CommandV1",
       "width": "auto",
       "workflows": [],
       "xColumns": null,
       "yColumns": null
      }
     },
     "output_type": "display_data"
    },
    {
     "output_type": "display_data",
     "data": {
      "text/plain": [
       "Databricks visualization. Run in Databricks to view."
      ]
     },
     "metadata": {
      "application/vnd.databricks.v1.subcommand+json": {
       "baseErrorDetails": null,
       "bindings": {},
       "collapsed": false,
       "command": "%sql WITH q AS (SELECT CASE\n    WHEN delivery_address_state IN ('SP', 'RJ', 'MG', 'ES') THEN 'Sudeste'\n    WHEN delivery_address_state IN ('RS', 'SC', 'PR') THEN 'Sul'\n    WHEN delivery_address_state IN ('DF', 'GO', 'MT', 'MS') THEN 'Centro-Oeste'\n    WHEN delivery_address_state IN ('BA', 'PE', 'CE', 'AL', 'RN', 'PB', 'SE', 'PI', 'MA') THEN 'Nordeste'\n    WHEN delivery_address_state IN ('AM', 'PA', 'AC') THEN 'Norte'\n    ELSE 'Região desconhecida'\nEND AS delivery_region,\nAVG(order_total_amount) AS ticket_medio_pedido,\nCOUNT(DISTINCT order_id) as pedidos,\nCOUNT(DISTINCT customer_id) as clientes,\nCOUNT(DISTINCT order_id)/COUNT(DISTINCT customer_id) as pedidos_cliente\nFROM ifood_bronze.orders\nGROUP BY 1) SELECT `delivery_region`,SUM(`pedidos_cliente`) `column_a85c9946262`,`delivery_region` FROM q GROUP BY `delivery_region`",
       "commandTitle": "Visualization 2",
       "commandType": "auto",
       "commandVersion": 0,
       "commentThread": [],
       "commentsVisible": false,
       "contentSha256Hex": null,
       "customPlotOptions": {
        "redashChart": [
         {
          "key": "type",
          "value": "CHART"
         },
         {
          "key": "options",
          "value": {
           "alignYAxesAtZero": true,
           "coefficient": 1,
           "columnConfigurationMap": {
            "series": {
             "column": "delivery_region",
             "id": "column_a85c9946260"
            },
            "x": {
             "column": "delivery_region",
             "id": "column_a85c9946258"
            },
            "y": [
             {
              "column": "pedidos_cliente",
              "id": "column_a85c9946262",
              "transform": "SUM"
             }
            ]
           },
           "dateTimeFormat": "DD/MM/YYYY HH:mm",
           "direction": {
            "type": "counterclockwise"
           },
           "error_y": {
            "type": "data",
            "visible": true
           },
           "globalSeriesType": "column",
           "hideYAxes": true,
           "isAggregationOn": true,
           "legend": {
            "traceorder": "normal"
           },
           "missingValuesAsZero": true,
           "numberFormat": "0,0.[00]",
           "percentFormat": "0[.]00%",
           "series": {
            "error_y": {
             "type": "data",
             "visible": true
            },
            "stacking": null
           },
           "seriesOptions": {
            "column_a85c9946262": {
             "type": "column",
             "yAxis": 0
            }
           },
           "showDataLabels": true,
           "sizemode": "diameter",
           "sortX": true,
           "sortY": true,
           "swappedAxes": false,
           "textFormat": "",
           "useAggregationsUi": true,
           "valuesOptions": {},
           "version": 2,
           "xAxis": {
            "labels": {
             "enabled": true
            },
            "title": {
             "text": " "
            },
            "type": "-"
           },
           "yAxis": [
            {
             "type": "-"
            },
            {
             "opposite": true,
             "type": "-"
            }
           ]
          }
         }
        ]
       },
       "datasetPreviewNameToCmdIdMap": {},
       "diffDeletes": [],
       "diffInserts": [],
       "displayType": "redashChart",
       "error": null,
       "errorDetails": null,
       "errorSummary": null,
       "errorTraceType": null,
       "finishTime": 0,
       "globalVars": {},
       "guid": "",
       "height": "auto",
       "hideCommandCode": false,
       "hideCommandResult": false,
       "iPythonMetadata": null,
       "inputWidgets": {},
       "isLockedInExamMode": false,
       "latestUser": "a user",
       "latestUserId": null,
       "listResultMetadata": null,
       "metadata": {},
       "nuid": "392cbb60-a17b-452e-9715-0daeb55a7148",
       "origId": 0,
       "parentHierarchy": [],
       "pivotAggregation": null,
       "pivotColumns": null,
       "position": 13.9921875,
       "resultDbfsErrorMessage": null,
       "resultDbfsStatus": "INLINED_IN_TREE",
       "results": null,
       "showCommandTitle": false,
       "startTime": 0,
       "state": "input",
       "streamStates": {},
       "subcommandOptions": {
        "queryPlan": {
         "groups": [
          {
           "column": "delivery_region",
           "type": "column"
          },
          {
           "column": "delivery_region",
           "type": "column"
          }
         ],
         "selects": [
          {
           "column": "delivery_region",
           "type": "column"
          },
          {
           "alias": "column_a85c9946262",
           "args": [
            {
             "column": "pedidos_cliente",
             "type": "column"
            }
           ],
           "function": "SUM",
           "type": "function"
          },
          {
           "column": "delivery_region",
           "type": "column"
          }
         ]
        }
       },
       "submitTime": 0,
       "subtype": "tableResultSubCmd.visualization",
       "tableResultIndex": 0,
       "tableResultSettingsMap": {},
       "useConsistentColors": false,
       "version": "CommandV1",
       "width": "auto",
       "workflows": [],
       "xColumns": null,
       "yColumns": null
      }
     },
     "output_type": "display_data"
    }
   ],
   "source": [
    "%sql\n",
    "/* Ticket médio e frequência de pedidos por região \n",
    "De-Para de estados para região para otimizar segmentação */\n",
    "SELECT CASE\n",
    "    WHEN delivery_address_state IN ('SP', 'RJ', 'MG', 'ES') THEN 'Sudeste'\n",
    "    WHEN delivery_address_state IN ('RS', 'SC', 'PR') THEN 'Sul'\n",
    "    WHEN delivery_address_state IN ('DF', 'GO', 'MT', 'MS') THEN 'Centro-Oeste'\n",
    "    WHEN delivery_address_state IN ('BA', 'PE', 'CE', 'AL', 'RN', 'PB', 'SE', 'PI', 'MA') THEN 'Nordeste'\n",
    "    WHEN delivery_address_state IN ('AM', 'PA', 'AC') THEN 'Norte'\n",
    "    ELSE 'Região desconhecida'\n",
    "END AS delivery_region,\n",
    "AVG(order_total_amount) AS ticket_medio_pedido,\n",
    "COUNT(DISTINCT order_id) as pedidos,\n",
    "COUNT(DISTINCT customer_id) as clientes,\n",
    "COUNT(DISTINCT order_id)/COUNT(DISTINCT customer_id) as pedidos_cliente\n",
    "FROM ifood_bronze.orders\n",
    "-- Agrupa os dados para cálculo de métricas agregadas\n",
    "GROUP BY 1"
   ]
  },
  {
   "cell_type": "markdown",
   "metadata": {
    "application/vnd.databricks.v1+cell": {
     "cellMetadata": {},
     "inputWidgets": {},
     "nuid": "492fa1dd-1763-48e8-bd0f-30b99798b9ae",
     "showTitle": false,
     "tableResultSettingsMap": {},
     "title": ""
    }
   },
   "source": [
    "Segmentar a região **sudeste** que está com o maior ticket médio e segunda maior frequência por cliente."
   ]
  },
  {
   "cell_type": "code",
   "execution_count": 0,
   "metadata": {
    "application/vnd.databricks.v1+cell": {
     "cellMetadata": {
      "byteLimit": 2048000,
      "implicitDf": true,
      "rowLimit": 10000
     },
     "inputWidgets": {},
     "nuid": "516a7f29-fe38-47a3-bfb3-50aa9ba89fd9",
     "showTitle": false,
     "tableResultSettingsMap": {},
     "title": ""
    }
   },
   "outputs": [
    {
     "output_type": "display_data",
     "data": {
      "text/html": [
       "<style scoped>\n",
       "  .table-result-container {\n",
       "    max-height: 300px;\n",
       "    overflow: auto;\n",
       "  }\n",
       "  table, th, td {\n",
       "    border: 1px solid black;\n",
       "    border-collapse: collapse;\n",
       "  }\n",
       "  th, td {\n",
       "    padding: 5px;\n",
       "  }\n",
       "  th {\n",
       "    text-align: left;\n",
       "  }\n",
       "</style><div class='table-result-container'><table class='table-result'><thead style='background-color: white'><tr><th>price_range</th><th>ticket_medio_pedido</th><th>pedidos</th><th>clientes</th><th>pedidos_cliente</th><th>restaurantes</th></tr></thead><tbody><tr><td>1</td><td>34.92396255708846</td><td>485281</td><td>251008</td><td>1.9333288182049975</td><td>1814</td></tr><tr><td>2</td><td>37.650704126365774</td><td>487518</td><td>259901</td><td>1.875783471398725</td><td>1486</td></tr><tr><td>3</td><td>48.332815539522024</td><td>932550</td><td>456310</td><td>2.0436764480287524</td><td>2524</td></tr><tr><td>4</td><td>60.36933525628949</td><td>384446</td><td>215742</td><td>1.781971058023009</td><td>1018</td></tr><tr><td>5</td><td>90.76500121452668</td><td>143179</td><td>80041</td><td>1.7888207293761946</td><td>449</td></tr></tbody></table></div>"
      ]
     },
     "metadata": {
      "application/vnd.databricks.v1+output": {
       "addedWidgets": {},
       "aggData": [],
       "aggError": "",
       "aggOverflow": false,
       "aggSchema": [],
       "aggSeriesLimitReached": false,
       "aggType": "",
       "arguments": {},
       "columnCustomDisplayInfos": {},
       "data": [
        [
         "1",
         34.92396255708846,
         485281,
         251008,
         1.9333288182049975,
         1814
        ],
        [
         "2",
         37.650704126365774,
         487518,
         259901,
         1.875783471398725,
         1486
        ],
        [
         "3",
         48.332815539522024,
         932550,
         456310,
         2.0436764480287524,
         2524
        ],
        [
         "4",
         60.36933525628949,
         384446,
         215742,
         1.781971058023009,
         1018
        ],
        [
         "5",
         90.76500121452668,
         143179,
         80041,
         1.7888207293761946,
         449
        ]
       ],
       "datasetInfos": [
        {
         "name": "_sqldf",
         "schema": {
          "fields": [
           {
            "metadata": {},
            "name": "price_range",
            "nullable": true,
            "type": "string"
           },
           {
            "metadata": {},
            "name": "ticket_medio_pedido",
            "nullable": true,
            "type": "double"
           },
           {
            "metadata": {},
            "name": "pedidos",
            "nullable": false,
            "type": "long"
           },
           {
            "metadata": {},
            "name": "clientes",
            "nullable": false,
            "type": "long"
           },
           {
            "metadata": {},
            "name": "pedidos_cliente",
            "nullable": true,
            "type": "double"
           },
           {
            "metadata": {},
            "name": "restaurantes",
            "nullable": false,
            "type": "long"
           }
          ],
          "type": "struct"
         },
         "tableIdentifier": null,
         "typeStr": "pyspark.sql.connect.dataframe.DataFrame"
        }
       ],
       "dbfsResultPath": null,
       "isJsonSchema": true,
       "metadata": {
        "createTempViewForImplicitDf": true,
        "dataframeName": "_sqldf",
        "executionCount": 2
       },
       "overflow": false,
       "plotOptions": {
        "customPlotOptions": {},
        "displayType": "table",
        "pivotAggregation": null,
        "pivotColumns": null,
        "xColumns": null,
        "yColumns": null
       },
       "removedWidgets": [],
       "schema": [
        {
         "metadata": "{}",
         "name": "price_range",
         "type": "\"string\""
        },
        {
         "metadata": "{}",
         "name": "ticket_medio_pedido",
         "type": "\"double\""
        },
        {
         "metadata": "{}",
         "name": "pedidos",
         "type": "\"long\""
        },
        {
         "metadata": "{}",
         "name": "clientes",
         "type": "\"long\""
        },
        {
         "metadata": "{}",
         "name": "pedidos_cliente",
         "type": "\"double\""
        },
        {
         "metadata": "{}",
         "name": "restaurantes",
         "type": "\"long\""
        }
       ],
       "type": "table"
      }
     },
     "output_type": "display_data"
    },
    {
     "output_type": "display_data",
     "data": {
      "text/plain": [
       "Databricks visualization. Run in Databricks to view."
      ]
     },
     "metadata": {
      "application/vnd.databricks.v1.subcommand+json": {
       "baseErrorDetails": null,
       "bindings": {},
       "collapsed": false,
       "command": "%sql WITH q AS (SELECT\n  r.price_range,\n  AVG(o.order_total_amount) AS ticket_medio_pedido,\n  COUNT(DISTINCT o.order_id) AS pedidos,\n  COUNT(DISTINCT o.customer_id) AS clientes,\n  COUNT(DISTINCT o.order_id) / COUNT(DISTINCT o.customer_id) AS pedidos_cliente,\n  COUNT(DISTINCT r.id) as restaurantes\nFROM\n  workspace.ifood_bronze.orders o\nINNER JOIN\n  workspace.ifood_bronze.restaurants r\nON\n  r.id = o.merchant_id\nGROUP BY\n  1\nORDER BY\n  1) SELECT `price_range`,SUM(`ticket_medio_pedido`) `column_d60f32a3644` FROM q GROUP BY `price_range`",
       "commandTitle": "Visualization 1",
       "commandType": "auto",
       "commandVersion": 0,
       "commentThread": [],
       "commentsVisible": false,
       "contentSha256Hex": null,
       "customPlotOptions": {
        "redashChart": [
         {
          "key": "type",
          "value": "CHART"
         },
         {
          "key": "options",
          "value": {
           "alignYAxesAtZero": true,
           "coefficient": 1,
           "columnConfigurationMap": {
            "series": {
             "column": "price_range",
             "id": "column_d60f32a3649"
            },
            "x": {
             "column": "price_range",
             "id": "column_d60f32a3642"
            },
            "y": [
             {
              "column": "ticket_medio_pedido",
              "id": "column_d60f32a3644",
              "transform": "SUM"
             }
            ]
           },
           "dateTimeFormat": "DD/MM/YYYY HH:mm",
           "direction": {
            "type": "counterclockwise"
           },
           "error_y": {
            "type": "data",
            "visible": true
           },
           "globalSeriesType": "column",
           "hideYAxes": true,
           "isAggregationOn": true,
           "legend": {
            "enabled": false,
            "traceorder": "normal"
           },
           "missingValuesAsZero": true,
           "numberFormat": "0,0.[00]",
           "percentFormat": "0[.]00%",
           "series": {
            "error_y": {
             "type": "data",
             "visible": true
            },
            "stacking": null
           },
           "seriesOptions": {
            "column_d60f32a3644": {
             "type": "column",
             "yAxis": 0
            }
           },
           "showDataLabels": false,
           "sizemode": "diameter",
           "sortX": true,
           "sortY": true,
           "swappedAxes": false,
           "textFormat": "",
           "useAggregationsUi": true,
           "valuesOptions": {},
           "version": 2,
           "xAxis": {
            "labels": {
             "enabled": true
            },
            "type": "-"
           },
           "yAxis": [
            {
             "type": "-"
            },
            {
             "opposite": true,
             "type": "-"
            }
           ]
          }
         }
        ]
       },
       "datasetPreviewNameToCmdIdMap": {},
       "diffDeletes": [],
       "diffInserts": [],
       "displayType": "redashChart",
       "error": null,
       "errorDetails": null,
       "errorSummary": null,
       "errorTraceType": null,
       "finishTime": 0,
       "globalVars": {},
       "guid": "",
       "height": "auto",
       "hideCommandCode": false,
       "hideCommandResult": false,
       "iPythonMetadata": null,
       "inputWidgets": {},
       "isLockedInExamMode": false,
       "latestUser": "a user",
       "latestUserId": null,
       "listResultMetadata": null,
       "metadata": {},
       "nuid": "780cc38c-89e5-43c3-b77d-8231ec93ef80",
       "origId": 0,
       "parentHierarchy": [],
       "pivotAggregation": null,
       "pivotColumns": null,
       "position": 12.998046875,
       "resultDbfsErrorMessage": null,
       "resultDbfsStatus": "INLINED_IN_TREE",
       "results": null,
       "showCommandTitle": false,
       "startTime": 0,
       "state": "input",
       "streamStates": {},
       "subcommandOptions": {
        "queryPlan": {
         "groups": [
          {
           "column": "price_range",
           "type": "column"
          },
          {
           "column": "price_range",
           "type": "column"
          }
         ],
         "selects": [
          {
           "column": "price_range",
           "type": "column"
          },
          {
           "alias": "column_d60f32a3644",
           "args": [
            {
             "column": "ticket_medio_pedido",
             "type": "column"
            }
           ],
           "function": "SUM",
           "type": "function"
          },
          {
           "column": "price_range",
           "type": "column"
          }
         ]
        }
       },
       "submitTime": 0,
       "subtype": "tableResultSubCmd.visualization",
       "tableResultIndex": 0,
       "tableResultSettingsMap": {},
       "useConsistentColors": false,
       "version": "CommandV1",
       "width": "auto",
       "workflows": [],
       "xColumns": null,
       "yColumns": null
      }
     },
     "output_type": "display_data"
    },
    {
     "output_type": "display_data",
     "data": {
      "text/plain": [
       "Databricks visualization. Run in Databricks to view."
      ]
     },
     "metadata": {
      "application/vnd.databricks.v1.subcommand+json": {
       "baseErrorDetails": null,
       "bindings": {},
       "collapsed": false,
       "command": "%sql WITH q AS (SELECT\n  r.price_range,\n  AVG(o.order_total_amount) AS ticket_medio_pedido,\n  COUNT(DISTINCT o.order_id) AS pedidos,\n  COUNT(DISTINCT o.customer_id) AS clientes,\n  COUNT(DISTINCT o.order_id) / COUNT(DISTINCT o.customer_id) AS pedidos_cliente,\n  COUNT(DISTINCT r.id) as restaurantes\nFROM\n  workspace.ifood_bronze.orders o\nINNER JOIN\n  workspace.ifood_bronze.restaurants r\nON\n  r.id = o.merchant_id\nGROUP BY\n  1\nORDER BY\n  1) SELECT `price_range`,SUM(`ticket_medio_pedido`) `column_d60f32a3644` FROM q GROUP BY `price_range`",
       "commandTitle": "Visualization 2",
       "commandType": "auto",
       "commandVersion": 0,
       "commentThread": [],
       "commentsVisible": false,
       "contentSha256Hex": null,
       "customPlotOptions": {
        "redashChart": [
         {
          "key": "type",
          "value": "CHART"
         },
         {
          "key": "options",
          "value": {
           "alignYAxesAtZero": true,
           "coefficient": 1,
           "columnConfigurationMap": {
            "series": {
             "column": "price_range",
             "id": "column_d60f32a3649"
            },
            "x": {
             "column": "price_range",
             "id": "column_d60f32a3642"
            },
            "y": [
             {
              "column": "pedidos_cliente",
              "id": "column_d60f32a3644",
              "transform": "SUM"
             }
            ]
           },
           "dateTimeFormat": "DD/MM/YYYY HH:mm",
           "direction": {
            "type": "counterclockwise"
           },
           "error_y": {
            "type": "data",
            "visible": true
           },
           "globalSeriesType": "column",
           "hideYAxes": true,
           "isAggregationOn": true,
           "legend": {
            "enabled": false,
            "traceorder": "normal"
           },
           "missingValuesAsZero": true,
           "numberFormat": "0,0.[00]",
           "percentFormat": "0[.]00%",
           "series": {
            "error_y": {
             "type": "data",
             "visible": true
            },
            "stacking": null
           },
           "seriesOptions": {
            "column_d60f32a3644": {
             "type": "column",
             "yAxis": 0
            }
           },
           "showDataLabels": false,
           "sizemode": "diameter",
           "sortX": true,
           "sortY": true,
           "swappedAxes": false,
           "textFormat": "",
           "useAggregationsUi": true,
           "valuesOptions": {},
           "version": 2,
           "xAxis": {
            "labels": {
             "enabled": true
            },
            "type": "-"
           },
           "yAxis": [
            {
             "type": "-"
            },
            {
             "opposite": true,
             "type": "-"
            }
           ]
          }
         }
        ]
       },
       "datasetPreviewNameToCmdIdMap": {},
       "diffDeletes": [],
       "diffInserts": [],
       "displayType": "redashChart",
       "error": null,
       "errorDetails": null,
       "errorSummary": null,
       "errorTraceType": null,
       "finishTime": 0,
       "globalVars": {},
       "guid": "",
       "height": "auto",
       "hideCommandCode": false,
       "hideCommandResult": false,
       "iPythonMetadata": null,
       "inputWidgets": {},
       "isLockedInExamMode": false,
       "latestUser": "a user",
       "latestUserId": null,
       "listResultMetadata": null,
       "metadata": {},
       "nuid": "422b7d47-d98f-484e-8d6f-8c3836896b6b",
       "origId": 0,
       "parentHierarchy": [],
       "pivotAggregation": null,
       "pivotColumns": null,
       "position": 13.998046875,
       "resultDbfsErrorMessage": null,
       "resultDbfsStatus": "INLINED_IN_TREE",
       "results": null,
       "showCommandTitle": false,
       "startTime": 0,
       "state": "input",
       "streamStates": {},
       "subcommandOptions": {
        "queryPlan": {
         "groups": [
          {
           "column": "price_range",
           "type": "column"
          },
          {
           "column": "price_range",
           "type": "column"
          }
         ],
         "selects": [
          {
           "column": "price_range",
           "type": "column"
          },
          {
           "alias": "column_d60f32a3644",
           "args": [
            {
             "column": "pedidos_cliente",
             "type": "column"
            }
           ],
           "function": "SUM",
           "type": "function"
          },
          {
           "column": "price_range",
           "type": "column"
          }
         ]
        }
       },
       "submitTime": 0,
       "subtype": "tableResultSubCmd.visualization",
       "tableResultIndex": 0,
       "tableResultSettingsMap": {},
       "useConsistentColors": false,
       "version": "CommandV1",
       "width": "auto",
       "workflows": [],
       "xColumns": null,
       "yColumns": null
      }
     },
     "output_type": "display_data"
    }
   ],
   "source": [
    "%sql\n",
    "SELECT\n",
    "-- Realiza transformação de tipos de dados para garantir consistência nas análises\n",
    "  CAST(r.price_range AS STRING) AS price_range,\n",
    "  AVG(o.order_total_amount) AS ticket_medio_pedido,\n",
    "  COUNT(DISTINCT o.order_id) AS pedidos,\n",
    "  COUNT(DISTINCT o.customer_id) AS clientes,\n",
    "  COUNT(DISTINCT o.order_id) / COUNT(DISTINCT o.customer_id) AS pedidos_cliente,\n",
    "  COUNT(DISTINCT r.id) as restaurantes\n",
    "FROM\n",
    "  workspace.ifood_bronze.orders o\n",
    "-- Realiza junção entre tabelas para agregar atributos adicionais \n",
    "INNER JOIN\n",
    "  workspace.ifood_bronze.restaurants r\n",
    "ON\n",
    "  r.id = o.merchant_id\n",
    "-- Agrupa os dados para cálculo de métricas agregadas\n",
    "GROUP BY\n",
    "  1\n",
    "-- Ordena os resultados com base em colunas de interesse para facilitar a leitura\n",
    "ORDER BY\n",
    "  1"
   ]
  },
  {
   "cell_type": "markdown",
   "metadata": {
    "application/vnd.databricks.v1+cell": {
     "cellMetadata": {},
     "inputWidgets": {},
     "nuid": "207404d5-be79-4102-abc8-54ba38e4a541",
     "showTitle": false,
     "tableResultSettingsMap": {},
     "title": ""
    }
   },
   "source": [
    "Segmentar os restaurantes de price_range 5 pode elevar o ticket médio da ação, o que pode contribuir para que a receita supere o valor do investimento da campanha."
   ]
  },
  {
   "cell_type": "code",
   "execution_count": 0,
   "metadata": {
    "application/vnd.databricks.v1+cell": {
     "cellMetadata": {
      "byteLimit": 2048000,
      "implicitDf": true,
      "rowLimit": 10000
     },
     "inputWidgets": {},
     "nuid": "cc4195be-de3d-462c-ac6f-de4b7d036f88",
     "showTitle": false,
     "tableResultSettingsMap": {},
     "title": ""
    }
   },
   "outputs": [
    {
     "output_type": "display_data",
     "data": {
      "text/html": [
       "<style scoped>\n",
       "  .table-result-container {\n",
       "    max-height: 300px;\n",
       "    overflow: auto;\n",
       "  }\n",
       "  table, th, td {\n",
       "    border: 1px solid black;\n",
       "    border-collapse: collapse;\n",
       "  }\n",
       "  th, td {\n",
       "    padding: 5px;\n",
       "  }\n",
       "  th {\n",
       "    text-align: left;\n",
       "  }\n",
       "</style><div class='table-result-container'><table class='table-result'><thead style='background-color: white'><tr><th>data_cadastro</th><th>ticket_medio_pedido</th><th>pedidos</th><th>clientes</th><th>pedidos_cliente</th></tr></thead><tbody><tr><td>01-2018</td><td>49.119833800332174</td><td>1463365</td><td>404670</td><td>3.616193441569674</td></tr><tr><td>02-2018</td><td>48.11975368533176</td><td>139805</td><td>56575</td><td>2.4711444984533806</td></tr><tr><td>03-2018</td><td>47.21845114256873</td><td>70313</td><td>30356</td><td>2.31628014231124</td></tr><tr><td>04-2018</td><td>46.39205138770914</td><td>753107</td><td>314555</td><td>2.3941981529462257</td></tr></tbody></table></div>"
      ]
     },
     "metadata": {
      "application/vnd.databricks.v1+output": {
       "addedWidgets": {},
       "aggData": [],
       "aggError": "",
       "aggOverflow": false,
       "aggSchema": [],
       "aggSeriesLimitReached": false,
       "aggType": "",
       "arguments": {},
       "columnCustomDisplayInfos": {},
       "data": [
        [
         "01-2018",
         49.119833800332174,
         1463365,
         404670,
         3.616193441569674
        ],
        [
         "02-2018",
         48.11975368533176,
         139805,
         56575,
         2.4711444984533806
        ],
        [
         "03-2018",
         47.21845114256873,
         70313,
         30356,
         2.31628014231124
        ],
        [
         "04-2018",
         46.39205138770914,
         753107,
         314555,
         2.3941981529462257
        ]
       ],
       "datasetInfos": [
        {
         "name": "_sqldf",
         "schema": {
          "fields": [
           {
            "metadata": {},
            "name": "data_cadastro",
            "nullable": true,
            "type": "string"
           },
           {
            "metadata": {},
            "name": "ticket_medio_pedido",
            "nullable": true,
            "type": "double"
           },
           {
            "metadata": {},
            "name": "pedidos",
            "nullable": true,
            "type": "long"
           },
           {
            "metadata": {},
            "name": "clientes",
            "nullable": false,
            "type": "long"
           },
           {
            "metadata": {},
            "name": "pedidos_cliente",
            "nullable": true,
            "type": "double"
           }
          ],
          "type": "struct"
         },
         "tableIdentifier": null,
         "typeStr": "pyspark.sql.connect.dataframe.DataFrame"
        }
       ],
       "dbfsResultPath": null,
       "isJsonSchema": true,
       "metadata": {
        "createTempViewForImplicitDf": true,
        "dataframeName": "_sqldf",
        "executionCount": 2
       },
       "overflow": false,
       "plotOptions": {
        "customPlotOptions": {},
        "displayType": "table",
        "pivotAggregation": null,
        "pivotColumns": null,
        "xColumns": null,
        "yColumns": null
       },
       "removedWidgets": [],
       "schema": [
        {
         "metadata": "{}",
         "name": "data_cadastro",
         "type": "\"string\""
        },
        {
         "metadata": "{}",
         "name": "ticket_medio_pedido",
         "type": "\"double\""
        },
        {
         "metadata": "{}",
         "name": "pedidos",
         "type": "\"long\""
        },
        {
         "metadata": "{}",
         "name": "clientes",
         "type": "\"long\""
        },
        {
         "metadata": "{}",
         "name": "pedidos_cliente",
         "type": "\"double\""
        }
       ],
       "type": "table"
      }
     },
     "output_type": "display_data"
    },
    {
     "output_type": "display_data",
     "data": {
      "text/plain": [
       "Databricks visualization. Run in Databricks to view."
      ]
     },
     "metadata": {
      "application/vnd.databricks.v1.subcommand+json": {
       "baseErrorDetails": null,
       "bindings": {},
       "collapsed": false,
       "command": "%sql WITH q AS (WITH consumer_data AS (\n  SELECT \n    date_format(created_at, 'MM-yyyy') as data_cadastro, \n    customer_id\n  FROM \n    workspace.ifood_bronze.consumers\n),\norder_data AS (\n  SELECT \n    o.customer_id,\n    AVG(o.order_total_amount) AS ticket_medio_pedido,\n    COUNT(DISTINCT o.order_id) AS pedidos,\n    COUNT(DISTINCT o.customer_id) AS clientes,\n    COUNT(DISTINCT o.order_id) / COUNT(DISTINCT o.customer_id) AS pedidos_cliente,\n    COUNT(DISTINCT r.id) as restaurantes\n  FROM \n    workspace.ifood_bronze.orders o\n  LEFT JOIN \n    workspace.ifood_bronze.restaurants r\n  ON \n    o.merchant_id = r.id\n  GROUP BY ALL\n)\nSELECT \n  c.data_cadastro,\n  AVG(o.ticket_medio_pedido) AS ticket_medio_pedido,\n  SUM(o.pedidos) AS pedidos,\n  COUNT(DISTINCT c.customer_id) AS clientes,\n  AVG(o.pedidos_cliente) AS pedidos_cliente\n\nFROM \n  consumer_data c\nJOIN \n  order_data o\nON \n  c.customer_id = o.customer_id\nGROUP BY \n  1\nORDER BY \n  1) SELECT `data_cadastro`,SUM(`ticket_medio_pedido`) `column_d60f32a3654`,`data_cadastro` FROM q GROUP BY `data_cadastro`",
       "commandTitle": "Visualization 1",
       "commandType": "auto",
       "commandVersion": 0,
       "commentThread": [],
       "commentsVisible": false,
       "contentSha256Hex": null,
       "customPlotOptions": {
        "redashChart": [
         {
          "key": "type",
          "value": "CHART"
         },
         {
          "key": "options",
          "value": {
           "alignYAxesAtZero": true,
           "coefficient": 1,
           "columnConfigurationMap": {
            "series": {
             "column": "data_cadastro",
             "id": "column_d60f32a3656"
            },
            "x": {
             "column": "data_cadastro",
             "id": "column_d60f32a3652"
            },
            "y": [
             {
              "column": "ticket_medio_pedido",
              "id": "column_d60f32a3654",
              "transform": "SUM"
             }
            ]
           },
           "dateTimeFormat": "DD/MM/YYYY HH:mm",
           "direction": {
            "type": "counterclockwise"
           },
           "error_y": {
            "type": "data",
            "visible": true
           },
           "globalSeriesType": "column",
           "hideYAxes": true,
           "isAggregationOn": true,
           "legend": {
            "enabled": false,
            "traceorder": "normal"
           },
           "missingValuesAsZero": true,
           "numberFormat": "0,0.[00000]",
           "percentFormat": "0[.]00%",
           "series": {
            "error_y": {
             "type": "data",
             "visible": true
            },
            "stacking": null
           },
           "seriesOptions": {
            "column_d60f32a3654": {
             "type": "column",
             "yAxis": 0
            }
           },
           "showDataLabels": false,
           "sizemode": "diameter",
           "sortX": true,
           "sortY": true,
           "swappedAxes": false,
           "textFormat": "",
           "useAggregationsUi": true,
           "valuesOptions": {},
           "version": 2,
           "xAxis": {
            "labels": {
             "enabled": true
            },
            "title": {
             "text": " "
            },
            "type": "-"
           },
           "yAxis": [
            {
             "type": "-"
            },
            {
             "opposite": true,
             "type": "-"
            }
           ]
          }
         }
        ]
       },
       "datasetPreviewNameToCmdIdMap": {},
       "diffDeletes": [],
       "diffInserts": [],
       "displayType": "redashChart",
       "error": null,
       "errorDetails": null,
       "errorSummary": null,
       "errorTraceType": null,
       "finishTime": 0,
       "globalVars": {},
       "guid": "",
       "height": "auto",
       "hideCommandCode": false,
       "hideCommandResult": false,
       "iPythonMetadata": null,
       "inputWidgets": {},
       "isLockedInExamMode": false,
       "latestUser": "a user",
       "latestUserId": null,
       "listResultMetadata": null,
       "metadata": {},
       "nuid": "43282ef5-0d98-4c73-8f47-9c1cc25aef51",
       "origId": 0,
       "parentHierarchy": [],
       "pivotAggregation": null,
       "pivotColumns": null,
       "position": 12.99951171875,
       "resultDbfsErrorMessage": null,
       "resultDbfsStatus": "INLINED_IN_TREE",
       "results": null,
       "showCommandTitle": false,
       "startTime": 0,
       "state": "input",
       "streamStates": {},
       "subcommandOptions": {
        "queryPlan": {
         "groups": [
          {
           "column": "data_cadastro",
           "type": "column"
          },
          {
           "column": "data_cadastro",
           "type": "column"
          }
         ],
         "selects": [
          {
           "column": "data_cadastro",
           "type": "column"
          },
          {
           "alias": "column_d60f32a3654",
           "args": [
            {
             "column": "ticket_medio_pedido",
             "type": "column"
            }
           ],
           "function": "SUM",
           "type": "function"
          },
          {
           "column": "data_cadastro",
           "type": "column"
          }
         ]
        }
       },
       "submitTime": 0,
       "subtype": "tableResultSubCmd.visualization",
       "tableResultIndex": 0,
       "tableResultSettingsMap": {},
       "useConsistentColors": false,
       "version": "CommandV1",
       "width": "auto",
       "workflows": [],
       "xColumns": null,
       "yColumns": null
      }
     },
     "output_type": "display_data"
    },
    {
     "output_type": "display_data",
     "data": {
      "text/plain": [
       "Databricks visualization. Run in Databricks to view."
      ]
     },
     "metadata": {
      "application/vnd.databricks.v1.subcommand+json": {
       "baseErrorDetails": null,
       "bindings": {},
       "collapsed": false,
       "command": "%sql WITH q AS (WITH consumer_data AS (\n  SELECT \n    date_format(created_at, 'MM-yyyy') as data_cadastro, \n    customer_id\n  FROM \n    workspace.ifood_bronze.consumers\n),\norder_data AS (\n  SELECT \n    o.customer_id,\n    AVG(o.order_total_amount) AS ticket_medio_pedido,\n    COUNT(DISTINCT o.order_id) AS pedidos,\n    COUNT(DISTINCT o.customer_id) AS clientes,\n    COUNT(DISTINCT o.order_id) / COUNT(DISTINCT o.customer_id) AS pedidos_cliente,\n    COUNT(DISTINCT r.id) as restaurantes\n  FROM \n    workspace.ifood_bronze.orders o\n  LEFT JOIN \n    workspace.ifood_bronze.restaurants r\n  ON \n    o.merchant_id = r.id\n  GROUP BY ALL\n)\nSELECT \n  c.data_cadastro,\n  AVG(o.ticket_medio_pedido) AS ticket_medio_pedido,\n  SUM(o.pedidos) AS pedidos,\n  COUNT(DISTINCT c.customer_id) AS clientes,\n  AVG(o.pedidos_cliente) AS pedidos_cliente\n\nFROM \n  consumer_data c\nJOIN \n  order_data o\nON \n  c.customer_id = o.customer_id\nGROUP BY \n  1\nORDER BY \n  1) SELECT `data_cadastro`,SUM(`ticket_medio_pedido`) `column_d60f32a3654`,`data_cadastro` FROM q GROUP BY `data_cadastro`",
       "commandTitle": "Visualization 2",
       "commandType": "auto",
       "commandVersion": 0,
       "commentThread": [],
       "commentsVisible": false,
       "contentSha256Hex": null,
       "customPlotOptions": {
        "redashChart": [
         {
          "key": "type",
          "value": "CHART"
         },
         {
          "key": "options",
          "value": {
           "alignYAxesAtZero": true,
           "coefficient": 1,
           "columnConfigurationMap": {
            "series": {
             "column": "data_cadastro",
             "id": "column_d60f32a3656"
            },
            "x": {
             "column": "data_cadastro",
             "id": "column_d60f32a3652"
            },
            "y": [
             {
              "column": "pedidos_cliente",
              "id": "column_d60f32a3654",
              "transform": "SUM"
             }
            ]
           },
           "dateTimeFormat": "DD/MM/YYYY HH:mm",
           "direction": {
            "type": "counterclockwise"
           },
           "error_y": {
            "type": "data",
            "visible": true
           },
           "globalSeriesType": "column",
           "hideYAxes": true,
           "isAggregationOn": true,
           "legend": {
            "enabled": false,
            "traceorder": "normal"
           },
           "missingValuesAsZero": true,
           "numberFormat": "0,0.[00000]",
           "percentFormat": "0[.]00%",
           "series": {
            "error_y": {
             "type": "data",
             "visible": true
            },
            "stacking": null
           },
           "seriesOptions": {
            "column_d60f32a3654": {
             "type": "column",
             "yAxis": 0
            }
           },
           "showDataLabels": false,
           "sizemode": "diameter",
           "sortX": true,
           "sortY": true,
           "swappedAxes": false,
           "textFormat": "",
           "useAggregationsUi": true,
           "valuesOptions": {},
           "version": 2,
           "xAxis": {
            "labels": {
             "enabled": true
            },
            "title": {
             "text": " "
            },
            "type": "-"
           },
           "yAxis": [
            {
             "type": "-"
            },
            {
             "opposite": true,
             "type": "-"
            }
           ]
          }
         }
        ]
       },
       "datasetPreviewNameToCmdIdMap": {},
       "diffDeletes": [],
       "diffInserts": [],
       "displayType": "redashChart",
       "error": null,
       "errorDetails": null,
       "errorSummary": null,
       "errorTraceType": null,
       "finishTime": 0,
       "globalVars": {},
       "guid": "",
       "height": "auto",
       "hideCommandCode": false,
       "hideCommandResult": false,
       "iPythonMetadata": null,
       "inputWidgets": {},
       "isLockedInExamMode": false,
       "latestUser": "a user",
       "latestUserId": null,
       "listResultMetadata": null,
       "metadata": {},
       "nuid": "3976f7be-9614-481f-b425-ee14a0e1b8c4",
       "origId": 0,
       "parentHierarchy": [],
       "pivotAggregation": null,
       "pivotColumns": null,
       "position": 13.99951171875,
       "resultDbfsErrorMessage": null,
       "resultDbfsStatus": "INLINED_IN_TREE",
       "results": null,
       "showCommandTitle": false,
       "startTime": 0,
       "state": "input",
       "streamStates": {},
       "subcommandOptions": {
        "queryPlan": {
         "groups": [
          {
           "column": "data_cadastro",
           "type": "column"
          },
          {
           "column": "data_cadastro",
           "type": "column"
          }
         ],
         "selects": [
          {
           "column": "data_cadastro",
           "type": "column"
          },
          {
           "alias": "column_d60f32a3654",
           "args": [
            {
             "column": "pedidos_cliente",
             "type": "column"
            }
           ],
           "function": "SUM",
           "type": "function"
          },
          {
           "column": "data_cadastro",
           "type": "column"
          }
         ]
        }
       },
       "submitTime": 0,
       "subtype": "tableResultSubCmd.visualization",
       "tableResultIndex": 0,
       "tableResultSettingsMap": {},
       "useConsistentColors": false,
       "version": "CommandV1",
       "width": "auto",
       "workflows": [],
       "xColumns": null,
       "yColumns": null
      }
     },
     "output_type": "display_data"
    }
   ],
   "source": [
    "%sql\n",
    "-- Cria uma CTE (Common Table Expression) para estruturar consultas complexas de forma modular\n",
    "WITH consumer_data AS (\n",
    "  SELECT \n",
    "    date_format(created_at, 'MM-yyyy') as data_cadastro, \n",
    "    customer_id\n",
    "  FROM \n",
    "    workspace.ifood_bronze.consumers\n",
    "),\n",
    "order_data AS (\n",
    "  SELECT \n",
    "    o.customer_id,\n",
    "    AVG(o.order_total_amount) AS ticket_medio_pedido,\n",
    "    COUNT(DISTINCT o.order_id) AS pedidos,\n",
    "    COUNT(DISTINCT o.customer_id) AS clientes,\n",
    "    COUNT(DISTINCT o.order_id) / COUNT(DISTINCT o.customer_id) AS pedidos_cliente,\n",
    "    COUNT(DISTINCT r.id) as restaurantes\n",
    "  FROM \n",
    "    workspace.ifood_bronze.orders o\n",
    "-- Realiza junção entre tabelas para agregar atributos adicionais\n",
    "  LEFT JOIN \n",
    "    workspace.ifood_bronze.restaurants r\n",
    "  ON \n",
    "    o.merchant_id = r.id\n",
    "-- Agrupa os dados para cálculo de métricas agregadas\n",
    "  GROUP BY ALL\n",
    ")\n",
    "SELECT \n",
    "  c.data_cadastro,\n",
    "  AVG(o.ticket_medio_pedido) AS ticket_medio_pedido,\n",
    "  SUM(o.pedidos) AS pedidos,\n",
    "  COUNT(DISTINCT c.customer_id) AS clientes,\n",
    "  AVG(o.pedidos_cliente) AS pedidos_cliente\n",
    "\n",
    "FROM \n",
    "  consumer_data c\n",
    "-- Realiza junção entre tabelas para agregar atributos adicionais\n",
    "JOIN \n",
    "  order_data o\n",
    "ON \n",
    "  c.customer_id = o.customer_id\n",
    "-- Agrupa os dados para cálculo de métricas agregadas\n",
    "GROUP BY \n",
    "  1\n",
    "-- Ordena os resultados com base em colunas de interesse para facilitar a leitura\n",
    "ORDER BY \n",
    "  1"
   ]
  },
  {
   "cell_type": "markdown",
   "metadata": {
    "application/vnd.databricks.v1+cell": {
     "cellMetadata": {},
     "inputWidgets": {},
     "nuid": "9e2df8ff-e3a8-469f-819c-4b803c7cf3ae",
     "showTitle": false,
     "tableResultSettingsMap": {},
     "title": ""
    }
   },
   "source": [
    "Os clientes com data de cadastro em janeiro de 2018 possuem maior ticket médio e maior frequência de pedidos. Vale a pena focar nesses consumidores mais antigos."
   ]
  },
  {
   "cell_type": "markdown",
   "metadata": {
    "application/vnd.databricks.v1+cell": {
     "cellMetadata": {},
     "inputWidgets": {},
     "nuid": "c43bb1eb-0880-4f84-ba0e-c60c95f997a4",
     "showTitle": false,
     "tableResultSettingsMap": {},
     "title": ""
    }
   },
   "source": [
    "| Segmento Combinado         | Critérios                                             | Justificativa                                                                                                        |\n",
    "| -------------------------- | ----------------------------------------------------- | -------------------------------------------------------------------------------------------------------------------- |\n",
    "| **Sudeste Gourmet**        | Região Sudeste + Restaurantes de price\\_range 5       | Clientes de alto ticket, em restaurantes premium, em região de alto volume — ideal para maximizar receita por pedido |\n",
    "| **Veteranos Gourmet** | Clientes cadastrados em 01/2018 + price\\_range  5 | Clientes antigos com alta frequência e dispostos a gastar mais — podem ter alto engajamento e boa margem             |\n",
    "| **Food Fiéis Sudeste**  | Região Sudeste + Cadastro em 01/2018                  | Segmento grande, com bom histórico e potencial de alta resposta à campanha                                           |\n"
   ]
  },
  {
   "cell_type": "markdown",
   "metadata": {
    "application/vnd.databricks.v1+cell": {
     "cellMetadata": {},
     "inputWidgets": {},
     "nuid": "68ebda0c-6c76-4f73-aa60-0b0a430a0a6f",
     "showTitle": false,
     "tableResultSettingsMap": {},
     "title": ""
    }
   },
   "source": [
    "**b)** Estabelecer quais serão os critérios utilizados para cada segmento sugerido no item a). Utilize os critérios/ferramentas que \n",
    "achar necessários, mas lembre-se de explicar o racional utilizado na criação."
   ]
  },
  {
   "cell_type": "markdown",
   "metadata": {
    "application/vnd.databricks.v1+cell": {
     "cellMetadata": {},
     "inputWidgets": {},
     "nuid": "a0aaf4e5-be57-4571-a7ce-d2dd5ce7f59d",
     "showTitle": false,
     "tableResultSettingsMap": {},
     "title": ""
    }
   },
   "source": [
    "**1. Sudeste Gourmet**\n",
    "\n",
    "Critérios:\n",
    "- delivery_region = 'Sudeste'\n",
    "- price_range = 5\n",
    "\n",
    "Racional:\n",
    "- A região Sudeste apresentou o maior ticket médio (R$ 49,93) e alta frequência por cliente.\n",
    "- Restaurantes com price_range 5 têm ticket médio acima de R$ 90, o que dilui melhor o valor do cupom e aumenta o ROI.\n",
    "- Combinar esses dois filtros identifica clientes com potencial de gasto elevado e boa recorrência, ideal para ações de conversão de alto valor.\n",
    "\n",
    "**2. Veteranos Gourmet**\n",
    "\n",
    "Critérios:\n",
    "- data_cadastro = 01/2018\n",
    "- price_range = 5\n",
    "\n",
    "Racional:\n",
    "- Esse segmento reúne clientes antigos, com longa jornada no app e que seguem ativos, realizando pedidos em restaurantes premium.\n",
    "- Frequência acima da média: clientes cadastrados em janeiro de 2018 fazem em média 3,6 pedidos por cliente.\n",
    "- Restaurantes com price_range 5 possuem ticket médio de R$ 90,77.\n",
    "- Clientes de janeiro de 2018 têm ticket médio de R$ 49,12.\n",
    "\n",
    "**3. Food Fiéis Sudeste**\n",
    "\n",
    "Critérios:\n",
    "- data_cadastro = 01/2018\n",
    "- delivery_region = 'Sudeste'\n",
    "\n",
    "Racional:\n",
    "- Esse grupo representa usuários experientes e leais, concentrados na região de maior volume e valor da operação do iFood.\n",
    "- Alta frequência de pedidos com 3,6 pedidos por cliente (cadastro 01/2018).\n",
    "- Maior ticket médio regional: sudeste com R$ 49,93, superando todas as outras regiões.\n",
    "- Grande volume de pedidos: Sudeste teve 1.694.302 pedidos no período analisado, sendo o principal mercado."
   ]
  },
  {
   "cell_type": "markdown",
   "metadata": {
    "application/vnd.databricks.v1+cell": {
     "cellMetadata": {},
     "inputWidgets": {},
     "nuid": "677d68af-b10b-4528-aa3b-96b93f16e7c0",
     "showTitle": false,
     "tableResultSettingsMap": {},
     "title": ""
    }
   },
   "source": [
    "### 5.2 Análise do teste A/B com novos segmentos"
   ]
  },
  {
   "cell_type": "markdown",
   "metadata": {
    "application/vnd.databricks.v1+cell": {
     "cellMetadata": {},
     "inputWidgets": {},
     "nuid": "9ffbbf90-5ff8-4f86-bb5a-d69102f76ec2",
     "showTitle": false,
     "tableResultSettingsMap": {},
     "title": ""
    }
   },
   "source": [
    "**c)** Analisar os resultados do teste A/B com base nos segmentos definidos nos itens a) e b). "
   ]
  },
  {
   "cell_type": "markdown",
   "metadata": {
    "application/vnd.databricks.v1+cell": {
     "cellMetadata": {},
     "inputWidgets": {},
     "nuid": "47c07a33-95cb-4260-b237-8b508bcae285",
     "showTitle": false,
     "tableResultSettingsMap": {},
     "title": ""
    }
   },
   "source": [
    "#### 5.21 Testando segmentação Sudeste Gourmet"
   ]
  },
  {
   "cell_type": "code",
   "execution_count": 0,
   "metadata": {
    "application/vnd.databricks.v1+cell": {
     "cellMetadata": {
      "byteLimit": 2048000,
      "implicitDf": true,
      "rowLimit": 10000
     },
     "inputWidgets": {},
     "nuid": "93b80b21-a877-4e2a-94fb-fb30b683a8f5",
     "showTitle": false,
     "tableResultSettingsMap": {},
     "title": ""
    }
   },
   "outputs": [
    {
     "output_type": "display_data",
     "data": {
      "text/html": [
       "<style scoped>\n",
       "  .table-result-container {\n",
       "    max-height: 300px;\n",
       "    overflow: auto;\n",
       "  }\n",
       "  table, th, td {\n",
       "    border: 1px solid black;\n",
       "    border-collapse: collapse;\n",
       "  }\n",
       "  th, td {\n",
       "    padding: 5px;\n",
       "  }\n",
       "  th {\n",
       "    text-align: left;\n",
       "  }\n",
       "</style><div class='table-result-container'><table class='table-result'><thead style='background-color: white'><tr><th>is_target</th><th>receita_total</th><th>clientes</th><th>ticket_medio</th><th>delivery_region</th></tr></thead><tbody><tr><td>target</td><td>1.1246750045726156E8</td><td>37408</td><td>3006.509315046556</td><td>Sudeste</td></tr><tr><td>control</td><td>7.52825694929831E7</td><td>27471</td><td>2740.4378978917075</td><td>Sudeste</td></tr></tbody></table></div>"
      ]
     },
     "metadata": {
      "application/vnd.databricks.v1+output": {
       "addedWidgets": {},
       "aggData": [],
       "aggError": "",
       "aggOverflow": false,
       "aggSchema": [],
       "aggSeriesLimitReached": false,
       "aggType": "",
       "arguments": {},
       "columnCustomDisplayInfos": {},
       "data": [
        [
         "target",
         1.1246750045726156E8,
         37408,
         3006.509315046556,
         "Sudeste"
        ],
        [
         "control",
         7.52825694929831E7,
         27471,
         2740.4378978917075,
         "Sudeste"
        ]
       ],
       "datasetInfos": [
        {
         "name": "_sqldf",
         "schema": {
          "fields": [
           {
            "metadata": {},
            "name": "is_target",
            "nullable": true,
            "type": "string"
           },
           {
            "metadata": {},
            "name": "receita_total",
            "nullable": true,
            "type": "double"
           },
           {
            "metadata": {},
            "name": "clientes",
            "nullable": false,
            "type": "long"
           },
           {
            "metadata": {},
            "name": "ticket_medio",
            "nullable": true,
            "type": "double"
           },
           {
            "metadata": {},
            "name": "delivery_region",
            "nullable": false,
            "type": "string"
           }
          ],
          "type": "struct"
         },
         "tableIdentifier": null,
         "typeStr": "pyspark.sql.connect.dataframe.DataFrame"
        }
       ],
       "dbfsResultPath": null,
       "isJsonSchema": true,
       "metadata": {
        "createTempViewForImplicitDf": true,
        "dataframeName": "_sqldf",
        "executionCount": 18
       },
       "overflow": false,
       "plotOptions": {
        "customPlotOptions": {},
        "displayType": "table",
        "pivotAggregation": null,
        "pivotColumns": null,
        "xColumns": null,
        "yColumns": null
       },
       "removedWidgets": [],
       "schema": [
        {
         "metadata": "{}",
         "name": "is_target",
         "type": "\"string\""
        },
        {
         "metadata": "{}",
         "name": "receita_total",
         "type": "\"double\""
        },
        {
         "metadata": "{}",
         "name": "clientes",
         "type": "\"long\""
        },
        {
         "metadata": "{}",
         "name": "ticket_medio",
         "type": "\"double\""
        },
        {
         "metadata": "{}",
         "name": "delivery_region",
         "type": "\"string\""
        }
       ],
       "type": "table"
      }
     },
     "output_type": "display_data"
    },
    {
     "output_type": "display_data",
     "data": {
      "text/plain": [
       "Databricks visualization. Run in Databricks to view."
      ]
     },
     "metadata": {
      "application/vnd.databricks.v1.subcommand+json": {
       "baseErrorDetails": null,
       "bindings": {},
       "collapsed": false,
       "command": "%sql WITH q AS (SELECT \n    a.is_target, \n    SUM(b.order_total_amount) AS receita_total, \n    COUNT(DISTINCT b.customer_id) AS clientes, \n    SUM(b.order_total_amount) / COUNT(DISTINCT b.customer_id) AS ticket_medio,\n    CASE\n        WHEN o.delivery_address_state IN ('SP', 'RJ', 'MG', 'ES') THEN 'Sudeste'\n        WHEN o.delivery_address_state IN ('RS', 'SC', 'PR') THEN 'Sul'\n        WHEN o.delivery_address_state IN ('DF', 'GO', 'MT', 'MS') THEN 'Centro-Oeste'\n        WHEN o.delivery_address_state IN ('BA', 'PE', 'CE', 'AL', 'RN', 'PB', 'SE', 'PI', 'MA') THEN 'Nordeste'\n        WHEN o.delivery_address_state IN ('AM', 'PA', 'AC') THEN 'Norte'\n        ELSE 'Região desconhecida'\n    END AS delivery_region\nFROM \n    ifood_bronze.orders b\nINNER JOIN \n    ifood_bronze.ab_test_ref a ON a.customer_id = b.customer_id\nINNER JOIN \n    ifood_bronze.orders o ON a.customer_id = o.customer_id\nINNER JOIN \n    ifood_bronze.restaurants r ON o.merchant_id = r.id\nWHERE \n    CASE\n        WHEN o.delivery_address_state IN ('SP', 'RJ', 'MG', 'ES') THEN 'Sudeste'\n        WHEN o.delivery_address_state IN ('RS', 'SC', 'PR') THEN 'Sul'\n        WHEN o.delivery_address_state IN ('DF', 'GO', 'MT', 'MS') THEN 'Centro-Oeste'\n        WHEN o.delivery_address_state IN ('BA', 'PE', 'CE', 'AL', 'RN', 'PB', 'SE', 'PI', 'MA') THEN 'Nordeste'\n        WHEN o.delivery_address_state IN ('AM', 'PA', 'AC') THEN 'Norte'\n        ELSE 'Região desconhecida'\n    END = 'Sudeste'\n    AND r.price_range = 5\nGROUP BY \n    a.is_target, \n    CASE\n        WHEN o.delivery_address_state IN ('SP', 'RJ', 'MG', 'ES') THEN 'Sudeste'\n        WHEN o.delivery_address_state IN ('RS', 'SC', 'PR') THEN 'Sul'\n        WHEN o.delivery_address_state IN ('DF', 'GO', 'MT', 'MS') THEN 'Centro-Oeste'\n        WHEN o.delivery_address_state IN ('BA', 'PE', 'CE', 'AL', 'RN', 'PB', 'SE', 'PI', 'MA') THEN 'Nordeste'\n        WHEN o.delivery_address_state IN ('AM', 'PA', 'AC') THEN 'Norte'\n        ELSE 'Região desconhecida'\n    END) SELECT `is_target`,SUM(`ticket_medio`) `column_d60f32a3661` FROM q GROUP BY `is_target`",
       "commandTitle": "Visualization 1",
       "commandType": "auto",
       "commandVersion": 0,
       "commentThread": [],
       "commentsVisible": false,
       "contentSha256Hex": null,
       "customPlotOptions": {
        "redashChart": [
         {
          "key": "type",
          "value": "CHART"
         },
         {
          "key": "options",
          "value": {
           "alignYAxesAtZero": true,
           "coefficient": 1,
           "columnConfigurationMap": {
            "x": {
             "column": "is_target",
             "id": "column_d60f32a3659"
            },
            "y": [
             {
              "column": "ticket_medio",
              "id": "column_d60f32a3661",
              "transform": "SUM"
             }
            ]
           },
           "dateTimeFormat": "DD/MM/YYYY HH:mm",
           "direction": {
            "type": "counterclockwise"
           },
           "error_y": {
            "type": "data",
            "visible": true
           },
           "globalSeriesType": "column",
           "hideYAxes": true,
           "isAggregationOn": true,
           "legend": {
            "traceorder": "normal"
           },
           "missingValuesAsZero": true,
           "numberFormat": "0,0.[00000]",
           "percentFormat": "0[.]00%",
           "series": {
            "error_y": {
             "type": "data",
             "visible": true
            },
            "stacking": null
           },
           "seriesOptions": {
            "column_d60f32a3661": {
             "color": "#FFAB00",
             "type": "column",
             "yAxis": 0
            }
           },
           "showDataLabels": false,
           "sizemode": "diameter",
           "sortX": true,
           "sortY": true,
           "swappedAxes": true,
           "textFormat": "",
           "useAggregationsUi": true,
           "valuesOptions": {},
           "version": 2,
           "xAxis": {
            "labels": {
             "enabled": true
            },
            "title": {
             "text": " "
            },
            "type": "-"
           },
           "yAxis": [
            {
             "type": "-"
            },
            {
             "opposite": true,
             "type": "-"
            }
           ]
          }
         }
        ]
       },
       "datasetPreviewNameToCmdIdMap": {},
       "diffDeletes": [],
       "diffInserts": [],
       "displayType": "redashChart",
       "error": null,
       "errorDetails": null,
       "errorSummary": null,
       "errorTraceType": null,
       "finishTime": 0,
       "globalVars": {},
       "guid": "",
       "height": "auto",
       "hideCommandCode": false,
       "hideCommandResult": false,
       "iPythonMetadata": null,
       "inputWidgets": {},
       "isLockedInExamMode": false,
       "latestUser": "a user",
       "latestUserId": null,
       "listResultMetadata": null,
       "metadata": {},
       "nuid": "99de6e46-fe4f-4fe1-a3eb-9043bd9aa1fc",
       "origId": 0,
       "parentHierarchy": [],
       "pivotAggregation": null,
       "pivotColumns": null,
       "position": 12.999992370605469,
       "resultDbfsErrorMessage": null,
       "resultDbfsStatus": "INLINED_IN_TREE",
       "results": null,
       "showCommandTitle": false,
       "startTime": 0,
       "state": "input",
       "streamStates": {},
       "subcommandOptions": {
        "queryPlan": {
         "groups": [
          {
           "column": "is_target",
           "type": "column"
          }
         ],
         "selects": [
          {
           "column": "is_target",
           "type": "column"
          },
          {
           "alias": "column_d60f32a3661",
           "args": [
            {
             "column": "ticket_medio",
             "type": "column"
            }
           ],
           "function": "SUM",
           "type": "function"
          }
         ]
        }
       },
       "submitTime": 0,
       "subtype": "tableResultSubCmd.visualization",
       "tableResultIndex": 0,
       "tableResultSettingsMap": {},
       "useConsistentColors": false,
       "version": "CommandV1",
       "width": "auto",
       "workflows": [],
       "xColumns": null,
       "yColumns": null
      }
     },
     "output_type": "display_data"
    }
   ],
   "source": [
    "%sql\n",
    "SELECT \n",
    "    a.is_target, \n",
    "    SUM(b.order_total_amount) AS receita_total, \n",
    "    COUNT(DISTINCT b.customer_id) AS clientes, \n",
    "    SUM(b.order_total_amount) / COUNT(DISTINCT b.customer_id) AS ticket_medio,\n",
    "    -- Case when formulado para transformar estado em região\n",
    "    CASE\n",
    "        WHEN o.delivery_address_state IN ('SP', 'RJ', 'MG', 'ES') THEN 'Sudeste'\n",
    "        WHEN o.delivery_address_state IN ('RS', 'SC', 'PR') THEN 'Sul'\n",
    "        WHEN o.delivery_address_state IN ('DF', 'GO', 'MT', 'MS') THEN 'Centro-Oeste'\n",
    "        WHEN o.delivery_address_state IN ('BA', 'PE', 'CE', 'AL', 'RN', 'PB', 'SE', 'PI', 'MA') THEN 'Nordeste'\n",
    "        WHEN o.delivery_address_state IN ('AM', 'PA', 'AC') THEN 'Norte'\n",
    "        ELSE 'Região desconhecida'\n",
    "    END AS delivery_region\n",
    "FROM \n",
    "    ifood_bronze.orders b\n",
    "-- Realiza junção entre tabelas para agregar atributos adicionais \n",
    "INNER JOIN \n",
    "    ifood_bronze.ab_test_ref a ON a.customer_id = b.customer_id\n",
    "-- Realiza junção entre tabelas para agregar atributos adicionais \n",
    "INNER JOIN \n",
    "    ifood_bronze.orders o ON a.customer_id = o.customer_id\n",
    "-- Realiza junção entre tabelas para agregar atributos adicionais \n",
    "INNER JOIN \n",
    "    ifood_bronze.restaurants r ON o.merchant_id = r.id\n",
    "-- Aplica filtros nos dados para considerar apenas registros relevantes ao experimento\n",
    "WHERE \n",
    "    CASE\n",
    "        WHEN o.delivery_address_state IN ('SP', 'RJ', 'MG', 'ES') THEN 'Sudeste'\n",
    "        WHEN o.delivery_address_state IN ('RS', 'SC', 'PR') THEN 'Sul'\n",
    "        WHEN o.delivery_address_state IN ('DF', 'GO', 'MT', 'MS') THEN 'Centro-Oeste'\n",
    "        WHEN o.delivery_address_state IN ('BA', 'PE', 'CE', 'AL', 'RN', 'PB', 'SE', 'PI', 'MA') THEN 'Nordeste'\n",
    "        WHEN o.delivery_address_state IN ('AM', 'PA', 'AC') THEN 'Norte'\n",
    "        ELSE 'Região desconhecida'\n",
    "    END = 'Sudeste'\n",
    "    AND r.price_range = 5 -- Price Range dos restaurantes gourmet\n",
    "-- Agrupa os dados para cálculo de métricas agregadas\n",
    "GROUP BY \n",
    "    a.is_target, \n",
    "    CASE\n",
    "        WHEN o.delivery_address_state IN ('SP', 'RJ', 'MG', 'ES') THEN 'Sudeste'\n",
    "        WHEN o.delivery_address_state IN ('RS', 'SC', 'PR') THEN 'Sul'\n",
    "        WHEN o.delivery_address_state IN ('DF', 'GO', 'MT', 'MS') THEN 'Centro-Oeste'\n",
    "        WHEN o.delivery_address_state IN ('BA', 'PE', 'CE', 'AL', 'RN', 'PB', 'SE', 'PI', 'MA') THEN 'Nordeste'\n",
    "        WHEN o.delivery_address_state IN ('AM', 'PA', 'AC') THEN 'Norte'\n",
    "        ELSE 'Região desconhecida'\n",
    "    END"
   ]
  },
  {
   "cell_type": "markdown",
   "metadata": {
    "application/vnd.databricks.v1+cell": {
     "cellMetadata": {},
     "inputWidgets": {},
     "nuid": "e27d2cbe-a251-4b2c-8e72-2d8a32cd6656",
     "showTitle": false,
     "tableResultSettingsMap": {},
     "title": ""
    }
   },
   "source": [
    "O ticket médio do PA é 9,7% maior do que do GC. Porém, em relação à segmentação geral, esse é um resultado de ticket 13x maior para o público abordado, o que contribui para aumentar a receita da ação."
   ]
  },
  {
   "cell_type": "code",
   "execution_count": 0,
   "metadata": {
    "application/vnd.databricks.v1+cell": {
     "cellMetadata": {
      "byteLimit": 2048000,
      "implicitDf": true,
      "rowLimit": 10000
     },
     "inputWidgets": {},
     "nuid": "1f7045b8-a503-4971-be4a-6145256f331f",
     "showTitle": false,
     "tableResultSettingsMap": {},
     "title": ""
    }
   },
   "outputs": [
    {
     "output_type": "display_data",
     "data": {
      "text/html": [
       "<style scoped>\n",
       "  .table-result-container {\n",
       "    max-height: 300px;\n",
       "    overflow: auto;\n",
       "  }\n",
       "  table, th, td {\n",
       "    border: 1px solid black;\n",
       "    border-collapse: collapse;\n",
       "  }\n",
       "  th, td {\n",
       "    padding: 5px;\n",
       "  }\n",
       "  th {\n",
       "    text-align: left;\n",
       "  }\n",
       "</style><div class='table-result-container'><table class='table-result'><thead style='background-color: white'><tr><th>is_target</th><th>pedidos</th><th>clientes</th><th>pedidos_cliente</th><th>delivery_region</th></tr></thead><tbody><tr><td>target</td><td>70583</td><td>37408</td><td>1.8868423866552608</td><td>Sudeste</td></tr><tr><td>control</td><td>49472</td><td>27471</td><td>1.8008809289796512</td><td>Sudeste</td></tr></tbody></table></div>"
      ]
     },
     "metadata": {
      "application/vnd.databricks.v1+output": {
       "addedWidgets": {},
       "aggData": [],
       "aggError": "",
       "aggOverflow": false,
       "aggSchema": [],
       "aggSeriesLimitReached": false,
       "aggType": "",
       "arguments": {},
       "columnCustomDisplayInfos": {},
       "data": [
        [
         "target",
         70583,
         37408,
         1.8868423866552608,
         "Sudeste"
        ],
        [
         "control",
         49472,
         27471,
         1.8008809289796512,
         "Sudeste"
        ]
       ],
       "datasetInfos": [
        {
         "name": "_sqldf",
         "schema": {
          "fields": [
           {
            "metadata": {},
            "name": "is_target",
            "nullable": true,
            "type": "string"
           },
           {
            "metadata": {},
            "name": "pedidos",
            "nullable": false,
            "type": "long"
           },
           {
            "metadata": {},
            "name": "clientes",
            "nullable": false,
            "type": "long"
           },
           {
            "metadata": {},
            "name": "pedidos_cliente",
            "nullable": true,
            "type": "double"
           },
           {
            "metadata": {},
            "name": "delivery_region",
            "nullable": false,
            "type": "string"
           }
          ],
          "type": "struct"
         },
         "tableIdentifier": null,
         "typeStr": "pyspark.sql.connect.dataframe.DataFrame"
        }
       ],
       "dbfsResultPath": null,
       "isJsonSchema": true,
       "metadata": {
        "createTempViewForImplicitDf": true,
        "dataframeName": "_sqldf",
        "executionCount": 27
       },
       "overflow": false,
       "plotOptions": {
        "customPlotOptions": {},
        "displayType": "table",
        "pivotAggregation": null,
        "pivotColumns": null,
        "xColumns": null,
        "yColumns": null
       },
       "removedWidgets": [],
       "schema": [
        {
         "metadata": "{}",
         "name": "is_target",
         "type": "\"string\""
        },
        {
         "metadata": "{}",
         "name": "pedidos",
         "type": "\"long\""
        },
        {
         "metadata": "{}",
         "name": "clientes",
         "type": "\"long\""
        },
        {
         "metadata": "{}",
         "name": "pedidos_cliente",
         "type": "\"double\""
        },
        {
         "metadata": "{}",
         "name": "delivery_region",
         "type": "\"string\""
        }
       ],
       "type": "table"
      }
     },
     "output_type": "display_data"
    },
    {
     "output_type": "display_data",
     "data": {
      "text/plain": [
       "Databricks visualization. Run in Databricks to view."
      ]
     },
     "metadata": {
      "application/vnd.databricks.v1.subcommand+json": {
       "baseErrorDetails": null,
       "bindings": {},
       "collapsed": false,
       "command": "%sql WITH q AS (SELECT \n  a.is_target, \n  COUNT(DISTINCT b.order_id) AS pedidos, \n  COUNT(DISTINCT b.customer_id) AS clientes, \n  COUNT(DISTINCT b.order_id) / COUNT(DISTINCT b.customer_id) AS pedidos_cliente,\n  CASE\n      WHEN b.delivery_address_state IN ('SP', 'RJ', 'MG', 'ES') THEN 'Sudeste'\n      WHEN b.delivery_address_state IN ('RS', 'SC', 'PR') THEN 'Sul'\n      WHEN b.delivery_address_state IN ('DF', 'GO', 'MT', 'MS') THEN 'Centro-Oeste'\n      WHEN b.delivery_address_state IN ('BA', 'PE', 'CE', 'AL', 'RN', 'PB', 'SE', 'PI', 'MA') THEN 'Nordeste'\n      WHEN b.delivery_address_state IN ('AM', 'PA', 'AC') THEN 'Norte'\n      ELSE 'Região desconhecida'\n  END AS delivery_region\nFROM \n  workspace.ifood_bronze.orders b\nINNER JOIN \n  workspace.default.ab_test_ref a\n    ON a.customer_id = b.customer_id\nINNER JOIN\n  workspace.ifood_bronze.restaurants r\n    ON b.merchant_id = r.id\nWHERE    \n  b.delivery_address_state IN ('SP', 'RJ', 'MG', 'ES')\n  AND r.price_range = 5\nGROUP BY \n  a.is_target,\n  CASE\n      WHEN b.delivery_address_state IN ('SP', 'RJ', 'MG', 'ES') THEN 'Sudeste'\n      WHEN b.delivery_address_state IN ('RS', 'SC', 'PR') THEN 'Sul'\n      WHEN b.delivery_address_state IN ('DF', 'GO', 'MT', 'MS') THEN 'Centro-Oeste'\n      WHEN b.delivery_address_state IN ('BA', 'PE', 'CE', 'AL', 'RN', 'PB', 'SE', 'PI', 'MA') THEN 'Nordeste'\n      WHEN b.delivery_address_state IN ('AM', 'PA', 'AC') THEN 'Norte'\n      ELSE 'Região desconhecida'\n  END) SELECT `is_target`,SUM(`pedidos_cliente`) `column_d60f32a3668` FROM q GROUP BY `is_target`",
       "commandTitle": "Visualization 1",
       "commandType": "auto",
       "commandVersion": 0,
       "commentThread": [],
       "commentsVisible": false,
       "contentSha256Hex": null,
       "customPlotOptions": {
        "redashChart": [
         {
          "key": "type",
          "value": "CHART"
         },
         {
          "key": "options",
          "value": {
           "alignYAxesAtZero": true,
           "coefficient": 1,
           "columnConfigurationMap": {
            "x": {
             "column": "is_target",
             "id": "column_d60f32a3666"
            },
            "y": [
             {
              "column": "pedidos_cliente",
              "id": "column_d60f32a3668",
              "transform": "SUM"
             }
            ]
           },
           "dateTimeFormat": "DD/MM/YYYY HH:mm",
           "direction": {
            "type": "counterclockwise"
           },
           "error_y": {
            "type": "data",
            "visible": true
           },
           "globalSeriesType": "column",
           "hideYAxes": true,
           "isAggregationOn": true,
           "legend": {
            "traceorder": "normal"
           },
           "missingValuesAsZero": true,
           "numberFormat": "0,0.[00000]",
           "percentFormat": "0[.]00%",
           "series": {
            "error_y": {
             "type": "data",
             "visible": true
            },
            "stacking": null
           },
           "seriesOptions": {
            "column_d60f32a3668": {
             "color": "#FFAB00",
             "type": "column",
             "yAxis": 0
            }
           },
           "showDataLabels": false,
           "sizemode": "diameter",
           "sortX": true,
           "sortY": true,
           "swappedAxes": true,
           "textFormat": "",
           "useAggregationsUi": true,
           "valuesOptions": {},
           "version": 2,
           "xAxis": {
            "labels": {
             "enabled": true
            },
            "title": {
             "text": " "
            },
            "type": "-"
           },
           "yAxis": [
            {
             "type": "-"
            },
            {
             "opposite": true,
             "type": "-"
            }
           ]
          }
         }
        ]
       },
       "datasetPreviewNameToCmdIdMap": {},
       "diffDeletes": [],
       "diffInserts": [],
       "displayType": "redashChart",
       "error": null,
       "errorDetails": null,
       "errorSummary": null,
       "errorTraceType": null,
       "finishTime": 0,
       "globalVars": {},
       "guid": "",
       "height": "auto",
       "hideCommandCode": false,
       "hideCommandResult": false,
       "iPythonMetadata": null,
       "inputWidgets": {},
       "isLockedInExamMode": false,
       "latestUser": "a user",
       "latestUserId": null,
       "listResultMetadata": null,
       "metadata": {},
       "nuid": "692b1e25-922a-4fa1-8b72-3e0acde15de9",
       "origId": 0,
       "parentHierarchy": [],
       "pivotAggregation": null,
       "pivotColumns": null,
       "position": 12.999998092651367,
       "resultDbfsErrorMessage": null,
       "resultDbfsStatus": "INLINED_IN_TREE",
       "results": null,
       "showCommandTitle": false,
       "startTime": 0,
       "state": "input",
       "streamStates": {},
       "subcommandOptions": {
        "queryPlan": {
         "groups": [
          {
           "column": "is_target",
           "type": "column"
          }
         ],
         "selects": [
          {
           "column": "is_target",
           "type": "column"
          },
          {
           "alias": "column_d60f32a3668",
           "args": [
            {
             "column": "pedidos_cliente",
             "type": "column"
            }
           ],
           "function": "SUM",
           "type": "function"
          }
         ]
        }
       },
       "submitTime": 0,
       "subtype": "tableResultSubCmd.visualization",
       "tableResultIndex": 0,
       "tableResultSettingsMap": {},
       "useConsistentColors": false,
       "version": "CommandV1",
       "width": "auto",
       "workflows": [],
       "xColumns": null,
       "yColumns": null
      }
     },
     "output_type": "display_data"
    }
   ],
   "source": [
    "%sql\n",
    "SELECT \n",
    "  a.is_target, \n",
    "  COUNT(DISTINCT b.order_id) AS pedidos, \n",
    "  COUNT(DISTINCT b.customer_id) AS clientes, \n",
    "  COUNT(DISTINCT b.order_id) / COUNT(DISTINCT b.customer_id) AS pedidos_cliente,\n",
    "  CASE\n",
    "      WHEN b.delivery_address_state IN ('SP', 'RJ', 'MG', 'ES') THEN 'Sudeste'\n",
    "      WHEN b.delivery_address_state IN ('RS', 'SC', 'PR') THEN 'Sul'\n",
    "      WHEN b.delivery_address_state IN ('DF', 'GO', 'MT', 'MS') THEN 'Centro-Oeste'\n",
    "      WHEN b.delivery_address_state IN ('BA', 'PE', 'CE', 'AL', 'RN', 'PB', 'SE', 'PI', 'MA') THEN 'Nordeste'\n",
    "      WHEN b.delivery_address_state IN ('AM', 'PA', 'AC') THEN 'Norte'\n",
    "      ELSE 'Região desconhecida'\n",
    "  END AS delivery_region\n",
    "FROM \n",
    "  workspace.ifood_bronze.orders b\n",
    "-- Realiza junção entre tabelas para agregar atributos adicionais \n",
    "INNER JOIN \n",
    "  workspace.default.ab_test_ref a\n",
    "    ON a.customer_id = b.customer_id\n",
    "-- Realiza junção entre tabelas para agregar atributos adicionais \n",
    "INNER JOIN\n",
    "  workspace.ifood_bronze.restaurants r\n",
    "    ON b.merchant_id = r.id\n",
    "-- Aplica filtros nos dados para considerar apenas registros relevantes ao experimento\n",
    "WHERE    \n",
    "  b.delivery_address_state IN ('SP', 'RJ', 'MG', 'ES')\n",
    "  AND r.price_range = 5 -- Price Range dos restaurantes gourmet\n",
    "-- Agrupa os dados para cálculo de métricas agregadas\n",
    "GROUP BY \n",
    "  a.is_target,\n",
    "  CASE\n",
    "      WHEN b.delivery_address_state IN ('SP', 'RJ', 'MG', 'ES') THEN 'Sudeste'\n",
    "      WHEN b.delivery_address_state IN ('RS', 'SC', 'PR') THEN 'Sul'\n",
    "      WHEN b.delivery_address_state IN ('DF', 'GO', 'MT', 'MS') THEN 'Centro-Oeste'\n",
    "      WHEN b.delivery_address_state IN ('BA', 'PE', 'CE', 'AL', 'RN', 'PB', 'SE', 'PI', 'MA') THEN 'Nordeste'\n",
    "      WHEN b.delivery_address_state IN ('AM', 'PA', 'AC') THEN 'Norte'\n",
    "      ELSE 'Região desconhecida'\n",
    "  END"
   ]
  },
  {
   "cell_type": "markdown",
   "metadata": {
    "application/vnd.databricks.v1+cell": {
     "cellMetadata": {},
     "inputWidgets": {},
     "nuid": "cefe44a8-b5af-41b5-b7f9-cd215b06c03d",
     "showTitle": false,
     "tableResultSettingsMap": {},
     "title": ""
    }
   },
   "source": [
    "A frequência de pedidos por cliente é 4,4% maior no público abordado."
   ]
  },
  {
   "cell_type": "markdown",
   "metadata": {
    "application/vnd.databricks.v1+cell": {
     "cellMetadata": {},
     "inputWidgets": {},
     "nuid": "6778c11b-9da2-4c2c-b8c7-cd993a36761e",
     "showTitle": false,
     "tableResultSettingsMap": {},
     "title": ""
    }
   },
   "source": [
    "#### 5.22 Testando segmentação Veteranos Gourmet"
   ]
  },
  {
   "cell_type": "code",
   "execution_count": 0,
   "metadata": {
    "application/vnd.databricks.v1+cell": {
     "cellMetadata": {
      "byteLimit": 2048000,
      "implicitDf": true,
      "rowLimit": 10000
     },
     "inputWidgets": {},
     "nuid": "9961c744-5dda-49dd-8ea9-70f9d3936e07",
     "showTitle": false,
     "tableResultSettingsMap": {},
     "title": ""
    }
   },
   "outputs": [
    {
     "output_type": "display_data",
     "data": {
      "text/html": [
       "<style scoped>\n",
       "  .table-result-container {\n",
       "    max-height: 300px;\n",
       "    overflow: auto;\n",
       "  }\n",
       "  table, th, td {\n",
       "    border: 1px solid black;\n",
       "    border-collapse: collapse;\n",
       "  }\n",
       "  th, td {\n",
       "    padding: 5px;\n",
       "  }\n",
       "  th {\n",
       "    text-align: left;\n",
       "  }\n",
       "</style><div class='table-result-container'><table class='table-result'><thead style='background-color: white'><tr><th>is_target</th><th>data_cadastro</th><th>receita_total</th><th>clientes</th><th>ticket_medio</th></tr></thead><tbody><tr><td>control</td><td>01-2018</td><td>5099733.669639587</td><td>20599</td><td>247.57190492934546</td></tr><tr><td>target</td><td>01-2018</td><td>7321007.4222512245</td><td>28813</td><td>254.08695457783725</td></tr></tbody></table></div>"
      ]
     },
     "metadata": {
      "application/vnd.databricks.v1+output": {
       "addedWidgets": {},
       "aggData": [],
       "aggError": "",
       "aggOverflow": false,
       "aggSchema": [],
       "aggSeriesLimitReached": false,
       "aggType": "",
       "arguments": {},
       "columnCustomDisplayInfos": {},
       "data": [
        [
         "control",
         "01-2018",
         5099733.669639587,
         20599,
         247.57190492934546
        ],
        [
         "target",
         "01-2018",
         7321007.4222512245,
         28813,
         254.08695457783725
        ]
       ],
       "datasetInfos": [
        {
         "name": "_sqldf",
         "schema": {
          "fields": [
           {
            "metadata": {},
            "name": "is_target",
            "nullable": true,
            "type": "string"
           },
           {
            "metadata": {},
            "name": "data_cadastro",
            "nullable": true,
            "type": "string"
           },
           {
            "metadata": {},
            "name": "receita_total",
            "nullable": true,
            "type": "double"
           },
           {
            "metadata": {},
            "name": "clientes",
            "nullable": false,
            "type": "long"
           },
           {
            "metadata": {},
            "name": "ticket_medio",
            "nullable": true,
            "type": "double"
           }
          ],
          "type": "struct"
         },
         "tableIdentifier": null,
         "typeStr": "pyspark.sql.connect.dataframe.DataFrame"
        }
       ],
       "dbfsResultPath": null,
       "isJsonSchema": true,
       "metadata": {
        "createTempViewForImplicitDf": true,
        "dataframeName": "_sqldf",
        "executionCount": 46
       },
       "overflow": false,
       "plotOptions": {
        "customPlotOptions": {},
        "displayType": "table",
        "pivotAggregation": null,
        "pivotColumns": null,
        "xColumns": null,
        "yColumns": null
       },
       "removedWidgets": [],
       "schema": [
        {
         "metadata": "{}",
         "name": "is_target",
         "type": "\"string\""
        },
        {
         "metadata": "{}",
         "name": "data_cadastro",
         "type": "\"string\""
        },
        {
         "metadata": "{}",
         "name": "receita_total",
         "type": "\"double\""
        },
        {
         "metadata": "{}",
         "name": "clientes",
         "type": "\"long\""
        },
        {
         "metadata": "{}",
         "name": "ticket_medio",
         "type": "\"double\""
        }
       ],
       "type": "table"
      }
     },
     "output_type": "display_data"
    },
    {
     "output_type": "display_data",
     "data": {
      "text/plain": [
       "Databricks visualization. Run in Databricks to view."
      ]
     },
     "metadata": {
      "application/vnd.databricks.v1.subcommand+json": {
       "baseErrorDetails": null,
       "bindings": {},
       "collapsed": false,
       "command": "%sql WITH q AS (SELECT \n  a.is_target, \n  date_format(c.created_at, 'MM-yyyy') as data_cadastro,\n  SUM(o.order_total_amount) AS receita_total, \n  COUNT(DISTINCT o.customer_id) AS clientes, \n  SUM(o.order_total_amount) / COUNT(DISTINCT o.customer_id) AS ticket_medio\nFROM \n  workspace.ifood_bronze.orders o\nINNER JOIN \n  workspace.default.ab_test_ref a\n    ON a.customer_id = o.customer_id\nINNER JOIN \n  workspace.ifood_bronze.restaurants r\n    ON o.merchant_id = r.id\nINNER JOIN\n  workspace.ifood_bronze.consumers c\n    ON o.customer_id = c.customer_id\nWHERE \n  r.price_range = 5\n  AND date_format(c.created_at, 'MM-yyyy') = '01-2018'\nGROUP BY \n  a.is_target,\n  date_format(c.created_at, 'MM-yyyy')) SELECT `is_target`,SUM(`ticket_medio`) `column_d60f32a3673` FROM q GROUP BY `is_target`",
       "commandTitle": "Visualization 1",
       "commandType": "auto",
       "commandVersion": 0,
       "commentThread": [],
       "commentsVisible": false,
       "contentSha256Hex": null,
       "customPlotOptions": {
        "redashChart": [
         {
          "key": "type",
          "value": "CHART"
         },
         {
          "key": "options",
          "value": {
           "alignYAxesAtZero": true,
           "coefficient": 1,
           "columnConfigurationMap": {
            "x": {
             "column": "is_target",
             "id": "column_d60f32a3670"
            },
            "y": [
             {
              "column": "ticket_medio",
              "id": "column_d60f32a3673",
              "transform": "SUM"
             }
            ]
           },
           "dateTimeFormat": "DD/MM/YYYY HH:mm",
           "direction": {
            "type": "counterclockwise"
           },
           "error_y": {
            "type": "data",
            "visible": true
           },
           "globalSeriesType": "column",
           "hideYAxes": true,
           "isAggregationOn": true,
           "legend": {
            "traceorder": "normal"
           },
           "missingValuesAsZero": true,
           "numberFormat": "0,0.[00000]",
           "percentFormat": "0[.]00%",
           "series": {
            "error_y": {
             "type": "data",
             "visible": true
            },
            "stacking": null
           },
           "seriesOptions": {
            "column_d60f32a3673": {
             "color": "#FFAB00",
             "type": "column",
             "yAxis": 0
            }
           },
           "showDataLabels": false,
           "sizemode": "diameter",
           "sortX": true,
           "sortY": true,
           "swappedAxes": true,
           "textFormat": "",
           "useAggregationsUi": true,
           "valuesOptions": {},
           "version": 2,
           "xAxis": {
            "labels": {
             "enabled": true
            },
            "title": {
             "text": " "
            },
            "type": "-"
           },
           "yAxis": [
            {
             "type": "-"
            },
            {
             "opposite": true,
             "type": "-"
            }
           ]
          }
         }
        ]
       },
       "datasetPreviewNameToCmdIdMap": {},
       "diffDeletes": [],
       "diffInserts": [],
       "displayType": "redashChart",
       "error": null,
       "errorDetails": null,
       "errorSummary": null,
       "errorTraceType": null,
       "finishTime": 0,
       "globalVars": {},
       "guid": "",
       "height": "auto",
       "hideCommandCode": false,
       "hideCommandResult": false,
       "iPythonMetadata": null,
       "inputWidgets": {},
       "isLockedInExamMode": false,
       "latestUser": "a user",
       "latestUserId": null,
       "listResultMetadata": null,
       "metadata": {},
       "nuid": "a92ae4b3-e4a7-4cf9-ae3b-01ef87f8b833",
       "origId": 0,
       "parentHierarchy": [],
       "pivotAggregation": null,
       "pivotColumns": null,
       "position": 12.999999761581421,
       "resultDbfsErrorMessage": null,
       "resultDbfsStatus": "INLINED_IN_TREE",
       "results": null,
       "showCommandTitle": false,
       "startTime": 0,
       "state": "input",
       "streamStates": {},
       "subcommandOptions": {
        "queryPlan": {
         "groups": [
          {
           "column": "is_target",
           "type": "column"
          }
         ],
         "selects": [
          {
           "column": "is_target",
           "type": "column"
          },
          {
           "alias": "column_d60f32a3673",
           "args": [
            {
             "column": "ticket_medio",
             "type": "column"
            }
           ],
           "function": "SUM",
           "type": "function"
          }
         ]
        }
       },
       "submitTime": 0,
       "subtype": "tableResultSubCmd.visualization",
       "tableResultIndex": 0,
       "tableResultSettingsMap": {},
       "useConsistentColors": false,
       "version": "CommandV1",
       "width": "auto",
       "workflows": [],
       "xColumns": null,
       "yColumns": null
      }
     },
     "output_type": "display_data"
    }
   ],
   "source": [
    "%sql\n",
    "SELECT \n",
    "  a.is_target, \n",
    "  date_format(c.created_at, 'MM-yyyy') as data_cadastro,\n",
    "  SUM(o.order_total_amount) AS receita_total, \n",
    "  COUNT(DISTINCT o.customer_id) AS clientes, \n",
    "  SUM(o.order_total_amount) / COUNT(DISTINCT o.customer_id) AS ticket_medio\n",
    "FROM \n",
    "  workspace.ifood_bronze.orders o\n",
    "-- Realiza junção entre tabelas para agregar atributos adicionais \n",
    "INNER JOIN \n",
    "  workspace.default.ab_test_ref a\n",
    "    ON a.customer_id = o.customer_id\n",
    "-- Realiza junção entre tabelas para agregar atributos adicionais \n",
    "INNER JOIN \n",
    "  workspace.ifood_bronze.restaurants r\n",
    "    ON o.merchant_id = r.id\n",
    "-- Realiza junção entre tabelas para agregar atributos adicionais \n",
    "INNER JOIN\n",
    "  workspace.ifood_bronze.consumers c\n",
    "    ON o.customer_id = c.customer_id\n",
    "-- Aplica filtros nos dados para considerar apenas registros relevantes ao experimento\n",
    "WHERE \n",
    "  r.price_range = 5\n",
    "  AND date_format(c.created_at, 'MM-yyyy') = '01-2018' -- Mês de cadastro dos usuários veteranos\n",
    "-- Agrupa os dados para cálculo de métricas agregadas\n",
    "GROUP BY \n",
    "  a.is_target,\n",
    "  date_format(c.created_at, 'MM-yyyy')"
   ]
  },
  {
   "cell_type": "markdown",
   "metadata": {
    "application/vnd.databricks.v1+cell": {
     "cellMetadata": {},
     "inputWidgets": {},
     "nuid": "df17c5cd-8b95-48e5-993f-b42368b71f31",
     "showTitle": false,
     "tableResultSettingsMap": {},
     "title": ""
    }
   },
   "source": [
    "O ticket médio do PA foi 2,6% maior do que do GC."
   ]
  },
  {
   "cell_type": "code",
   "execution_count": 0,
   "metadata": {
    "application/vnd.databricks.v1+cell": {
     "cellMetadata": {
      "byteLimit": 2048000,
      "implicitDf": true,
      "rowLimit": 10000
     },
     "inputWidgets": {},
     "nuid": "dc5b17b5-c112-43c5-92f0-7bdc21792876",
     "showTitle": false,
     "tableResultSettingsMap": {},
     "title": ""
    }
   },
   "outputs": [
    {
     "output_type": "display_data",
     "data": {
      "text/html": [
       "<style scoped>\n",
       "  .table-result-container {\n",
       "    max-height: 300px;\n",
       "    overflow: auto;\n",
       "  }\n",
       "  table, th, td {\n",
       "    border: 1px solid black;\n",
       "    border-collapse: collapse;\n",
       "  }\n",
       "  th, td {\n",
       "    padding: 5px;\n",
       "  }\n",
       "  th {\n",
       "    text-align: left;\n",
       "  }\n",
       "</style><div class='table-result-container'><table class='table-result'><thead style='background-color: white'><tr><th>is_target</th><th>pedidos</th><th>clientes</th><th>pedidos_cliente</th></tr></thead><tbody><tr><td>control</td><td>38096</td><td>20599</td><td>1.8494101655420165</td></tr><tr><td>target</td><td>54954</td><td>28813</td><td>1.9072640821851248</td></tr></tbody></table></div>"
      ]
     },
     "metadata": {
      "application/vnd.databricks.v1+output": {
       "addedWidgets": {},
       "aggData": [],
       "aggError": "",
       "aggOverflow": false,
       "aggSchema": [],
       "aggSeriesLimitReached": false,
       "aggType": "",
       "arguments": {},
       "columnCustomDisplayInfos": {},
       "data": [
        [
         "control",
         38096,
         20599,
         1.8494101655420165
        ],
        [
         "target",
         54954,
         28813,
         1.9072640821851248
        ]
       ],
       "datasetInfos": [
        {
         "name": "_sqldf",
         "schema": {
          "fields": [
           {
            "metadata": {},
            "name": "is_target",
            "nullable": true,
            "type": "string"
           },
           {
            "metadata": {},
            "name": "pedidos",
            "nullable": false,
            "type": "long"
           },
           {
            "metadata": {},
            "name": "clientes",
            "nullable": false,
            "type": "long"
           },
           {
            "metadata": {},
            "name": "pedidos_cliente",
            "nullable": true,
            "type": "double"
           }
          ],
          "type": "struct"
         },
         "tableIdentifier": null,
         "typeStr": "pyspark.sql.connect.dataframe.DataFrame"
        }
       ],
       "dbfsResultPath": null,
       "isJsonSchema": true,
       "metadata": {
        "createTempViewForImplicitDf": true,
        "dataframeName": "_sqldf",
        "executionCount": 51
       },
       "overflow": false,
       "plotOptions": {
        "customPlotOptions": {},
        "displayType": "table",
        "pivotAggregation": null,
        "pivotColumns": null,
        "xColumns": null,
        "yColumns": null
       },
       "removedWidgets": [],
       "schema": [
        {
         "metadata": "{}",
         "name": "is_target",
         "type": "\"string\""
        },
        {
         "metadata": "{}",
         "name": "pedidos",
         "type": "\"long\""
        },
        {
         "metadata": "{}",
         "name": "clientes",
         "type": "\"long\""
        },
        {
         "metadata": "{}",
         "name": "pedidos_cliente",
         "type": "\"double\""
        }
       ],
       "type": "table"
      }
     },
     "output_type": "display_data"
    },
    {
     "output_type": "display_data",
     "data": {
      "text/plain": [
       "Databricks visualization. Run in Databricks to view."
      ]
     },
     "metadata": {
      "application/vnd.databricks.v1.subcommand+json": {
       "baseErrorDetails": null,
       "bindings": {},
       "collapsed": false,
       "command": "%sql WITH q AS (SELECT \n  a.is_target, \n  count(distinct o.order_id) as pedidos, \n  count(distinct o.customer_id) as clientes, \n  count(distinct o.order_id) / count(distinct o.customer_id) as pedidos_cliente\nFROM \n  workspace.ifood_bronze.orders o\nINNER JOIN \n  workspace.default.ab_test_ref a\n    ON a.customer_id = o.customer_id\nINNER JOIN \n  workspace.ifood_bronze.restaurants r\n    ON o.merchant_id = r.id\nINNER JOIN\n  workspace.ifood_bronze.consumers c\n    ON o.customer_id = c.customer_id\nWHERE \n  r.price_range = 5\n  AND date_format(c.created_at, 'MM-yyyy') = '01-2018'\nGROUP BY \n  a.is_target,\n  date_format(c.created_at, 'MM-yyyy')) SELECT `is_target`,SUM(`pedidos_cliente`) `column_d60f32a3686` FROM q GROUP BY `is_target`",
       "commandTitle": "Visualization 1",
       "commandType": "auto",
       "commandVersion": 0,
       "commentThread": [],
       "commentsVisible": false,
       "contentSha256Hex": null,
       "customPlotOptions": {
        "redashChart": [
         {
          "key": "type",
          "value": "CHART"
         },
         {
          "key": "options",
          "value": {
           "alignYAxesAtZero": true,
           "coefficient": 1,
           "columnConfigurationMap": {
            "x": {
             "column": "is_target",
             "id": "column_d60f32a3683"
            },
            "y": [
             {
              "column": "pedidos_cliente",
              "id": "column_d60f32a3686",
              "transform": "SUM"
             }
            ]
           },
           "dateTimeFormat": "DD/MM/YYYY HH:mm",
           "direction": {
            "type": "counterclockwise"
           },
           "error_y": {
            "type": "data",
            "visible": true
           },
           "globalSeriesType": "column",
           "hideYAxes": true,
           "isAggregationOn": true,
           "legend": {
            "traceorder": "normal"
           },
           "missingValuesAsZero": true,
           "numberFormat": "0,0.[00000]",
           "percentFormat": "0[.]00%",
           "series": {
            "error_y": {
             "type": "data",
             "visible": true
            },
            "stacking": null
           },
           "seriesOptions": {
            "column_d60f32a3686": {
             "color": "#FFAB00",
             "type": "column",
             "yAxis": 0
            }
           },
           "showDataLabels": false,
           "sizemode": "diameter",
           "sortX": true,
           "sortY": true,
           "swappedAxes": true,
           "textFormat": "",
           "useAggregationsUi": true,
           "valuesOptions": {},
           "version": 2,
           "xAxis": {
            "labels": {
             "enabled": true
            },
            "title": {
             "text": " "
            },
            "type": "-"
           },
           "yAxis": [
            {
             "type": "-"
            },
            {
             "opposite": true,
             "type": "-"
            }
           ]
          }
         }
        ]
       },
       "datasetPreviewNameToCmdIdMap": {},
       "diffDeletes": [],
       "diffInserts": [],
       "displayType": "redashChart",
       "error": null,
       "errorDetails": null,
       "errorSummary": null,
       "errorTraceType": null,
       "finishTime": 0,
       "globalVars": {},
       "guid": "",
       "height": "auto",
       "hideCommandCode": false,
       "hideCommandResult": false,
       "iPythonMetadata": null,
       "inputWidgets": {},
       "isLockedInExamMode": false,
       "latestUser": "a user",
       "latestUserId": null,
       "listResultMetadata": null,
       "metadata": {},
       "nuid": "596ee34e-da6f-4a5c-8e21-2bcce3fbd7d8",
       "origId": 0,
       "parentHierarchy": [],
       "pivotAggregation": null,
       "pivotColumns": null,
       "position": 12.999999940395355,
       "resultDbfsErrorMessage": null,
       "resultDbfsStatus": "INLINED_IN_TREE",
       "results": null,
       "showCommandTitle": false,
       "startTime": 0,
       "state": "input",
       "streamStates": {},
       "subcommandOptions": {
        "queryPlan": {
         "groups": [
          {
           "column": "is_target",
           "type": "column"
          }
         ],
         "selects": [
          {
           "column": "is_target",
           "type": "column"
          },
          {
           "alias": "column_d60f32a3686",
           "args": [
            {
             "column": "pedidos_cliente",
             "type": "column"
            }
           ],
           "function": "SUM",
           "type": "function"
          }
         ]
        }
       },
       "submitTime": 0,
       "subtype": "tableResultSubCmd.visualization",
       "tableResultIndex": 0,
       "tableResultSettingsMap": {},
       "useConsistentColors": false,
       "version": "CommandV1",
       "width": "auto",
       "workflows": [],
       "xColumns": null,
       "yColumns": null
      }
     },
     "output_type": "display_data"
    }
   ],
   "source": [
    "%sql\n",
    "SELECT \n",
    "  a.is_target, \n",
    "  count(distinct o.order_id) as pedidos, \n",
    "  count(distinct o.customer_id) as clientes, \n",
    "  count(distinct o.order_id) / count(distinct o.customer_id) as pedidos_cliente\n",
    "FROM \n",
    "  workspace.ifood_bronze.orders o\n",
    "-- Realiza junção entre tabelas para agregar atributos adicionais \n",
    "INNER JOIN \n",
    "  workspace.default.ab_test_ref a\n",
    "    ON a.customer_id = o.customer_id\n",
    "-- Realiza junção entre tabelas para agregar atributos adicionais \n",
    "INNER JOIN \n",
    "  workspace.ifood_bronze.restaurants r\n",
    "    ON o.merchant_id = r.id\n",
    "-- Realiza junção entre tabelas para agregar atributos adicionais \n",
    "INNER JOIN\n",
    "  workspace.ifood_bronze.consumers c\n",
    "    ON o.customer_id = c.customer_id\n",
    "-- Aplica filtros nos dados para considerar apenas registros relevantes ao experimento\n",
    "WHERE \n",
    "  r.price_range = 5\n",
    "  AND date_format(c.created_at, 'MM-yyyy') = '01-2018' -- Mês de cadastro dos usuários veteranos\n",
    "-- Agrupa os dados para cálculo de métricas agregadas\n",
    "GROUP BY \n",
    "  a.is_target,\n",
    "  date_format(c.created_at, 'MM-yyyy')"
   ]
  },
  {
   "cell_type": "markdown",
   "metadata": {
    "application/vnd.databricks.v1+cell": {
     "cellMetadata": {},
     "inputWidgets": {},
     "nuid": "cb3440fa-b5e2-4bc4-9acd-39664ef8e958",
     "showTitle": false,
     "tableResultSettingsMap": {},
     "title": ""
    }
   },
   "source": [
    "A frequência por cliente do PA foi 2,7% superior que do GC."
   ]
  },
  {
   "cell_type": "markdown",
   "metadata": {
    "application/vnd.databricks.v1+cell": {
     "cellMetadata": {},
     "inputWidgets": {},
     "nuid": "52b83b45-8bbc-410c-9dac-adb380463484",
     "showTitle": false,
     "tableResultSettingsMap": {},
     "title": ""
    }
   },
   "source": [
    "#### 5.23 Testando segmentação Food Fiéis Sudeste"
   ]
  },
  {
   "cell_type": "code",
   "execution_count": 0,
   "metadata": {
    "application/vnd.databricks.v1+cell": {
     "cellMetadata": {
      "byteLimit": 2048000,
      "implicitDf": true,
      "rowLimit": 10000
     },
     "inputWidgets": {},
     "nuid": "fd262ea4-589e-4b3e-b55f-17e70d7392df",
     "showTitle": false,
     "tableResultSettingsMap": {},
     "title": ""
    }
   },
   "outputs": [
    {
     "output_type": "display_data",
     "data": {
      "text/html": [
       "<style scoped>\n",
       "  .table-result-container {\n",
       "    max-height: 300px;\n",
       "    overflow: auto;\n",
       "  }\n",
       "  table, th, td {\n",
       "    border: 1px solid black;\n",
       "    border-collapse: collapse;\n",
       "  }\n",
       "  th, td {\n",
       "    padding: 5px;\n",
       "  }\n",
       "  th {\n",
       "    text-align: left;\n",
       "  }\n",
       "</style><div class='table-result-container'><table class='table-result'><thead style='background-color: white'><tr><th>is_target</th><th>receita_total</th><th>clientes</th><th>ticket_medio</th></tr></thead><tbody><tr><td>control</td><td>3.2139376055247575E7</td><td>123320</td><td>260.6177104707069</td></tr><tr><td>target</td><td>4.618653559191705E7</td><td>158721</td><td>290.9919644654271</td></tr></tbody></table></div>"
      ]
     },
     "metadata": {
      "application/vnd.databricks.v1+output": {
       "addedWidgets": {},
       "aggData": [],
       "aggError": "",
       "aggOverflow": false,
       "aggSchema": [],
       "aggSeriesLimitReached": false,
       "aggType": "",
       "arguments": {},
       "columnCustomDisplayInfos": {},
       "data": [
        [
         "control",
         3.2139376055247575E7,
         123320,
         260.6177104707069
        ],
        [
         "target",
         4.618653559191705E7,
         158721,
         290.9919644654271
        ]
       ],
       "datasetInfos": [
        {
         "name": "_sqldf",
         "schema": {
          "fields": [
           {
            "metadata": {},
            "name": "is_target",
            "nullable": true,
            "type": "string"
           },
           {
            "metadata": {},
            "name": "receita_total",
            "nullable": true,
            "type": "double"
           },
           {
            "metadata": {},
            "name": "clientes",
            "nullable": false,
            "type": "long"
           },
           {
            "metadata": {},
            "name": "ticket_medio",
            "nullable": true,
            "type": "double"
           }
          ],
          "type": "struct"
         },
         "tableIdentifier": null,
         "typeStr": "pyspark.sql.connect.dataframe.DataFrame"
        }
       ],
       "dbfsResultPath": null,
       "isJsonSchema": true,
       "metadata": {
        "createTempViewForImplicitDf": true,
        "dataframeName": "_sqldf",
        "executionCount": 59
       },
       "overflow": false,
       "plotOptions": {
        "customPlotOptions": {},
        "displayType": "table",
        "pivotAggregation": null,
        "pivotColumns": null,
        "xColumns": null,
        "yColumns": null
       },
       "removedWidgets": [],
       "schema": [
        {
         "metadata": "{}",
         "name": "is_target",
         "type": "\"string\""
        },
        {
         "metadata": "{}",
         "name": "receita_total",
         "type": "\"double\""
        },
        {
         "metadata": "{}",
         "name": "clientes",
         "type": "\"long\""
        },
        {
         "metadata": "{}",
         "name": "ticket_medio",
         "type": "\"double\""
        }
       ],
       "type": "table"
      }
     },
     "output_type": "display_data"
    },
    {
     "output_type": "display_data",
     "data": {
      "text/plain": [
       "Databricks visualization. Run in Databricks to view."
      ]
     },
     "metadata": {
      "application/vnd.databricks.v1.subcommand+json": {
       "baseErrorDetails": null,
       "bindings": {},
       "collapsed": false,
       "command": "%sql WITH q AS (SELECT \n  a.is_target, \n  SUM(b.order_total_amount) AS receita_total, \n  COUNT(DISTINCT b.customer_id) AS clientes, \n  SUM(b.order_total_amount) / COUNT(DISTINCT b.customer_id) AS ticket_medio\nFROM \n  workspace.ifood_bronze.orders b\nINNER JOIN \n  workspace.default.ab_test_ref a\n    ON a.customer_id = b.customer_id\nINNER JOIN \n  workspace.ifood_bronze.consumers c\n    ON c.customer_id = b.customer_id\nWHERE\n  date_format(c.created_at, 'MM-yyyy') = '01-2018'\n  AND\n    CASE\n      WHEN b.delivery_address_state IN ('SP', 'RJ', 'MG', 'ES') THEN 'Sudeste'\n      WHEN b.delivery_address_state IN ('RS', 'SC', 'PR') THEN 'Sul'\n      WHEN b.delivery_address_state IN ('DF', 'GO', 'MT', 'MS') THEN 'Centro-Oeste'\n      WHEN b.delivery_address_state IN ('BA', 'PE', 'CE', 'AL', 'RN', 'PB', 'SE', 'PI', 'MA') THEN 'Nordeste'\n      WHEN b.delivery_address_state IN ('AM', 'PA', 'AC') THEN 'Norte'\n      ELSE 'Região desconhecida'\n    END = 'Sudeste'\nGROUP BY \n  a.is_target) SELECT `is_target`,SUM(`ticket_medio`) `column_d60f32a3677` FROM q GROUP BY `is_target`",
       "commandTitle": "Visualization 1",
       "commandType": "auto",
       "commandVersion": 0,
       "commentThread": [],
       "commentsVisible": false,
       "contentSha256Hex": null,
       "customPlotOptions": {
        "redashChart": [
         {
          "key": "type",
          "value": "CHART"
         },
         {
          "key": "options",
          "value": {
           "alignYAxesAtZero": true,
           "coefficient": 1,
           "columnConfigurationMap": {
            "x": {
             "column": "is_target",
             "id": "column_d60f32a3675"
            },
            "y": [
             {
              "column": "ticket_medio",
              "id": "column_d60f32a3677",
              "transform": "SUM"
             }
            ]
           },
           "dateTimeFormat": "DD/MM/YYYY HH:mm",
           "direction": {
            "type": "counterclockwise"
           },
           "error_y": {
            "type": "data",
            "visible": true
           },
           "globalSeriesType": "column",
           "hideYAxes": true,
           "isAggregationOn": true,
           "legend": {
            "traceorder": "normal"
           },
           "missingValuesAsZero": true,
           "numberFormat": "0,0.[00000]",
           "percentFormat": "0[.]00%",
           "series": {
            "error_y": {
             "type": "data",
             "visible": true
            },
            "stacking": null
           },
           "seriesOptions": {
            "column_d60f32a3677": {
             "color": "#FFAB00",
             "type": "column",
             "yAxis": 0
            }
           },
           "showDataLabels": false,
           "sizemode": "diameter",
           "sortX": true,
           "sortY": true,
           "swappedAxes": true,
           "textFormat": "",
           "useAggregationsUi": true,
           "valuesOptions": {},
           "version": 2,
           "xAxis": {
            "labels": {
             "enabled": true
            },
            "title": {
             "text": " "
            },
            "type": "-"
           },
           "yAxis": [
            {
             "type": "-"
            },
            {
             "opposite": true,
             "type": "-"
            }
           ]
          }
         }
        ]
       },
       "datasetPreviewNameToCmdIdMap": {},
       "diffDeletes": [],
       "diffInserts": [],
       "displayType": "redashChart",
       "error": null,
       "errorDetails": null,
       "errorSummary": null,
       "errorTraceType": null,
       "finishTime": 0,
       "globalVars": {},
       "guid": "",
       "height": "auto",
       "hideCommandCode": false,
       "hideCommandResult": false,
       "iPythonMetadata": null,
       "inputWidgets": {},
       "isLockedInExamMode": false,
       "latestUser": "a user",
       "latestUserId": null,
       "listResultMetadata": null,
       "metadata": {},
       "nuid": "f062b909-a0aa-47e2-b20c-45bd2c0b949d",
       "origId": 0,
       "parentHierarchy": [],
       "pivotAggregation": null,
       "pivotColumns": null,
       "position": 15.999999970197678,
       "resultDbfsErrorMessage": null,
       "resultDbfsStatus": "INLINED_IN_TREE",
       "results": null,
       "showCommandTitle": false,
       "startTime": 0,
       "state": "input",
       "streamStates": {},
       "subcommandOptions": {
        "queryPlan": {
         "groups": [
          {
           "column": "is_target",
           "type": "column"
          }
         ],
         "selects": [
          {
           "column": "is_target",
           "type": "column"
          },
          {
           "alias": "column_d60f32a3677",
           "args": [
            {
             "column": "ticket_medio",
             "type": "column"
            }
           ],
           "function": "SUM",
           "type": "function"
          }
         ]
        }
       },
       "submitTime": 0,
       "subtype": "tableResultSubCmd.visualization",
       "tableResultIndex": 0,
       "tableResultSettingsMap": {},
       "useConsistentColors": false,
       "version": "CommandV1",
       "width": "auto",
       "workflows": [],
       "xColumns": null,
       "yColumns": null
      }
     },
     "output_type": "display_data"
    }
   ],
   "source": [
    "%sql\n",
    "SELECT \n",
    "  a.is_target, \n",
    "  SUM(b.order_total_amount) AS receita_total, \n",
    "  COUNT(DISTINCT b.customer_id) AS clientes, \n",
    "  SUM(b.order_total_amount) / COUNT(DISTINCT b.customer_id) AS ticket_medio\n",
    "FROM \n",
    "  workspace.ifood_bronze.orders b\n",
    "-- Realiza junção entre tabelas para agregar atributos adicionais \n",
    "INNER JOIN \n",
    "  workspace.default.ab_test_ref a\n",
    "    ON a.customer_id = b.customer_id\n",
    "-- Realiza junção entre tabelas para agregar atributos adicionais \n",
    "INNER JOIN \n",
    "  workspace.ifood_bronze.consumers c\n",
    "    ON c.customer_id = b.customer_id\n",
    "-- Aplica filtros nos dados para considerar apenas registros relevantes ao experimento\n",
    "WHERE\n",
    "  date_format(c.created_at, 'MM-yyyy') = '01-2018'\n",
    "  AND\n",
    "    CASE\n",
    "      WHEN b.delivery_address_state IN ('SP', 'RJ', 'MG', 'ES') THEN 'Sudeste'\n",
    "      WHEN b.delivery_address_state IN ('RS', 'SC', 'PR') THEN 'Sul'\n",
    "      WHEN b.delivery_address_state IN ('DF', 'GO', 'MT', 'MS') THEN 'Centro-Oeste'\n",
    "      WHEN b.delivery_address_state IN ('BA', 'PE', 'CE', 'AL', 'RN', 'PB', 'SE', 'PI', 'MA') THEN 'Nordeste'\n",
    "      WHEN b.delivery_address_state IN ('AM', 'PA', 'AC') THEN 'Norte'\n",
    "      ELSE 'Região desconhecida'\n",
    "    END = 'Sudeste'\n",
    "-- Agrupa os dados para cálculo de métricas agregadas\n",
    "GROUP BY \n",
    "  a.is_target"
   ]
  },
  {
   "cell_type": "markdown",
   "metadata": {
    "application/vnd.databricks.v1+cell": {
     "cellMetadata": {},
     "inputWidgets": {},
     "nuid": "d8443046-ea64-44a9-b060-83745350390e",
     "showTitle": false,
     "tableResultSettingsMap": {},
     "title": ""
    }
   },
   "source": [
    "O ticket médio do PA é 11,6% maior do que do GC."
   ]
  },
  {
   "cell_type": "code",
   "execution_count": 0,
   "metadata": {
    "application/vnd.databricks.v1+cell": {
     "cellMetadata": {
      "byteLimit": 2048000,
      "implicitDf": true,
      "rowLimit": 10000
     },
     "inputWidgets": {},
     "nuid": "e53cec9b-10af-4c6d-aca9-4a2fe7048e16",
     "showTitle": false,
     "tableResultSettingsMap": {},
     "title": ""
    }
   },
   "outputs": [
    {
     "output_type": "display_data",
     "data": {
      "text/html": [
       "<style scoped>\n",
       "  .table-result-container {\n",
       "    max-height: 300px;\n",
       "    overflow: auto;\n",
       "  }\n",
       "  table, th, td {\n",
       "    border: 1px solid black;\n",
       "    border-collapse: collapse;\n",
       "  }\n",
       "  th, td {\n",
       "    padding: 5px;\n",
       "  }\n",
       "  th {\n",
       "    text-align: left;\n",
       "  }\n",
       "</style><div class='table-result-container'><table class='table-result'><thead style='background-color: white'><tr><th>is_target</th><th>pedidos</th><th>clientes</th><th>pedidos_cliente</th></tr></thead><tbody><tr><td>control</td><td>414705</td><td>123320</td><td>3.362836522867337</td></tr><tr><td>target</td><td>598049</td><td>158721</td><td>3.767926109336509</td></tr></tbody></table></div>"
      ]
     },
     "metadata": {
      "application/vnd.databricks.v1+output": {
       "addedWidgets": {},
       "aggData": [],
       "aggError": "",
       "aggOverflow": false,
       "aggSchema": [],
       "aggSeriesLimitReached": false,
       "aggType": "",
       "arguments": {},
       "columnCustomDisplayInfos": {},
       "data": [
        [
         "control",
         414705,
         123320,
         3.362836522867337
        ],
        [
         "target",
         598049,
         158721,
         3.767926109336509
        ]
       ],
       "datasetInfos": [
        {
         "name": "_sqldf",
         "schema": {
          "fields": [
           {
            "metadata": {},
            "name": "is_target",
            "nullable": true,
            "type": "string"
           },
           {
            "metadata": {},
            "name": "pedidos",
            "nullable": false,
            "type": "long"
           },
           {
            "metadata": {},
            "name": "clientes",
            "nullable": false,
            "type": "long"
           },
           {
            "metadata": {},
            "name": "pedidos_cliente",
            "nullable": true,
            "type": "double"
           }
          ],
          "type": "struct"
         },
         "tableIdentifier": null,
         "typeStr": "pyspark.sql.connect.dataframe.DataFrame"
        }
       ],
       "dbfsResultPath": null,
       "isJsonSchema": true,
       "metadata": {
        "createTempViewForImplicitDf": true,
        "dataframeName": "_sqldf",
        "executionCount": 62
       },
       "overflow": false,
       "plotOptions": {
        "customPlotOptions": {},
        "displayType": "table",
        "pivotAggregation": null,
        "pivotColumns": null,
        "xColumns": null,
        "yColumns": null
       },
       "removedWidgets": [],
       "schema": [
        {
         "metadata": "{}",
         "name": "is_target",
         "type": "\"string\""
        },
        {
         "metadata": "{}",
         "name": "pedidos",
         "type": "\"long\""
        },
        {
         "metadata": "{}",
         "name": "clientes",
         "type": "\"long\""
        },
        {
         "metadata": "{}",
         "name": "pedidos_cliente",
         "type": "\"double\""
        }
       ],
       "type": "table"
      }
     },
     "output_type": "display_data"
    },
    {
     "output_type": "display_data",
     "data": {
      "text/plain": [
       "Databricks visualization. Run in Databricks to view."
      ]
     },
     "metadata": {
      "application/vnd.databricks.v1.subcommand+json": {
       "baseErrorDetails": null,
       "bindings": {},
       "collapsed": false,
       "command": "%sql WITH q AS (SELECT \n  a.is_target, \n  count(distinct b.order_id) as pedidos, \n  count(distinct b.customer_id) as clientes, \n  count(distinct b.order_id) / count(distinct b.customer_id) as pedidos_cliente\nFROM \n  workspace.ifood_bronze.orders b\nINNER JOIN \n  workspace.default.ab_test_ref a\n    ON a.customer_id = b.customer_id\nINNER JOIN \n  workspace.ifood_bronze.consumers c\n    ON c.customer_id = b.customer_id\nWHERE\n  date_format(c.created_at, 'MM-yyyy') = '01-2018'\n  AND\n    CASE\n      WHEN b.delivery_address_state IN ('SP', 'RJ', 'MG', 'ES') THEN 'Sudeste'\n      WHEN b.delivery_address_state IN ('RS', 'SC', 'PR') THEN 'Sul'\n      WHEN b.delivery_address_state IN ('DF', 'GO', 'MT', 'MS') THEN 'Centro-Oeste'\n      WHEN b.delivery_address_state IN ('BA', 'PE', 'CE', 'AL', 'RN', 'PB', 'SE', 'PI', 'MA') THEN 'Nordeste'\n      WHEN b.delivery_address_state IN ('AM', 'PA', 'AC') THEN 'Norte'\n      ELSE 'Região desconhecida'\n    END = 'Sudeste'\nGROUP BY \n  a.is_target) SELECT `is_target`,SUM(`pedidos_cliente`) `column_d60f32a3681` FROM q GROUP BY `is_target`",
       "commandTitle": "Visualization 1",
       "commandType": "auto",
       "commandVersion": 0,
       "commentThread": [],
       "commentsVisible": false,
       "contentSha256Hex": null,
       "customPlotOptions": {
        "redashChart": [
         {
          "key": "type",
          "value": "CHART"
         },
         {
          "key": "options",
          "value": {
           "alignYAxesAtZero": true,
           "coefficient": 1,
           "columnConfigurationMap": {
            "x": {
             "column": "is_target",
             "id": "column_d60f32a3679"
            },
            "y": [
             {
              "column": "pedidos_cliente",
              "id": "column_d60f32a3681",
              "transform": "SUM"
             }
            ]
           },
           "dateTimeFormat": "DD/MM/YYYY HH:mm",
           "direction": {
            "type": "counterclockwise"
           },
           "error_y": {
            "type": "data",
            "visible": true
           },
           "globalSeriesType": "column",
           "hideYAxes": true,
           "isAggregationOn": true,
           "legend": {
            "traceorder": "normal"
           },
           "missingValuesAsZero": true,
           "numberFormat": "0,0.[00000]",
           "percentFormat": "0[.]00%",
           "series": {
            "error_y": {
             "type": "data",
             "visible": true
            },
            "stacking": null
           },
           "seriesOptions": {
            "column_d60f32a3681": {
             "color": "#FFAB00",
             "type": "column",
             "yAxis": 0
            }
           },
           "showDataLabels": false,
           "sizemode": "diameter",
           "sortX": true,
           "sortY": true,
           "swappedAxes": true,
           "textFormat": "",
           "useAggregationsUi": true,
           "valuesOptions": {},
           "version": 2,
           "xAxis": {
            "labels": {
             "enabled": true
            },
            "title": {
             "text": " "
            },
            "type": "-"
           },
           "yAxis": [
            {
             "type": "-"
            },
            {
             "opposite": true,
             "type": "-"
            }
           ]
          }
         }
        ]
       },
       "datasetPreviewNameToCmdIdMap": {},
       "diffDeletes": [],
       "diffInserts": [],
       "displayType": "redashChart",
       "error": null,
       "errorDetails": null,
       "errorSummary": null,
       "errorTraceType": null,
       "finishTime": 0,
       "globalVars": {},
       "guid": "",
       "height": "auto",
       "hideCommandCode": false,
       "hideCommandResult": false,
       "iPythonMetadata": null,
       "inputWidgets": {},
       "isLockedInExamMode": false,
       "latestUser": "a user",
       "latestUserId": null,
       "listResultMetadata": null,
       "metadata": {},
       "nuid": "aead28b2-47cc-49b2-9c2b-539559aba9df",
       "origId": 0,
       "parentHierarchy": [],
       "pivotAggregation": null,
       "pivotColumns": null,
       "position": 16.999999970197678,
       "resultDbfsErrorMessage": null,
       "resultDbfsStatus": "INLINED_IN_TREE",
       "results": null,
       "showCommandTitle": false,
       "startTime": 0,
       "state": "input",
       "streamStates": {},
       "subcommandOptions": {
        "queryPlan": {
         "groups": [
          {
           "column": "is_target",
           "type": "column"
          }
         ],
         "selects": [
          {
           "column": "is_target",
           "type": "column"
          },
          {
           "alias": "column_d60f32a3681",
           "args": [
            {
             "column": "pedidos_cliente",
             "type": "column"
            }
           ],
           "function": "SUM",
           "type": "function"
          }
         ]
        }
       },
       "submitTime": 0,
       "subtype": "tableResultSubCmd.visualization",
       "tableResultIndex": 0,
       "tableResultSettingsMap": {},
       "useConsistentColors": false,
       "version": "CommandV1",
       "width": "auto",
       "workflows": [],
       "xColumns": null,
       "yColumns": null
      }
     },
     "output_type": "display_data"
    }
   ],
   "source": [
    "%sql\n",
    "SELECT \n",
    "  a.is_target, \n",
    "  count(distinct b.order_id) as pedidos, \n",
    "  count(distinct b.customer_id) as clientes, \n",
    "  count(distinct b.order_id) / count(distinct b.customer_id) as pedidos_cliente\n",
    "FROM \n",
    "  workspace.ifood_bronze.orders b\n",
    "-- Realiza junção entre tabelas para agregar atributos adicionais \n",
    "INNER JOIN \n",
    "  workspace.default.ab_test_ref a\n",
    "    ON a.customer_id = b.customer_id\n",
    "-- Realiza junção entre tabelas para agregar atributos adicionais \n",
    "INNER JOIN \n",
    "  workspace.ifood_bronze.consumers c\n",
    "    ON c.customer_id = b.customer_id\n",
    "-- Aplica filtros nos dados para considerar apenas registros relevantes ao experimento\n",
    "WHERE\n",
    "  date_format(c.created_at, 'MM-yyyy') = '01-2018'\n",
    "  AND\n",
    "    CASE\n",
    "      WHEN b.delivery_address_state IN ('SP', 'RJ', 'MG', 'ES') THEN 'Sudeste'\n",
    "      WHEN b.delivery_address_state IN ('RS', 'SC', 'PR') THEN 'Sul'\n",
    "      WHEN b.delivery_address_state IN ('DF', 'GO', 'MT', 'MS') THEN 'Centro-Oeste'\n",
    "      WHEN b.delivery_address_state IN ('BA', 'PE', 'CE', 'AL', 'RN', 'PB', 'SE', 'PI', 'MA') THEN 'Nordeste'\n",
    "      WHEN b.delivery_address_state IN ('AM', 'PA', 'AC') THEN 'Norte'\n",
    "      ELSE 'Região desconhecida'\n",
    "    END = 'Sudeste'\n",
    "-- Agrupa os dados para cálculo de métricas agregadas\n",
    "GROUP BY \n",
    "  a.is_target"
   ]
  },
  {
   "cell_type": "markdown",
   "metadata": {
    "application/vnd.databricks.v1+cell": {
     "cellMetadata": {},
     "inputWidgets": {},
     "nuid": "b9d57bf0-e805-48bc-a82b-a52d9abde27e",
     "showTitle": false,
     "tableResultSettingsMap": {},
     "title": ""
    }
   },
   "source": [
    "A frequência de pedidos por cliente do PA foi 11,9% maior do que do GC."
   ]
  },
  {
   "cell_type": "markdown",
   "metadata": {
    "application/vnd.databricks.v1+cell": {
     "cellMetadata": {},
     "inputWidgets": {},
     "nuid": "34e5a131-0c80-4002-878e-571b53f41ccb",
     "showTitle": false,
     "tableResultSettingsMap": {},
     "title": ""
    }
   },
   "source": [
    "### 5.3 Resumo dos novos segmentos"
   ]
  },
  {
   "cell_type": "markdown",
   "metadata": {
    "application/vnd.databricks.v1+cell": {
     "cellMetadata": {},
     "inputWidgets": {},
     "nuid": "fe8b9370-222c-46f8-befc-280b6605586b",
     "showTitle": false,
     "tableResultSettingsMap": {},
     "title": ""
    }
   },
   "source": [
    "| Segmento               | Diferença no Ticket Médio | Significância (Ticket) | Diferença na Frequência de Pedidos | Significância (Frequência) |\n",
    "| ---------------------- | ------------------------- | ---------------------- | ---------------------------------- | -------------------------- |\n",
    "| **Sudeste Gourmet**    | **+9,7%** (R\\$ 266,07)    | ✅ Alta                 | **+4,4%** (+0,0859)                | ✅ Significativa            |\n",
    "| **Veteranos Gourmet**  | **+2,6%** (R\\$ 6,51)      | ⚠️ Limítrofe           | **+2,7%** (+0,0579)                | ⚠️ Baixa            |\n",
    "| **Food Fiéis Sudeste** | **+11,6%** (R\\$ 30,38)    | ✅ Alta                 | **+11,9%** (+0,4051)               | ✅ Significativa     |\n"
   ]
  },
  {
   "cell_type": "markdown",
   "metadata": {
    "application/vnd.databricks.v1+cell": {
     "cellMetadata": {},
     "inputWidgets": {},
     "nuid": "e93bb71d-fbd2-41ad-9247-032e72fc557d",
     "showTitle": false,
     "tableResultSettingsMap": {},
     "title": ""
    }
   },
   "source": [
    "## 6. Questão 3\n",
    "Com base na análise que realizou nas questões 1 e 2, sugira os próximos passos que o iFood deve tomar. Lembre-se que você precisa defender suas sugestões para as lideranças de Negócio, por isso não esqueça de incluir uma previsão de impacto (financeiro ou não) caso o iFood siga com a sua recomendação. Fique à vontade para sugerir melhorias no processo/teste e para propor diferentes estratégias de acordo com cada segmento de usuário. "
   ]
  },
  {
   "cell_type": "markdown",
   "metadata": {
    "application/vnd.databricks.v1+cell": {
     "cellMetadata": {},
     "inputWidgets": {},
     "nuid": "adad4823-5dae-492f-9678-6f366572011a",
     "showTitle": false,
     "tableResultSettingsMap": {},
     "title": ""
    }
   },
   "source": [
    "**1 - Escalar a campanha para o segmento “Sudeste Gourmet”**\n",
    "\n",
    "- Motivo: Maior ticket médio absoluto entre os grupos (R$ 3.006,51), 9,7% superior ao controle, e frequência também maior (+4,4%), ambos com alta significância estatística.\n",
    "- Impacto previsto: A cada 100 mil clientes atingidos, a ação pode gerar até R$ 26,6 milhões em receita incremental bruta, com investimento de apenas R$ 1 milhão em cupons (R$ 10 por cliente).\n",
    "- Ação sugerida: Expandir nacionalmente para clientes com perfil semelhante (alta propensão de gasto e frequência elevada), testando diferentes valores de cupom para otimização de custo-benefício.\n",
    "\n",
    "**2 - Reforçar campanhas com o grupo “Food Fiéis Sudeste”**\n",
    "\n",
    "- Motivo: Ticket médio 11,6% superior ao GC e frequência 11,9% maior, com a maior base de clientes entre os grupos analisados (158 mil).\n",
    "- Impacto previsto: Alto volume de receita incremental ao longo do tempo, se trabalhado com estratégia de retenção contínua (ex: cupons sazonais, gamificação ou cashback).\n",
    "- Ação sugerida: Criar jornadas de CRM mais longas para esse público, combinando incentivo com reconhecimento (ex: selo de fidelidade, pushs personalizados, badges no app).\n",
    "\n",
    "**3 - Aprofundar o teste no grupo “Veteranos Gourmet”**\n",
    "- Motivo: Ticket médio e frequência superiores ao controle, mas com impacto marginal.\n",
    "- Ação sugerida: Aplicar testes A/B com variações de abordagem, como:\n",
    "- Comunicação emocional voltada à fidelidade (\"Você está com a gente desde o começo\")\n",
    "- Incentivos não-financeiros (ex: prioridade em lançamento de funcionalidades, entrega expressa)\n",
    "- Objetivo: Identificar se o comportamento desse grupo é mais sensível a outros tipos de estímulo que não apenas cupons.\n",
    "\n",
    "**4 -  Melhorias nos processos de teste e segmentação**\n",
    "- Padronizar critérios de segmentação entre áreas, garantindo que análises como esta possam ser replicadas e comparadas ao longo do tempo.\n",
    "- Criar um repositório de segmentos validados (ex: cluster “Sudeste Gourmet”) para reuso em campanhas e automação.\n",
    "- Implementar modelos de propensão a engajamento, combinando variáveis como região, histórico de pedidos e perfil de restaurantes consumidos.\n",
    "- Automatizar os testes A/B com pipelines Delta + alertas, para acelerar aprendizado e escalar resultados com agilidade.\n",
    "\n"
   ]
  },
  {
   "cell_type": "markdown",
   "metadata": {
    "application/vnd.databricks.v1+cell": {
     "cellMetadata": {},
     "inputWidgets": {},
     "nuid": "d5f6f942-dc5e-439a-bd97-33fb85b7b9e0",
     "showTitle": false,
     "tableResultSettingsMap": {},
     "title": ""
    }
   },
   "source": [
    "## 7. Considerações finais\n",
    "\n",
    "Com base nas análises realizadas, recomenda-se escalar a campanha de cupons para segmentos com maior retorno validado, como o Sudeste Gourmet, que apresentou ticket médio 9,7% maior e ROI estimado em 99x, e o grupo Food Fiéis Sudeste, com aumentos significativos em ticket e frequência. A segmentação permitiu identificar públicos com alto potencial de receita e engajamento, reforçando a importância de estratégias personalizadas. Sugere-se ainda testar variações de incentivo (ex: cupons menores ou cashback) e ampliar ações para retenção de clientes veteranos. Por fim, padronizar os critérios de segmentação entre áreas e automatizar testes A/B com pipelines pode acelerar aprendizados e maximizar resultados futuros."
   ]
  }
 ],
 "metadata": {
  "application/vnd.databricks.v1+notebook": {
   "computePreferences": {
    "hardware": {
     "accelerator": null,
     "gpuPoolId": null,
     "memory": "HIGH"
    }
   },
   "dashboards": [],
   "environmentMetadata": {
    "base_environment": "",
    "environment_version": "2"
   },
   "inputWidgetPreferences": null,
   "language": "python",
   "notebookMetadata": {
    "mostRecentlyExecutedCommandWithImplicitDF": {
     "commandId": 6214226518988452,
     "dataframes": [
      "_sqldf"
     ]
    },
    "pythonIndentUnit": 4
   },
   "notebookName": "2_Case_iFood_Data_Analysis_AB_Test_comentado_profissional",
   "widgets": {}
  },
  "language_info": {
   "name": "python"
  }
 },
 "nbformat": 4,
 "nbformat_minor": 0
}